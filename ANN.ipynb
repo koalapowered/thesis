{
 "cells": [
  {
   "cell_type": "code",
   "outputs": [],
   "source": [
    "import pandas as pd\n",
    "from annoy import AnnoyIndex\n",
    "import time\n",
    "from sklearn.model_selection import train_test_split\n",
    "from sklearn.metrics import mean_absolute_error, median_absolute_error\n",
    "import numpy as np"
   ],
   "metadata": {
    "collapsed": false,
    "ExecuteTime": {
     "end_time": "2024-05-06T09:11:14.413745400Z",
     "start_time": "2024-05-06T09:11:14.348928200Z"
    }
   },
   "id": "fe0bfee60c3cd1c1",
   "execution_count": 11
  },
  {
   "cell_type": "markdown",
   "source": [
    "Building a basic ANN CF RecSys"
   ],
   "metadata": {
    "collapsed": false
   },
   "id": "9ecd1233c50c2d3b"
  },
  {
   "cell_type": "code",
   "outputs": [],
   "source": [
    "class ANN:\n",
    "    def __init__(self, user_item_matrix, movie_names_path, movies_info_path, num_neighbors=50):\n",
    "        self.num_neighbors = num_neighbors\n",
    "        self.user_item_matrix = user_item_matrix.replace(0.0,np.nan)\n",
    "        self.movies_names = pd.read_csv(movie_names_path)\n",
    "        self.movies_info = pd.read_csv(movies_info_path)\n",
    "        self.factors = user_item_matrix.shape[1]\n",
    "        self.annoy_index = AnnoyIndex(self.factors, 'angular')\n",
    "        self.train()\n",
    "\n",
    "    def train(self):\n",
    "        \"\"\"Builds the Annoy index from user vectors using DataFrame indices as keys.\"\"\"\n",
    "        for idx, user_vector in self.user_item_matrix.iterrows():\n",
    "            vector = user_vector.fillna(0).tolist()\n",
    "            self.annoy_index.add_item(idx, vector)  # Using DataFrame index as the item ID in Annoy\n",
    "        self.annoy_index.build(10)\n",
    "\n",
    "    def test(self, user_input):\n",
    "        \"\"\"Generates predictions based on user input.\"\"\"\n",
    "        query_vector = [0] * self.factors\n",
    "        for movie_id, rating in user_input.items():\n",
    "            if movie_id in self.user_item_matrix.columns:\n",
    "                movie_idx = self.user_item_matrix.columns.get_loc(movie_id)\n",
    "                query_vector[movie_idx] = rating\n",
    "\n",
    "        max_neighbors = min(self.num_neighbors, len(self.user_item_matrix) - 1)\n",
    "        nearest_neighbors = self.annoy_index.get_nns_by_vector(query_vector, max_neighbors, include_distances=False)\n",
    "\n",
    "        if not nearest_neighbors:\n",
    "            return pd.Series()  # Return an empty series if no neighbors are found\n",
    "\n",
    "        neighbor_ratings = self.user_item_matrix.loc[nearest_neighbors].mean(axis=0)\n",
    "        return neighbor_ratings\n"
   ],
   "metadata": {
    "collapsed": false,
    "ExecuteTime": {
     "end_time": "2024-05-06T09:11:14.443365600Z",
     "start_time": "2024-05-06T09:11:14.430864400Z"
    }
   },
   "id": "93220b3f1705fd10",
   "execution_count": 12
  },
  {
   "cell_type": "code",
   "outputs": [],
   "source": [
    "def run_experiments(user_item_matrix, all_combinations_movie_ids, until, test_size=0.2):\n",
    "    results = []\n",
    "    for combination in all_combinations_movie_ids[until-9:until]:\n",
    "        print(f'Processing combination: {combination}')\n",
    "        start_time = time.time()\n",
    "        \n",
    "        user_id_stay = df_t.loc[:, df_t.columns.isin(combination)].replace(0.0,np.nan).dropna(how='any', axis=0).index.values\n",
    "        df_tc = df_t.copy()\n",
    "        df_tc['user_id_stay'] = 0\n",
    "        df_tc.loc[user_id_stay, 'user_id_stay'] = 1\n",
    "\n",
    "        train_df, test_df = train_test_split(df_tc, test_size=test_size, stratify=df_tc['user_id_stay'])\n",
    "        \n",
    "        \n",
    "        print(f\"training.... - time = {time.time() - start_time}\")\n",
    "        # Train only on the movies in the combination for this experiment\n",
    "        ann = ANN(train_df.drop(columns='user_id_stay'), 'ml-latest/movies.csv', 'suitable_movies.csv')\n",
    "        #ann.train(train_df)\n",
    "        \n",
    "        print(f\"predicting.... - time = {time.time() - start_time}\")\n",
    "        rmses, maes, med_aes = [], [], []\n",
    "        test_df = test_df[test_df.user_id_stay != 0]\n",
    "        test_df.drop(columns='user_id_stay')\n",
    "        for user_id in test_df.index:\n",
    "            # User input ratings for combination movies\n",
    "            user_row = test_df.loc[user_id]\n",
    "            #print(user_row)\n",
    "            user_input = test_df.loc[user_id, combination].replace(0.0,np.nan).dropna().to_dict()\n",
    "            #print(f'user_input - {user_input}')\n",
    "            user_test_ = test_df.loc[user_id].replace(0.0,np.nan).dropna().drop('user_id_stay').to_dict()\n",
    "            \n",
    "            # Predict ratings for all movies based on the combination\n",
    "            predicted_ratings = ann.test(user_input)\n",
    "\n",
    "            # Actual ratings not in the combination for evaluation\n",
    "            actual_ratings = {movie:float(rating) for movie, rating in user_test_.items() if movie not in user_input.keys()}\n",
    "            predicted_ratings = predicted_ratings.loc[actual_ratings.keys()] # -> works\n",
    "\n",
    "            actual_ratings_series = pd.Series(actual_ratings)\n",
    "            #print(actual_ratings_series)\n",
    "            predicted_ratings_series = predicted_ratings.loc[actual_ratings_series.index]  # This aligns the indices\n",
    "            #print(predicted_ratings_series)\n",
    "            # Now calculate RMSE, MAE, and Median AE using Series directly:\n",
    "            if not predicted_ratings_series.empty:\n",
    "                valid = ~actual_ratings_series.isna() & ~predicted_ratings_series.isna()  # Filter out NaN values from both Series\n",
    "                if valid.any():\n",
    "                    rmse = np.sqrt(np.mean((predicted_ratings_series[valid] - actual_ratings_series[valid]) ** 2))\n",
    "                    mae = mean_absolute_error(actual_ratings_series[valid], predicted_ratings_series[valid])\n",
    "                    med_ae = median_absolute_error(actual_ratings_series[valid], predicted_ratings_series[valid])\n",
    "                    rmses.append(rmse)\n",
    "                    maes.append(mae)\n",
    "                    med_aes.append(med_ae)\n",
    "        print(f\"appending results.... - time = {time.time() - start_time}\")\n",
    "        results.append({\n",
    "            \"Combination\": combination,\n",
    "            \"Average RMSE\": np.mean(rmses) if rmses else None,\n",
    "            \"RMSE StDev\": np.std(rmses) if rmses else None,\n",
    "            \"Average MAE\": np.mean(maes) if maes else None,\n",
    "            \"Median Absolute Error\": np.median(med_aes) if med_aes else None,\n",
    "            \"Processing Time\": time.time() - start_time\n",
    "        })\n",
    "\n",
    "    results_df = pd.DataFrame(results)\n",
    "    return results_df"
   ],
   "metadata": {
    "collapsed": false,
    "ExecuteTime": {
     "end_time": "2024-05-06T09:11:14.494922600Z",
     "start_time": "2024-05-06T09:11:14.452500900Z"
    }
   },
   "id": "238da23ed518cdf6",
   "execution_count": 13
  },
  {
   "cell_type": "markdown",
   "source": [
    "Now for testing..."
   ],
   "metadata": {
    "collapsed": false
   },
   "id": "a37158ee1991f712"
  },
  {
   "cell_type": "markdown",
   "source": [
    "Find the appropriate user tests that we filtered out in \"creating_test_users\""
   ],
   "metadata": {
    "collapsed": false
   },
   "id": "e9b76f68e451442c"
  },
  {
   "cell_type": "code",
   "outputs": [
    {
     "name": "stdout",
     "output_type": "stream",
     "text": [
      "The Top 6 genres (['Drama' 'Comedy' 'Thriller' 'Horror' 'Sci-Fi' 'Action']) make up for 96.12361676805486 % of the ratings given\n"
     ]
    }
   ],
   "source": [
    "df = pd.read_csv('suitable_movies.csv')\n",
    "df_movies = pd.read_csv('ml-latest/movies.csv')\n",
    "df = df.join(df_movies.set_index('movieId'), on='movieId')\n",
    "top_6_genres_ordered = df.copy().groupby(['suitable_genre']).sum().sort_values(by='no_people_rated', ascending=False).head(6).index.values\n",
    "amt_overall = df.copy().groupby(['suitable_genre']).sum().sort_values(by='no_people_rated', ascending=False)[\"no_people_rated\"]\n",
    "print(f'The Top 6 genres ({top_6_genres_ordered}) make up for {amt_overall.head(6).sum()*100/amt_overall.sum()} % of the ratings given')"
   ],
   "metadata": {
    "collapsed": false,
    "ExecuteTime": {
     "end_time": "2024-05-06T09:11:14.742736Z",
     "start_time": "2024-05-06T09:11:14.465673300Z"
    }
   },
   "id": "2fd104b6420ada79",
   "execution_count": 14
  },
  {
   "cell_type": "markdown",
   "source": [
    "Now for each of the genres let's pick movies that we assume our future user in the user study to know - it has to be popular and therefore influenced by the popularity bias but it is better then not knowing the movie and not giving a rating or an irrepresentative rating."
   ],
   "metadata": {
    "collapsed": false
   },
   "id": "a035e8f020f416b9"
  },
  {
   "cell_type": "markdown",
   "source": [
    "let's see the most rated moveis from each of the most popular categories"
   ],
   "metadata": {
    "collapsed": false
   },
   "id": "d0c458a996de79ca"
  },
  {
   "cell_type": "code",
   "outputs": [
    {
     "data": {
      "text/plain": "      movieId       userId    rating        timestamp  no_people_rated  \\\n0        1203   3738563090   96992.5   29894679700250            22730   \n1         527  13929219732  357340.5  103671567916204            84232   \n2        1193   8118516317  207758.5   61568690477830            49316   \n3         750   5650978895  144160.5   42473159316615            34324   \n4       26082    213092748    5374.0    1897779020524             1282   \n...       ...          ...       ...              ...              ...   \n1073     1981    243854131    2772.0    1714465547406             1495   \n1074     1760    552474506    6083.5    3830780656494             3317   \n1075     6482    381293121    4065.5    2992591178695             2292   \n1076     2555    285063817    2896.5    1898360097339             1679   \n1077    57532    194063825    1903.0    1636766416042             1172   \n\n      avg_rating suitable_genre  \\\n0       4.267158          Drama   \n1       4.242337          Drama   \n2       4.212801          Drama   \n3       4.199991         Comedy   \n4       4.191888          Drama   \n...          ...            ...   \n1073    1.854181         Horror   \n1074    1.834037         Comedy   \n1075    1.773778         Comedy   \n1076    1.725134         Comedy   \n1077    1.623720         Comedy   \n\n                                                  title      genres  \n0                                   12 Angry Men (1957)       Drama  \n1                               Schindler's List (1993)   Drama|War  \n2                One Flew Over the Cuckoo's Nest (1975)       Drama  \n3     Dr. Strangelove or: How I Learned to Stop Worr...  Comedy|War  \n4                             Harakiri (Seppuku) (1962)       Drama  \n...                                                 ...         ...  \n1073  Friday the 13th Part VIII: Jason Takes Manhatt...      Horror  \n1074                                 Spice World (1997)      Comedy  \n1075     Dumb and Dumberer: When Harry Met Lloyd (2003)      Comedy  \n1076                               Baby Geniuses (1999)      Comedy  \n1077                           Meet the Spartans (2008)      Comedy  \n\n[1078 rows x 9 columns]",
      "text/html": "<div>\n<style scoped>\n    .dataframe tbody tr th:only-of-type {\n        vertical-align: middle;\n    }\n\n    .dataframe tbody tr th {\n        vertical-align: top;\n    }\n\n    .dataframe thead th {\n        text-align: right;\n    }\n</style>\n<table border=\"1\" class=\"dataframe\">\n  <thead>\n    <tr style=\"text-align: right;\">\n      <th></th>\n      <th>movieId</th>\n      <th>userId</th>\n      <th>rating</th>\n      <th>timestamp</th>\n      <th>no_people_rated</th>\n      <th>avg_rating</th>\n      <th>suitable_genre</th>\n      <th>title</th>\n      <th>genres</th>\n    </tr>\n  </thead>\n  <tbody>\n    <tr>\n      <th>0</th>\n      <td>1203</td>\n      <td>3738563090</td>\n      <td>96992.5</td>\n      <td>29894679700250</td>\n      <td>22730</td>\n      <td>4.267158</td>\n      <td>Drama</td>\n      <td>12 Angry Men (1957)</td>\n      <td>Drama</td>\n    </tr>\n    <tr>\n      <th>1</th>\n      <td>527</td>\n      <td>13929219732</td>\n      <td>357340.5</td>\n      <td>103671567916204</td>\n      <td>84232</td>\n      <td>4.242337</td>\n      <td>Drama</td>\n      <td>Schindler's List (1993)</td>\n      <td>Drama|War</td>\n    </tr>\n    <tr>\n      <th>2</th>\n      <td>1193</td>\n      <td>8118516317</td>\n      <td>207758.5</td>\n      <td>61568690477830</td>\n      <td>49316</td>\n      <td>4.212801</td>\n      <td>Drama</td>\n      <td>One Flew Over the Cuckoo's Nest (1975)</td>\n      <td>Drama</td>\n    </tr>\n    <tr>\n      <th>3</th>\n      <td>750</td>\n      <td>5650978895</td>\n      <td>144160.5</td>\n      <td>42473159316615</td>\n      <td>34324</td>\n      <td>4.199991</td>\n      <td>Comedy</td>\n      <td>Dr. Strangelove or: How I Learned to Stop Worr...</td>\n      <td>Comedy|War</td>\n    </tr>\n    <tr>\n      <th>4</th>\n      <td>26082</td>\n      <td>213092748</td>\n      <td>5374.0</td>\n      <td>1897779020524</td>\n      <td>1282</td>\n      <td>4.191888</td>\n      <td>Drama</td>\n      <td>Harakiri (Seppuku) (1962)</td>\n      <td>Drama</td>\n    </tr>\n    <tr>\n      <th>...</th>\n      <td>...</td>\n      <td>...</td>\n      <td>...</td>\n      <td>...</td>\n      <td>...</td>\n      <td>...</td>\n      <td>...</td>\n      <td>...</td>\n      <td>...</td>\n    </tr>\n    <tr>\n      <th>1073</th>\n      <td>1981</td>\n      <td>243854131</td>\n      <td>2772.0</td>\n      <td>1714465547406</td>\n      <td>1495</td>\n      <td>1.854181</td>\n      <td>Horror</td>\n      <td>Friday the 13th Part VIII: Jason Takes Manhatt...</td>\n      <td>Horror</td>\n    </tr>\n    <tr>\n      <th>1074</th>\n      <td>1760</td>\n      <td>552474506</td>\n      <td>6083.5</td>\n      <td>3830780656494</td>\n      <td>3317</td>\n      <td>1.834037</td>\n      <td>Comedy</td>\n      <td>Spice World (1997)</td>\n      <td>Comedy</td>\n    </tr>\n    <tr>\n      <th>1075</th>\n      <td>6482</td>\n      <td>381293121</td>\n      <td>4065.5</td>\n      <td>2992591178695</td>\n      <td>2292</td>\n      <td>1.773778</td>\n      <td>Comedy</td>\n      <td>Dumb and Dumberer: When Harry Met Lloyd (2003)</td>\n      <td>Comedy</td>\n    </tr>\n    <tr>\n      <th>1076</th>\n      <td>2555</td>\n      <td>285063817</td>\n      <td>2896.5</td>\n      <td>1898360097339</td>\n      <td>1679</td>\n      <td>1.725134</td>\n      <td>Comedy</td>\n      <td>Baby Geniuses (1999)</td>\n      <td>Comedy</td>\n    </tr>\n    <tr>\n      <th>1077</th>\n      <td>57532</td>\n      <td>194063825</td>\n      <td>1903.0</td>\n      <td>1636766416042</td>\n      <td>1172</td>\n      <td>1.623720</td>\n      <td>Comedy</td>\n      <td>Meet the Spartans (2008)</td>\n      <td>Comedy</td>\n    </tr>\n  </tbody>\n</table>\n<p>1078 rows × 9 columns</p>\n</div>"
     },
     "execution_count": 15,
     "metadata": {},
     "output_type": "execute_result"
    }
   ],
   "source": [
    "df"
   ],
   "metadata": {
    "collapsed": false,
    "ExecuteTime": {
     "end_time": "2024-05-06T09:11:14.805737500Z",
     "start_time": "2024-05-06T09:11:14.731609700Z"
    }
   },
   "id": "d196ab3ec0565e3a",
   "execution_count": 15
  },
  {
   "cell_type": "code",
   "outputs": [
    {
     "name": "stdout",
     "output_type": "stream",
     "text": [
      "    suitable_genre  avg_rating  no_people_rated  \\\n",
      "1            Drama    4.242337            84232   \n",
      "2            Drama    4.212801            49316   \n",
      "473          Drama    3.594554            37698   \n",
      "147          Drama    3.912192            36557   \n",
      "375          Drama    3.685078            33648   \n",
      "50           Drama    4.049496            33265   \n",
      "125          Drama    3.940875            32558   \n",
      "83           Drama    3.989178            30402   \n",
      "36           Drama    4.067927            26190   \n",
      "227          Drama    3.822344            25738   \n",
      "\n",
      "                                      title  \n",
      "1                   Schindler's List (1993)  \n",
      "2    One Flew Over the Cuckoo's Nest (1975)  \n",
      "473                             Babe (1995)  \n",
      "147                         Rain Man (1988)  \n",
      "375                        Cast Away (2000)  \n",
      "50                 Full Metal Jacket (1987)  \n",
      "125               Dead Poets Society (1989)  \n",
      "83               Requiem for a Dream (2000)  \n",
      "36                           Amadeus (1984)  \n",
      "227                    Almost Famous (2000)  \n",
      "    suitable_genre  avg_rating  no_people_rated  \\\n",
      "862         Comedy    3.000596            47829   \n",
      "767         Comedy    3.179645            35843   \n",
      "148         Comedy    3.911245            34612   \n",
      "3           Comedy    4.199991            34324   \n",
      "206         Comedy    3.841072            28818   \n",
      "88          Comedy    3.983317            28801   \n",
      "535         Comedy    3.524110            26960   \n",
      "975         Comedy    2.668062            26642   \n",
      "637         Comedy    3.392529            26477   \n",
      "252         Comedy    3.797657            26119   \n",
      "\n",
      "                                                 title  \n",
      "862                  Ace Ventura: Pet Detective (1994)  \n",
      "767                                  Home Alone (1990)  \n",
      "148                    Ferris Bueller's Day Off (1986)  \n",
      "3    Dr. Strangelove or: How I Learned to Stop Worr...  \n",
      "206                                      Clerks (1994)  \n",
      "88                 Monty Python's Life of Brian (1979)  \n",
      "535                               Birdcage, The (1996)  \n",
      "975              Ace Ventura: When Nature Calls (1995)  \n",
      "637                            Meet the Parents (2000)  \n",
      "252                                   Airplane! (1980)  \n",
      "    suitable_genre  avg_rating  no_people_rated                       title\n",
      "92        Thriller    3.976876            61732        Fugitive, The (1993)\n",
      "526       Thriller    3.542016            11448            Cape Fear (1991)\n",
      "733       Thriller    3.244343            11357           Panic Room (2002)\n",
      "439       Thriller    3.626587            10949             Sleepers (1996)\n",
      "29        Thriller    4.077384             9188            Spotlight (2015)\n",
      "692       Thriller    3.322649             8923  Bone Collector, The (1999)\n",
      "598       Thriller    3.448593             8491       Arlington Road (1999)\n",
      "328       Thriller    3.733043             6767  10 Cloverfield Lane (2016)\n",
      "643       Thriller    3.383719             5491    Perfect Murder, A (1998)\n",
      "956       Thriller    2.721814             5446               Sliver (1993)\n",
      "    suitable_genre  avg_rating  no_people_rated  \\\n",
      "56          Horror    4.035710            40297   \n",
      "75          Horror    4.001754            11970   \n",
      "493         Horror    3.569940             9930   \n",
      "189         Horror    3.856523             5074   \n",
      "555         Horror    3.508208             5056   \n",
      "678         Horror    3.348414             4885   \n",
      "838         Horror    3.054195             4779   \n",
      "425         Horror    3.645696             4252   \n",
      "289         Horror    3.769993             4089   \n",
      "657         Horror    3.372716             3995   \n",
      "\n",
      "                                                 title  \n",
      "56                                 Shining, The (1980)  \n",
      "75                                      Get Out (2017)  \n",
      "493                                   Halloween (1978)  \n",
      "189  Nosferatu (Nosferatu, eine Symphonie des Graue...  \n",
      "555                                          It (2017)  \n",
      "678                Texas Chainsaw Massacre, The (1974)  \n",
      "838                                Pet Sematary (1989)  \n",
      "425                                  It Follows (2014)  \n",
      "289                                   The Witch (2015)  \n",
      "657                                  Hellraiser (1987)  \n",
      "    suitable_genre  avg_rating  no_people_rated  \\\n",
      "10          Sci-Fi    4.146972            40603   \n",
      "45          Sci-Fi    4.053165            20587   \n",
      "107         Sci-Fi    3.959628            11456   \n",
      "972         Sci-Fi    2.689694             8403   \n",
      "511         Sci-Fi    3.556065             7304   \n",
      "636         Sci-Fi    3.393396             4906   \n",
      "921         Sci-Fi    2.837243             2430   \n",
      "900         Sci-Fi    2.885062             1292   \n",
      "\n",
      "                                     title  \n",
      "10                     Interstellar (2014)  \n",
      "45                          Arrival (2016)  \n",
      "107               Blade Runner 2049 (2017)  \n",
      "972                 Mission to Mars (2000)  \n",
      "511  Dawn of the Planet of the Apes (2014)  \n",
      "636  2010: The Year We Make Contact (1984)  \n",
      "921                 Black Hole, The (1979)  \n",
      "900      Return from Witch Mountain (1978)  \n",
      "     suitable_genre  avg_rating  no_people_rated  \\\n",
      "64           Action    4.028264            18982   \n",
      "883          Action    2.926083             9531   \n",
      "124          Action    3.942234             9452   \n",
      "581          Action    3.473315             6708   \n",
      "858          Action    3.003178             4563   \n",
      "537          Action    3.521528             3298   \n",
      "865          Action    2.978860             3264   \n",
      "1066         Action    1.995547             3144   \n",
      "743          Action    3.229044             2541   \n",
      "707          Action    3.291737             2384   \n",
      "\n",
      "                                                  title  \n",
      "64            Butch Cassidy and the Sundance Kid (1969)  \n",
      "883                Under Siege 2: Dark Territory (1995)  \n",
      "124   Fistful of Dollars, A (Per un pugno di dollari...  \n",
      "581                              American Sniper (2014)  \n",
      "858                                 Sudden Death (1995)  \n",
      "537                                 Jason Bourne (2016)  \n",
      "865                                Young Guns II (1990)  \n",
      "1066     Mighty Morphin Power Rangers: The Movie (1995)  \n",
      "743                                   Bloodsport (1988)  \n",
      "707                             Heartbreak Ridge (1986)  \n"
     ]
    }
   ],
   "source": [
    "for genre in top_6_genres_ordered:\n",
    "    print(df[df['suitable_genre'] == genre].sort_values(by=\"no_people_rated\", ascending=False).head(10)[['suitable_genre', 'avg_rating','no_people_rated','title']])"
   ],
   "metadata": {
    "collapsed": false,
    "ExecuteTime": {
     "end_time": "2024-05-06T09:11:14.807738500Z",
     "start_time": "2024-05-06T09:11:14.755516100Z"
    }
   },
   "id": "1def6422e865d819",
   "execution_count": 16
  },
  {
   "cell_type": "markdown",
   "source": [
    "Since this study does not have a target audience we really need to make these movies staples of the genre - well known, and not neccessarily well-rated. We will rather go by popularity than by ratings"
   ],
   "metadata": {
    "collapsed": false
   },
   "id": "606b318d38b2fc33"
  },
  {
   "cell_type": "code",
   "outputs": [
    {
     "name": "stdout",
     "output_type": "stream",
     "text": [
      "Total combinations: 729\n"
     ]
    }
   ],
   "source": [
    "import itertools\n",
    "\n",
    "movie_lst = [\n",
    "    [None, \"Schindler's List (1993)\", \"Rain Man (1988)\"],  # drama\n",
    "    [None, \"Ace Ventura: Pet Detective (1994)\", \"Home Alone (1990)\"],  # comedy\n",
    "    [None, \"Fugitive, The (1993)\", \"Spotlight (2015)\"],  # thriller\n",
    "    [None, \"Shining, The (1980)\", \"Get Out (2017)\"],  # horror\n",
    "    [None, \"Interstellar (2014)\", \"Arrival (2016)\"],  # sci-fi\n",
    "    [None, \"Butch Cassidy and the Sundance Kid (1969)\", \"Jason Bourne (2016)\"]  # action\n",
    "]\n",
    "\n",
    "all_combinations = list(itertools.product(*movie_lst))\n",
    "all_combinations_movie_ids = []\n",
    "print(f\"Total combinations: {len(all_combinations)}\")\n",
    "\n",
    "# Optionally, print all combinations\n",
    "for combination in all_combinations:\n",
    "    movie_lst = []\n",
    "    for movie in combination:\n",
    "        if movie != None :\n",
    "            movie_lst.append(int(df[df['title'] == movie]['movieId'].values[0]))\n",
    "    all_combinations_movie_ids.append(movie_lst)\n",
    "all_combinations_movie_ids = all_combinations_movie_ids[1:]\n"
   ],
   "metadata": {
    "collapsed": false,
    "ExecuteTime": {
     "end_time": "2024-05-06T09:11:17.086767200Z",
     "start_time": "2024-05-06T09:11:14.798737900Z"
    }
   },
   "id": "ea63d7d950b52ba",
   "execution_count": 17
  },
  {
   "cell_type": "markdown",
   "source": [
    "So for 6 categories and maximum 2 movies per category (the popular ones) - we have 729 train-test cases. This means we will have to train-test with a 80-20 split 729 times"
   ],
   "metadata": {
    "collapsed": false
   },
   "id": "414ad63b8fd427ef"
  },
  {
   "cell_type": "markdown",
   "source": [
    "Granted though that the people who have rated those movies are stratified properly"
   ],
   "metadata": {
    "collapsed": false
   },
   "id": "ee25e63186a608ca"
  },
  {
   "cell_type": "code",
   "outputs": [
    {
     "name": "stdout",
     "output_type": "stream",
     "text": [
      "729\n",
      "Processing combination: [1961, 586, 142488, 168250, 1304]\n",
      "training.... - time = 15.919143199920654\n",
      "predicting.... - time = 100.80968594551086\n",
      "appending results.... - time = 102.04784965515137\n",
      "Processing combination: [1961, 586, 142488, 168250, 160438]\n",
      "training.... - time = 9.51864767074585\n",
      "predicting.... - time = 94.95256567001343\n",
      "appending results.... - time = 95.92509245872498\n",
      "Processing combination: [1961, 586, 142488, 168250, 109487]\n",
      "training.... - time = 6.847895860671997\n",
      "predicting.... - time = 92.60198163986206\n",
      "appending results.... - time = 95.09557819366455\n",
      "Processing combination: [1961, 586, 142488, 168250, 109487, 1304]\n",
      "training.... - time = 7.723654270172119\n",
      "predicting.... - time = 92.98450803756714\n",
      "appending results.... - time = 94.22064256668091\n",
      "Processing combination: [1961, 586, 142488, 168250, 109487, 160438]\n",
      "training.... - time = 6.9492106437683105\n",
      "predicting.... - time = 100.93577218055725\n",
      "appending results.... - time = 101.88849520683289\n",
      "Processing combination: [1961, 586, 142488, 168250, 164179]\n",
      "training.... - time = 7.021768093109131\n",
      "predicting.... - time = 97.06475353240967\n",
      "appending results.... - time = 99.5806930065155\n",
      "Processing combination: [1961, 586, 142488, 168250, 164179, 1304]\n",
      "training.... - time = 7.424489259719849\n",
      "predicting.... - time = 96.52546954154968\n",
      "appending results.... - time = 97.86286091804504\n",
      "Processing combination: [1961, 586, 142488, 168250, 164179, 160438]\n",
      "training.... - time = 7.800008535385132\n",
      "predicting.... - time = 96.99368262290955\n",
      "appending results.... - time = 98.1353988647461\n"
     ]
    }
   ],
   "source": [
    "print(729)\n",
    "df_t = pd.read_pickle(\"sparse_ratings.pkl\").T\n",
    "results_df = run_experiments(df_t, all_combinations_movie_ids, 729)\n",
    "results_df.to_pickle(f'results{729}')"
   ],
   "metadata": {
    "collapsed": false,
    "ExecuteTime": {
     "end_time": "2024-05-06T09:24:26.604214Z",
     "start_time": "2024-05-06T09:11:17.091772400Z"
    }
   },
   "id": "ca60f8d814864e0e",
   "execution_count": 18
  },
  {
   "cell_type": "code",
   "outputs": [],
   "source": [],
   "metadata": {
    "collapsed": false,
    "ExecuteTime": {
     "end_time": "2024-05-06T09:24:26.881888600Z",
     "start_time": "2024-05-06T09:24:26.586101200Z"
    }
   },
   "id": "f18f861b4eb219e6",
   "execution_count": 18
  }
 ],
 "metadata": {
  "kernelspec": {
   "display_name": "Python 3",
   "language": "python",
   "name": "python3"
  },
  "language_info": {
   "codemirror_mode": {
    "name": "ipython",
    "version": 2
   },
   "file_extension": ".py",
   "mimetype": "text/x-python",
   "name": "python",
   "nbconvert_exporter": "python",
   "pygments_lexer": "ipython2",
   "version": "2.7.6"
  }
 },
 "nbformat": 4,
 "nbformat_minor": 5
}
