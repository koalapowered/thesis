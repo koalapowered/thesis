{
 "cells": [
  {
   "cell_type": "code",
   "outputs": [],
   "source": [
    "import pandas as pd\n",
    "import numpy as np\n",
    "from sklearn.metrics import mean_squared_error\n",
    "from annoy import AnnoyIndex\n",
    "from scipy.sparse import csr_matrix, vstack\n",
    "from sklearn.decomposition import TruncatedSVD\n",
    "from sklearn.metrics.pairwise import cosine_similarity\n",
    "import time\n",
    "import matplotlib.pyplot as plt"
   ],
   "metadata": {
    "collapsed": false,
    "ExecuteTime": {
     "end_time": "2024-04-30T09:38:56.165650100Z",
     "start_time": "2024-04-30T09:38:56.153068500Z"
    }
   },
   "id": "fe0bfee60c3cd1c1",
   "execution_count": 42
  },
  {
   "cell_type": "code",
   "outputs": [],
   "source": [
    "user_input_example = {\"Ace Ventura: Pet Detective (1994)\": 4.3,\n",
    "                      \"Interstellar (2014)\": 3,\n",
    "                      \"Schindler's List (1993)\": 3.5,\n",
    "                      \"Home Alone (1990)\": 3.5}\n",
    "\n",
    "num_neighbors = 1000"
   ],
   "metadata": {
    "collapsed": false,
    "ExecuteTime": {
     "end_time": "2024-04-30T09:38:56.219547300Z",
     "start_time": "2024-04-30T09:38:56.171075800Z"
    }
   },
   "id": "abc04405d2bc0b95",
   "execution_count": 43
  },
  {
   "cell_type": "code",
   "outputs": [],
   "source": [
    "df = pd.read_pickle('sparse_ratings.pkl')\n",
    "user_item_matrix = df.transpose()\n",
    "movies_info = pd.read_csv(\"suitable_movies.csv\")\n",
    "movies_names = pd.read_csv(\"ml-latest/movies.csv\")"
   ],
   "metadata": {
    "collapsed": false,
    "ExecuteTime": {
     "end_time": "2024-04-30T09:38:58.350510300Z",
     "start_time": "2024-04-30T09:38:56.219547300Z"
    }
   },
   "id": "3e5134c2e361783e",
   "execution_count": 44
  },
  {
   "cell_type": "code",
   "outputs": [],
   "source": [
    "factors = user_item_matrix.shape[1]\n",
    "annoy_index = AnnoyIndex(factors, 'angular')"
   ],
   "metadata": {
    "collapsed": false,
    "ExecuteTime": {
     "end_time": "2024-04-30T09:38:58.467694200Z",
     "start_time": "2024-04-30T09:38:58.350510300Z"
    }
   },
   "id": "521ccfacd15a2a3b",
   "execution_count": 45
  },
  {
   "cell_type": "code",
   "outputs": [
    {
     "data": {
      "text/plain": "True"
     },
     "execution_count": 46,
     "metadata": {},
     "output_type": "execute_result"
    }
   ],
   "source": [
    "# Adding all user vectors to the index\n",
    "for user_id in range(user_item_matrix.shape[0]):\n",
    "    user_vector = user_item_matrix.iloc[user_id].fillna(0).tolist()\n",
    "    annoy_index.add_item(user_id, user_vector)\n",
    "\n",
    "annoy_index.build(10)"
   ],
   "metadata": {
    "collapsed": false,
    "ExecuteTime": {
     "end_time": "2024-04-30T09:40:05.675937Z",
     "start_time": "2024-04-30T09:38:58.470896200Z"
    }
   },
   "id": "b3533a94f993dea4",
   "execution_count": 46
  },
  {
   "cell_type": "code",
   "outputs": [],
   "source": [
    "# Generate a query vector based on user input\n",
    "user_input_example = {\"Ace Ventura: Pet Detective (1994)\": 4.3,\n",
    "                      \"Interstellar (2014)\": 3,\n",
    "                      \"Schindler's List (1993)\": 3.5,\n",
    "                      \"Home Alone (1990)\": 3.5}"
   ],
   "metadata": {
    "collapsed": false,
    "ExecuteTime": {
     "end_time": "2024-04-30T09:40:05.717592Z",
     "start_time": "2024-04-30T09:40:05.666861200Z"
    }
   },
   "id": "1a6caf8df1210499",
   "execution_count": 47
  },
  {
   "cell_type": "code",
   "outputs": [],
   "source": [
    "all_user_movie_ids = []\n",
    "query_vector = [0] * factors\n",
    "for movie_title, rating in user_input_example.items():\n",
    "    if movie_title in movies_names['title'].values:\n",
    "        movie_id = movies_names[movies_names['title'] == movie_title]['movieId'].iloc[0]\n",
    "        all_user_movie_ids.append(movie_id)\n",
    "        movie_idx = df.index.get_loc(movie_id)\n",
    "        query_vector[movie_idx] = rating"
   ],
   "metadata": {
    "collapsed": false,
    "ExecuteTime": {
     "end_time": "2024-04-30T09:40:05.772461500Z",
     "start_time": "2024-04-30T09:40:05.673636500Z"
    }
   },
   "id": "700233e3a4109118",
   "execution_count": 48
  },
  {
   "cell_type": "code",
   "outputs": [],
   "source": [
    "nearest_neighbors, distances = annoy_index.get_nns_by_vector(query_vector, 100, include_distances=True)"
   ],
   "metadata": {
    "collapsed": false,
    "ExecuteTime": {
     "end_time": "2024-04-30T09:40:05.773626400Z",
     "start_time": "2024-04-30T09:40:05.763363500Z"
    }
   },
   "id": "b303ec4a583ad295",
   "execution_count": 49
  },
  {
   "cell_type": "code",
   "outputs": [],
   "source": [
    "weights = np.exp(-np.array(distances))\n",
    "\n",
    "neighbor_ratings = user_item_matrix.iloc[nearest_neighbors]\n",
    "\n",
    "weighted_means = []\n",
    "for column in neighbor_ratings.columns:\n",
    "    valid_ratings = neighbor_ratings[column].dropna()\n",
    "    if not valid_ratings.empty:\n",
    "        weighted_avg = np.average(valid_ratings, weights=weights[:len(valid_ratings)])\n",
    "        weighted_means.append((column, weighted_avg))\n",
    "    else:\n",
    "        weighted_means.append((column, np.nan))\n",
    "\n",
    "weighted_means_df = pd.DataFrame(weighted_means, columns=['movieId', 'weighted_mean']).set_index('movieId')"
   ],
   "metadata": {
    "collapsed": false,
    "ExecuteTime": {
     "end_time": "2024-04-30T09:40:05.949127300Z",
     "start_time": "2024-04-30T09:40:05.775776700Z"
    }
   },
   "id": "41fb0ae3beea3342",
   "execution_count": 50
  },
  {
   "cell_type": "code",
   "outputs": [],
   "source": [
    "global_avg_ratings = movies_info.set_index('movieId')['avg_rating']\n",
    "num_ratings = neighbor_ratings.count()\n",
    "\n",
    "combined = weighted_means_df.join(global_avg_ratings).join(num_ratings.rename('num_ratings'))\n",
    "combined.dropna(subset=['weighted_mean'], inplace=True)\n",
    "\n",
    "combined = combined[combined.index.isin(all_user_movie_ids)==False]\n",
    "\n",
    "# Sort by weighted mean, global average rating, and number of ratings for tiebreaking\n",
    "combined_sorted = combined.sort_values(by=['weighted_mean', 'avg_rating', 'num_ratings'], ascending=[False, False, False])"
   ],
   "metadata": {
    "collapsed": false,
    "ExecuteTime": {
     "end_time": "2024-04-30T09:40:05.977141800Z",
     "start_time": "2024-04-30T09:40:05.955760600Z"
    }
   },
   "id": "6dd26fb41b185d8f",
   "execution_count": 51
  },
  {
   "cell_type": "code",
   "outputs": [],
   "source": [
    "recommendations = combined_sorted.head(5)\n",
    "recommendations = recommendations.join(movies_names.set_index('movieId'), on='movieId')\n",
    "recommendations['rank'] = range(1, 6)"
   ],
   "metadata": {
    "collapsed": false,
    "ExecuteTime": {
     "end_time": "2024-04-30T09:40:05.996854Z",
     "start_time": "2024-04-30T09:40:05.971463800Z"
    }
   },
   "id": "80336b29232ee7df",
   "execution_count": 52
  },
  {
   "cell_type": "code",
   "outputs": [
    {
     "name": "stdout",
     "output_type": "stream",
     "text": [
      "Top movies recommended based on nearest neighbors with weighted ratings:\n",
      "         weighted_mean  avg_rating  num_ratings                  title  \\\n",
      "movieId                                                                  \n",
      "148626        0.096070    4.070588          100  Big Short, The (2015)   \n",
      "5995          0.092462    4.059478          100    Pianist, The (2002)   \n",
      "508           0.081546    3.804519          100    Philadelphia (1993)   \n",
      "164179        0.081080    4.053165          100         Arrival (2016)   \n",
      "4022          0.077481    3.685078          100       Cast Away (2000)   \n",
      "\n",
      "            genres  rank  \n",
      "movieId                   \n",
      "148626       Drama     1  \n",
      "5995     Drama|War     2  \n",
      "508          Drama     3  \n",
      "164179      Sci-Fi     4  \n",
      "4022         Drama     5  \n"
     ]
    }
   ],
   "source": [
    "print(\"Top movies recommended based on nearest neighbors with weighted ratings:\")\n",
    "print(recommendations)"
   ],
   "metadata": {
    "collapsed": false,
    "ExecuteTime": {
     "end_time": "2024-04-30T09:40:05.997907300Z",
     "start_time": "2024-04-30T09:40:05.989430100Z"
    }
   },
   "id": "fec6e37e0e30c1f8",
   "execution_count": 53
  }
 ],
 "metadata": {
  "kernelspec": {
   "display_name": "Python 3",
   "language": "python",
   "name": "python3"
  },
  "language_info": {
   "codemirror_mode": {
    "name": "ipython",
    "version": 2
   },
   "file_extension": ".py",
   "mimetype": "text/x-python",
   "name": "python",
   "nbconvert_exporter": "python",
   "pygments_lexer": "ipython2",
   "version": "2.7.6"
  }
 },
 "nbformat": 4,
 "nbformat_minor": 5
}
