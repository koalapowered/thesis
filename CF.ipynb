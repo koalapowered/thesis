{
 "cells": [
  {
   "cell_type": "code",
   "execution_count": null,
   "id": "initial_id",
   "metadata": {
    "collapsed": true
   },
   "outputs": [],
   "source": [
    "import pandas as pd\n",
    "import numpy as np\n",
    "import matplotlib.pyplot as plt\n",
    "import scipy"
   ]
  },
  {
   "cell_type": "code",
   "outputs": [],
   "source": [
    "df = pd.read_pickle('sparse_ratings.pkl')"
   ],
   "metadata": {
    "collapsed": false
   },
   "id": "b626e09f0aec5c4d",
   "execution_count": null
  },
  {
   "cell_type": "code",
   "outputs": [],
   "source": [
    "user_input_example = {\"Ace Ventura: Pet Detective (1994)\": 4.3,\n",
    "                      \"Interstellar (2014)\":3,\n",
    "                      \"Schindler's List (1993)\":3.5,\n",
    "                      \"Home Alone (1990)\":3.5}"
   ],
   "metadata": {
    "collapsed": false
   },
   "id": "20e40db495c2cd61",
   "execution_count": null
  },
  {
   "cell_type": "code",
   "outputs": [],
   "source": [
    "df"
   ],
   "metadata": {
    "collapsed": false
   },
   "id": "e08899f0bbe22190",
   "execution_count": null
  },
  {
   "cell_type": "markdown",
   "source": [
    "Now to go through this more efficiently - we propose to only look for similarity between users that have rated some movie that also the previous person rated (essentially only taking the movieId that is relevant which might help make our solution space smaller 100-fold, or more...). As a backup - we will see their average rating per genre and then look for an approximate nearest neighbor within those genres"
   ],
   "metadata": {
    "collapsed": false
   },
   "id": "fbb2a554dcd01b4a"
  },
  {
   "cell_type": "code",
   "outputs": [],
   "source": [
    "movies_info = pd.read_csv(\"suitable_movies.csv\")"
   ],
   "metadata": {
    "collapsed": false
   },
   "id": "f73e5e181d805add",
   "execution_count": null
  },
  {
   "cell_type": "code",
   "outputs": [],
   "source": [
    "movies_info"
   ],
   "metadata": {
    "collapsed": false
   },
   "id": "5c3395178553648d",
   "execution_count": null
  },
  {
   "cell_type": "code",
   "outputs": [],
   "source": [
    "movies_names = pd.read_csv(\"ml-latest/movies.csv\")\n",
    "movies_names"
   ],
   "metadata": {
    "collapsed": false
   },
   "id": "467a11370eacbce0",
   "execution_count": null
  },
  {
   "cell_type": "code",
   "outputs": [],
   "source": [
    "movies_info_ = movies_info.copy().set_index(\"movieId\")\n",
    "joined = movies_names.copy().join(movies_info_, how=\"inner\", on=\"movieId\", lsuffix=\"_left\", rsuffix=\"_right\")\n",
    "joined\n"
   ],
   "metadata": {
    "collapsed": false
   },
   "id": "e8fd1dbdc4ac05bb",
   "execution_count": null
  },
  {
   "cell_type": "code",
   "outputs": [],
   "source": [
    "def user_genres(user_input):\n",
    "    user_genres_ = []\n",
    "    for key, value in user_input.items():\n",
    "        movie_id = movies_names[movies_names['title']==key][\"movieId\"].values[0]\n",
    "        genre = movies_info[movies_info[\"movieId\"]==movie_id]['suitable_genre'].values[0]\n",
    "        if genre not in user_genres_: user_genres_.append(genre)\n",
    "    return user_genres_\n",
    "print(user_genres(user_input_example))"
   ],
   "metadata": {
    "collapsed": false
   },
   "id": "c729edb38956fcdd",
   "execution_count": null
  },
  {
   "cell_type": "markdown",
   "source": [
    "This methods finds all the users that have rated at least one of the movies from what the user provided - we don't care whether the rating is low or high - both give us good information - at the end we will insert the new user in the dataframe so to compute the distance metric reliably. This is however done through an external method so to adhere to the DRY principles."
   ],
   "metadata": {
    "collapsed": false
   },
   "id": "e68e70ec32622080"
  },
  {
   "cell_type": "code",
   "outputs": [],
   "source": [
    "def movies_only_valid_movies(user_input):\n",
    "    df_lst = []\n",
    "    for key,value in user_input.items():\n",
    "        movie_id = movies_names[movies_names['title']==key][\"movieId\"].values[0]\n",
    "        all_user_ratings_specific_movie = df[df.index==movie_id]\n",
    "        df_lst.append(all_user_ratings_specific_movie)\n",
    "    df_lst = pd.concat(df_lst)\n",
    "    #return df_lst\n",
    "    # can delete the following 2 rows to also have the 0 cols on the specified movies but it saves a lot of similarity computation\n",
    "    df_lst = df_lst.replace(0.0,np.nan).dropna(axis=1,how=\"all\")\n",
    "    df_lst = df_lst.replace(np.nan, 0.0)\n",
    "    return df_lst\n",
    "print(movies_only_valid_movies(user_input_example))"
   ],
   "metadata": {
    "collapsed": false
   },
   "id": "9b8b78b1e094e787",
   "execution_count": null
  },
  {
   "cell_type": "markdown",
   "source": [
    "This methods finds all the movies that have overlapping genres with what the user provided - we don't care whether the rating is low or high - both give us good information - at the end we will insert the new user in the dataframe so to compute the distance metric reliably. This is however done through an external method so to adhere to the DRY principles."
   ],
   "metadata": {
    "collapsed": false
   },
   "id": "389f833d50a5d0d3"
  },
  {
   "cell_type": "code",
   "outputs": [],
   "source": [
    "def movies_only_valid_genres(user_input):\n",
    "    valid_genres = user_genres(user_input)\n",
    "    movies_with_same_genres_id = movies_info[movies_info['suitable_genre'].isin(valid_genres)]\n",
    "    movies_with_same_genres_id.set_index(\"movieId\", inplace=True)\n",
    "    print(movies_with_same_genres_id)\n",
    "    movies_with_same_genres_title = movies_names.join(movies_with_same_genres_id, on='movieId', how='inner', lsuffix=\"l\", rsuffix=\"r\")[\"title\"].values\n",
    "    arbitrary_ratings = {movie_title:0 for movie_title in movies_with_same_genres_title}\n",
    "    return movies_only_valid_movies(arbitrary_ratings)\n",
    "test = movies_only_valid_genres(user_input_example)\n",
    "#print(test)"
   ],
   "metadata": {
    "collapsed": false
   },
   "id": "cbaf82fbc050703d",
   "execution_count": null
  },
  {
   "cell_type": "markdown",
   "source": [
    "Here we just define a helper method to compute the most similar users in the dataframes"
   ],
   "metadata": {
    "collapsed": false
   },
   "id": "b2391233cfa5647b"
  },
  {
   "cell_type": "code",
   "outputs": [],
   "source": [
    "import time\n",
    "def most_similar_users_cos(df, user_ratings):\n",
    "    movie_ids = []\n",
    "    # laplace_constant = .001 - was meant for smoothing - might need it later\n",
    "    user_ratings_sparse = [0 for _ in range(len(df))]\n",
    "    df[\"user_ratings\"] = user_ratings_sparse\n",
    "    for movie_title,rating in user_ratings.items():\n",
    "        movie_id = movies_names[movies_names['title']==movie_title][\"movieId\"].values[0]\n",
    "        movie_ids.append(movie_id)\n",
    "        # if the user has not provided movies that are relevant all the ratings will be 0 (which is not a valid value since the rating scale is 1-5 but that is ok because then it will say that they are most similar with the people that haven't rated the movies (haven't seen them) as well\n",
    "        if movie_id in df.index.values:\n",
    "            df.loc[movie_id, \"user_ratings\"] = rating\n",
    "    # now compute the cosine distance - the problem here arises if the user has not provided any ratings - since dividing by a 0 is not allowed. for now - we will only work on the case where it is allowed\n",
    "    our_user = df[\"user_ratings\"].values\n",
    "    cos_distances = []\n",
    "    if np.any(our_user):\n",
    "        print(\"Ratings of relevant movies found - computing similarity metrics\")\n",
    "        beginning = time.time()\n",
    "        for i in range(df.shape[1] - 1):\n",
    "            other_user = df.iloc[:,i].values\n",
    "            cos_distance = np.dot(our_user, other_user)/(np.sqrt(np.sum([x*x for x in our_user]) * np.sqrt(np.sum([y*y for y in other_user]))))\n",
    "            cos_distances.append(cos_distance)\n",
    "        number_of_users = np.min([1000, len(cos_distances) - 1])\n",
    "        top_indices = np.argsort(-np.array(cos_distances))[:number_of_users]\n",
    "        top_indices = np.append(top_indices, -1)\n",
    "        top_users = df[df.copy().T.index[top_indices]]\n",
    "        print(f\"Found the {number_of_users} most similar users in {time.time()-beginning} seconds\")\n",
    "        print(\"The following movies were the only ones with not all 0 ratings: \")\n",
    "        non_zero_movies = []\n",
    "        for i in range(len(top_users)):\n",
    "            if np.sum(top_users.iloc[i]) > 0 : non_zero_movies.append(i)\n",
    "        top_users = top_users.iloc[non_zero_movies]\n",
    "        return top_users[top_users.index.isin(movie_ids)==False]\n",
    "    else:\n",
    "        print(\"No ratings were provided by the user - not able to compute similarity metrics\")\n",
    "        return None\n",
    "most_similar_users = most_similar_users_cos(test, user_input_example)\n",
    "print(most_similar_users)"
   ],
   "metadata": {
    "collapsed": false
   },
   "id": "fb66d42f605d6483",
   "execution_count": null
  },
  {
   "cell_type": "markdown",
   "source": [
    "Now that we have the n most similar users - we can see what movies to recommend from them..."
   ],
   "metadata": {
    "collapsed": false
   },
   "id": "ea6f20613e07fd5e"
  },
  {
   "cell_type": "code",
   "outputs": [],
   "source": [
    "def recommend_by_mean(df, N=5):\n",
    "    mean_ratings = df.replace(0, np.nan).mean(axis=1).dropna()\n",
    "    recommendations = mean_ratings.sort_values(ascending=False).head(N)\n",
    "    return recommendations\n",
    "\n",
    "top_movies_by_mean = recommend_by_mean(most_similar_users)\n",
    "print(\"Top movies recommended by mean ratings:\")\n",
    "print(top_movies_by_mean)"
   ],
   "metadata": {
    "collapsed": false
   },
   "id": "562eff21a3ce53e9",
   "execution_count": null
  },
  {
   "cell_type": "markdown",
   "source": [
    "For some movies we can see that this doesnt work very well since there is only one rating - maybe let's take the average rating into account as well as a tiebreaker"
   ],
   "metadata": {
    "collapsed": false
   },
   "id": "36c087e318e478a9"
  },
  {
   "cell_type": "code",
   "outputs": [],
   "source": [
    "def recommend_with_tiebreaking(df, global_avg, movies_info, movies_names, N=5):\n",
    "    # Calculate the mean rating for each movie within the similar users, ignoring zero ratings\n",
    "    mean_ratings = df.replace(0, np.nan).mean(axis=1)\n",
    "    # Count the number of non-zero ratings for each movie\n",
    "    num_ratings = df[df > 0].count(axis=1)\n",
    "    \n",
    "    # Create a DataFrame for the combined data\n",
    "    combined = pd.DataFrame({\n",
    "        'movieId': mean_ratings.index,\n",
    "        'weighted_mean': mean_ratings,\n",
    "        'global_avg': global_avg.reindex(mean_ratings.index),\n",
    "        'num_ratings': num_ratings\n",
    "    }).dropna(subset=['weighted_mean'])\n",
    "    \n",
    "    combined_sorted = combined.sort_values(by=['weighted_mean', 'global_avg', 'num_ratings'], ascending=[False, False, False])\n",
    "\n",
    "    recommendations = combined_sorted.head(N)\n",
    "    recommendations = recommendations.join(movies_names.set_index('movieId'), on=recommendations.index)\n",
    "    recommendations = recommendations.assign(rank=range(1, N + 1))\n",
    "    return recommendations\n",
    "\n",
    "global_avg_ratings = movies_info.set_index('movieId')['avg_rating']\n",
    "movies_titles = movies_names[['movieId', 'title']]\n",
    "\n",
    "top_movies_with_tiebreaking = recommend_with_tiebreaking(most_similar_users, global_avg_ratings, movies_info, movies_titles)\n",
    "print(\"Top movies recommended with tiebreaking based on global average rating:\")\n",
    "print(top_movies_with_tiebreaking)\n"
   ],
   "metadata": {
    "collapsed": false
   },
   "id": "f8bd31f404d209f7",
   "execution_count": null
  }
 ],
 "metadata": {
  "kernelspec": {
   "display_name": "Python 3",
   "language": "python",
   "name": "python3"
  },
  "language_info": {
   "codemirror_mode": {
    "name": "ipython",
    "version": 2
   },
   "file_extension": ".py",
   "mimetype": "text/x-python",
   "name": "python",
   "nbconvert_exporter": "python",
   "pygments_lexer": "ipython2",
   "version": "2.7.6"
  }
 },
 "nbformat": 4,
 "nbformat_minor": 5
}
