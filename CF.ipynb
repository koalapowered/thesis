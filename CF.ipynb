{
 "cells": [
  {
   "cell_type": "code",
   "execution_count": 1,
   "id": "initial_id",
   "metadata": {
    "collapsed": true,
    "ExecuteTime": {
     "end_time": "2024-05-01T08:01:01.306137400Z",
     "start_time": "2024-05-01T08:00:58.580999800Z"
    }
   },
   "outputs": [],
   "source": [
    "import pandas as pd\n",
    "import numpy as np\n",
    "import matplotlib.pyplot as plt\n",
    "import scipy"
   ]
  },
  {
   "cell_type": "code",
   "outputs": [],
   "source": [
    "df = pd.read_pickle('sparse_ratings.pkl')"
   ],
   "metadata": {
    "collapsed": false,
    "ExecuteTime": {
     "end_time": "2024-05-01T08:01:03.622171300Z",
     "start_time": "2024-05-01T08:01:01.307176800Z"
    }
   },
   "id": "b626e09f0aec5c4d",
   "execution_count": 2
  },
  {
   "cell_type": "code",
   "outputs": [],
   "source": [
    "user_input_example = {\"Ace Ventura: Pet Detective (1994)\": 4.3,\n",
    "                      \"Interstellar (2014)\":3,\n",
    "                      \"Schindler's List (1993)\":3.5,\n",
    "                      \"Home Alone (1990)\":3.5}"
   ],
   "metadata": {
    "collapsed": false,
    "ExecuteTime": {
     "end_time": "2024-05-01T08:01:03.657256200Z",
     "start_time": "2024-05-01T08:01:03.629009900Z"
    }
   },
   "id": "20e40db495c2cd61",
   "execution_count": 3
  },
  {
   "cell_type": "code",
   "outputs": [
    {
     "data": {
      "text/plain": "userId   1       2       3       4       5       6       7       8       \\\nmovieId                                                                   \n1203        0.0     0.0     0.0     0.0     0.0     0.0     0.0     0.0   \n527         0.0     5.0     0.0     0.0     4.0     0.0     4.0     0.0   \n1193        0.0     0.0     0.0     0.0     3.0     0.0     0.0     0.0   \n750         0.0     0.0     0.0     0.0     0.0     0.0     0.0     0.0   \n26082       0.0     0.0     0.0     0.0     0.0     0.0     0.0     0.0   \n...         ...     ...     ...     ...     ...     ...     ...     ...   \n1981        0.0     0.0     0.0     0.0     0.0     0.0     0.0     0.0   \n1760        0.0     0.0     0.0     0.0     0.0     0.0     0.0     0.0   \n6482        0.0     0.0     0.0     0.0     0.0     0.0     0.0     0.0   \n2555        0.0     0.0     0.0     0.0     0.0     0.0     0.0     0.0   \n57532       0.0     0.0     0.0     0.0     0.0     0.0     0.0     0.0   \n\nuserId   9       10      ...  330966  330967  330968  330969  330970  330971  \\\nmovieId                  ...                                                   \n1203        0.0     0.0  ...     0.0     0.0     0.0     0.0     0.0     0.0   \n527         4.0     0.0  ...     0.0     4.0     0.0     0.0     0.0     4.5   \n1193        0.0     0.0  ...     0.0     0.0     0.0     0.0     0.0     4.0   \n750         0.0     3.5  ...     0.0     5.0     0.0     0.0     0.0     0.0   \n26082       0.0     0.0  ...     0.0     0.0     0.0     0.0     0.0     0.0   \n...         ...     ...  ...     ...     ...     ...     ...     ...     ...   \n1981        0.0     0.0  ...     0.0     0.0     0.0     0.0     0.0     0.0   \n1760        0.0     0.0  ...     0.0     0.0     0.0     0.0     0.0     0.0   \n6482        0.0     0.0  ...     0.0     0.0     0.0     0.0     0.0     0.0   \n2555        0.0     0.0  ...     0.0     0.0     0.0     0.0     0.0     0.0   \n57532       0.0     0.0  ...     0.0     0.0     0.0     0.0     0.0     0.0   \n\nuserId   330972  330973  330974  330975  \nmovieId                                  \n1203        0.0     0.0     0.0     0.0  \n527         4.0     0.0     4.5     3.5  \n1193        0.0     0.0     4.0     3.0  \n750         0.0     0.0     0.0     0.0  \n26082       0.0     0.0     0.0     0.0  \n...         ...     ...     ...     ...  \n1981        0.0     0.0     0.0     0.0  \n1760        0.0     0.0     0.0     0.0  \n6482        0.0     0.0     0.0     0.0  \n2555        0.0     0.0     0.0     0.0  \n57532       0.0     0.0     0.0     0.0  \n\n[1078 rows x 293840 columns]",
      "text/html": "<div>\n<style scoped>\n    .dataframe tbody tr th:only-of-type {\n        vertical-align: middle;\n    }\n\n    .dataframe tbody tr th {\n        vertical-align: top;\n    }\n\n    .dataframe thead th {\n        text-align: right;\n    }\n</style>\n<table border=\"1\" class=\"dataframe\">\n  <thead>\n    <tr style=\"text-align: right;\">\n      <th>userId</th>\n      <th>1</th>\n      <th>2</th>\n      <th>3</th>\n      <th>4</th>\n      <th>5</th>\n      <th>6</th>\n      <th>7</th>\n      <th>8</th>\n      <th>9</th>\n      <th>10</th>\n      <th>...</th>\n      <th>330966</th>\n      <th>330967</th>\n      <th>330968</th>\n      <th>330969</th>\n      <th>330970</th>\n      <th>330971</th>\n      <th>330972</th>\n      <th>330973</th>\n      <th>330974</th>\n      <th>330975</th>\n    </tr>\n    <tr>\n      <th>movieId</th>\n      <th></th>\n      <th></th>\n      <th></th>\n      <th></th>\n      <th></th>\n      <th></th>\n      <th></th>\n      <th></th>\n      <th></th>\n      <th></th>\n      <th></th>\n      <th></th>\n      <th></th>\n      <th></th>\n      <th></th>\n      <th></th>\n      <th></th>\n      <th></th>\n      <th></th>\n      <th></th>\n      <th></th>\n    </tr>\n  </thead>\n  <tbody>\n    <tr>\n      <th>1203</th>\n      <td>0.0</td>\n      <td>0.0</td>\n      <td>0.0</td>\n      <td>0.0</td>\n      <td>0.0</td>\n      <td>0.0</td>\n      <td>0.0</td>\n      <td>0.0</td>\n      <td>0.0</td>\n      <td>0.0</td>\n      <td>...</td>\n      <td>0.0</td>\n      <td>0.0</td>\n      <td>0.0</td>\n      <td>0.0</td>\n      <td>0.0</td>\n      <td>0.0</td>\n      <td>0.0</td>\n      <td>0.0</td>\n      <td>0.0</td>\n      <td>0.0</td>\n    </tr>\n    <tr>\n      <th>527</th>\n      <td>0.0</td>\n      <td>5.0</td>\n      <td>0.0</td>\n      <td>0.0</td>\n      <td>4.0</td>\n      <td>0.0</td>\n      <td>4.0</td>\n      <td>0.0</td>\n      <td>4.0</td>\n      <td>0.0</td>\n      <td>...</td>\n      <td>0.0</td>\n      <td>4.0</td>\n      <td>0.0</td>\n      <td>0.0</td>\n      <td>0.0</td>\n      <td>4.5</td>\n      <td>4.0</td>\n      <td>0.0</td>\n      <td>4.5</td>\n      <td>3.5</td>\n    </tr>\n    <tr>\n      <th>1193</th>\n      <td>0.0</td>\n      <td>0.0</td>\n      <td>0.0</td>\n      <td>0.0</td>\n      <td>3.0</td>\n      <td>0.0</td>\n      <td>0.0</td>\n      <td>0.0</td>\n      <td>0.0</td>\n      <td>0.0</td>\n      <td>...</td>\n      <td>0.0</td>\n      <td>0.0</td>\n      <td>0.0</td>\n      <td>0.0</td>\n      <td>0.0</td>\n      <td>4.0</td>\n      <td>0.0</td>\n      <td>0.0</td>\n      <td>4.0</td>\n      <td>3.0</td>\n    </tr>\n    <tr>\n      <th>750</th>\n      <td>0.0</td>\n      <td>0.0</td>\n      <td>0.0</td>\n      <td>0.0</td>\n      <td>0.0</td>\n      <td>0.0</td>\n      <td>0.0</td>\n      <td>0.0</td>\n      <td>0.0</td>\n      <td>3.5</td>\n      <td>...</td>\n      <td>0.0</td>\n      <td>5.0</td>\n      <td>0.0</td>\n      <td>0.0</td>\n      <td>0.0</td>\n      <td>0.0</td>\n      <td>0.0</td>\n      <td>0.0</td>\n      <td>0.0</td>\n      <td>0.0</td>\n    </tr>\n    <tr>\n      <th>26082</th>\n      <td>0.0</td>\n      <td>0.0</td>\n      <td>0.0</td>\n      <td>0.0</td>\n      <td>0.0</td>\n      <td>0.0</td>\n      <td>0.0</td>\n      <td>0.0</td>\n      <td>0.0</td>\n      <td>0.0</td>\n      <td>...</td>\n      <td>0.0</td>\n      <td>0.0</td>\n      <td>0.0</td>\n      <td>0.0</td>\n      <td>0.0</td>\n      <td>0.0</td>\n      <td>0.0</td>\n      <td>0.0</td>\n      <td>0.0</td>\n      <td>0.0</td>\n    </tr>\n    <tr>\n      <th>...</th>\n      <td>...</td>\n      <td>...</td>\n      <td>...</td>\n      <td>...</td>\n      <td>...</td>\n      <td>...</td>\n      <td>...</td>\n      <td>...</td>\n      <td>...</td>\n      <td>...</td>\n      <td>...</td>\n      <td>...</td>\n      <td>...</td>\n      <td>...</td>\n      <td>...</td>\n      <td>...</td>\n      <td>...</td>\n      <td>...</td>\n      <td>...</td>\n      <td>...</td>\n      <td>...</td>\n    </tr>\n    <tr>\n      <th>1981</th>\n      <td>0.0</td>\n      <td>0.0</td>\n      <td>0.0</td>\n      <td>0.0</td>\n      <td>0.0</td>\n      <td>0.0</td>\n      <td>0.0</td>\n      <td>0.0</td>\n      <td>0.0</td>\n      <td>0.0</td>\n      <td>...</td>\n      <td>0.0</td>\n      <td>0.0</td>\n      <td>0.0</td>\n      <td>0.0</td>\n      <td>0.0</td>\n      <td>0.0</td>\n      <td>0.0</td>\n      <td>0.0</td>\n      <td>0.0</td>\n      <td>0.0</td>\n    </tr>\n    <tr>\n      <th>1760</th>\n      <td>0.0</td>\n      <td>0.0</td>\n      <td>0.0</td>\n      <td>0.0</td>\n      <td>0.0</td>\n      <td>0.0</td>\n      <td>0.0</td>\n      <td>0.0</td>\n      <td>0.0</td>\n      <td>0.0</td>\n      <td>...</td>\n      <td>0.0</td>\n      <td>0.0</td>\n      <td>0.0</td>\n      <td>0.0</td>\n      <td>0.0</td>\n      <td>0.0</td>\n      <td>0.0</td>\n      <td>0.0</td>\n      <td>0.0</td>\n      <td>0.0</td>\n    </tr>\n    <tr>\n      <th>6482</th>\n      <td>0.0</td>\n      <td>0.0</td>\n      <td>0.0</td>\n      <td>0.0</td>\n      <td>0.0</td>\n      <td>0.0</td>\n      <td>0.0</td>\n      <td>0.0</td>\n      <td>0.0</td>\n      <td>0.0</td>\n      <td>...</td>\n      <td>0.0</td>\n      <td>0.0</td>\n      <td>0.0</td>\n      <td>0.0</td>\n      <td>0.0</td>\n      <td>0.0</td>\n      <td>0.0</td>\n      <td>0.0</td>\n      <td>0.0</td>\n      <td>0.0</td>\n    </tr>\n    <tr>\n      <th>2555</th>\n      <td>0.0</td>\n      <td>0.0</td>\n      <td>0.0</td>\n      <td>0.0</td>\n      <td>0.0</td>\n      <td>0.0</td>\n      <td>0.0</td>\n      <td>0.0</td>\n      <td>0.0</td>\n      <td>0.0</td>\n      <td>...</td>\n      <td>0.0</td>\n      <td>0.0</td>\n      <td>0.0</td>\n      <td>0.0</td>\n      <td>0.0</td>\n      <td>0.0</td>\n      <td>0.0</td>\n      <td>0.0</td>\n      <td>0.0</td>\n      <td>0.0</td>\n    </tr>\n    <tr>\n      <th>57532</th>\n      <td>0.0</td>\n      <td>0.0</td>\n      <td>0.0</td>\n      <td>0.0</td>\n      <td>0.0</td>\n      <td>0.0</td>\n      <td>0.0</td>\n      <td>0.0</td>\n      <td>0.0</td>\n      <td>0.0</td>\n      <td>...</td>\n      <td>0.0</td>\n      <td>0.0</td>\n      <td>0.0</td>\n      <td>0.0</td>\n      <td>0.0</td>\n      <td>0.0</td>\n      <td>0.0</td>\n      <td>0.0</td>\n      <td>0.0</td>\n      <td>0.0</td>\n    </tr>\n  </tbody>\n</table>\n<p>1078 rows × 293840 columns</p>\n</div>"
     },
     "execution_count": 4,
     "metadata": {},
     "output_type": "execute_result"
    }
   ],
   "source": [
    "df"
   ],
   "metadata": {
    "collapsed": false,
    "ExecuteTime": {
     "end_time": "2024-05-01T08:01:03.726070Z",
     "start_time": "2024-05-01T08:01:03.634318800Z"
    }
   },
   "id": "e08899f0bbe22190",
   "execution_count": 4
  },
  {
   "cell_type": "markdown",
   "source": [
    "Now to go through this more efficiently - we propose to only look for similarity between users that have rated some movie that also the previous person rated (essentially only taking the movieId that is relevant which might help make our solution space smaller 100-fold, or more...). As a backup - we will see their average rating per genre and then look for an approximate nearest neighbor within those genres"
   ],
   "metadata": {
    "collapsed": false
   },
   "id": "fbb2a554dcd01b4a"
  },
  {
   "cell_type": "code",
   "outputs": [],
   "source": [
    "movies_info = pd.read_csv(\"suitable_movies.csv\")"
   ],
   "metadata": {
    "collapsed": false,
    "ExecuteTime": {
     "end_time": "2024-05-01T08:01:03.807147900Z",
     "start_time": "2024-05-01T08:01:03.709943700Z"
    }
   },
   "id": "f73e5e181d805add",
   "execution_count": 5
  },
  {
   "cell_type": "code",
   "outputs": [
    {
     "data": {
      "text/plain": "      movieId       userId    rating        timestamp  no_people_rated  \\\n0        1203   3738563090   96992.5   29894679700250            22730   \n1         527  13929219732  357340.5  103671567916204            84232   \n2        1193   8118516317  207758.5   61568690477830            49316   \n3         750   5650978895  144160.5   42473159316615            34324   \n4       26082    213092748    5374.0    1897779020524             1282   \n...       ...          ...       ...              ...              ...   \n1073     1981    243854131    2772.0    1714465547406             1495   \n1074     1760    552474506    6083.5    3830780656494             3317   \n1075     6482    381293121    4065.5    2992591178695             2292   \n1076     2555    285063817    2896.5    1898360097339             1679   \n1077    57532    194063825    1903.0    1636766416042             1172   \n\n      avg_rating suitable_genre  \n0       4.267158          Drama  \n1       4.242337          Drama  \n2       4.212801          Drama  \n3       4.199991         Comedy  \n4       4.191888          Drama  \n...          ...            ...  \n1073    1.854181         Horror  \n1074    1.834037         Comedy  \n1075    1.773778         Comedy  \n1076    1.725134         Comedy  \n1077    1.623720         Comedy  \n\n[1078 rows x 7 columns]",
      "text/html": "<div>\n<style scoped>\n    .dataframe tbody tr th:only-of-type {\n        vertical-align: middle;\n    }\n\n    .dataframe tbody tr th {\n        vertical-align: top;\n    }\n\n    .dataframe thead th {\n        text-align: right;\n    }\n</style>\n<table border=\"1\" class=\"dataframe\">\n  <thead>\n    <tr style=\"text-align: right;\">\n      <th></th>\n      <th>movieId</th>\n      <th>userId</th>\n      <th>rating</th>\n      <th>timestamp</th>\n      <th>no_people_rated</th>\n      <th>avg_rating</th>\n      <th>suitable_genre</th>\n    </tr>\n  </thead>\n  <tbody>\n    <tr>\n      <th>0</th>\n      <td>1203</td>\n      <td>3738563090</td>\n      <td>96992.5</td>\n      <td>29894679700250</td>\n      <td>22730</td>\n      <td>4.267158</td>\n      <td>Drama</td>\n    </tr>\n    <tr>\n      <th>1</th>\n      <td>527</td>\n      <td>13929219732</td>\n      <td>357340.5</td>\n      <td>103671567916204</td>\n      <td>84232</td>\n      <td>4.242337</td>\n      <td>Drama</td>\n    </tr>\n    <tr>\n      <th>2</th>\n      <td>1193</td>\n      <td>8118516317</td>\n      <td>207758.5</td>\n      <td>61568690477830</td>\n      <td>49316</td>\n      <td>4.212801</td>\n      <td>Drama</td>\n    </tr>\n    <tr>\n      <th>3</th>\n      <td>750</td>\n      <td>5650978895</td>\n      <td>144160.5</td>\n      <td>42473159316615</td>\n      <td>34324</td>\n      <td>4.199991</td>\n      <td>Comedy</td>\n    </tr>\n    <tr>\n      <th>4</th>\n      <td>26082</td>\n      <td>213092748</td>\n      <td>5374.0</td>\n      <td>1897779020524</td>\n      <td>1282</td>\n      <td>4.191888</td>\n      <td>Drama</td>\n    </tr>\n    <tr>\n      <th>...</th>\n      <td>...</td>\n      <td>...</td>\n      <td>...</td>\n      <td>...</td>\n      <td>...</td>\n      <td>...</td>\n      <td>...</td>\n    </tr>\n    <tr>\n      <th>1073</th>\n      <td>1981</td>\n      <td>243854131</td>\n      <td>2772.0</td>\n      <td>1714465547406</td>\n      <td>1495</td>\n      <td>1.854181</td>\n      <td>Horror</td>\n    </tr>\n    <tr>\n      <th>1074</th>\n      <td>1760</td>\n      <td>552474506</td>\n      <td>6083.5</td>\n      <td>3830780656494</td>\n      <td>3317</td>\n      <td>1.834037</td>\n      <td>Comedy</td>\n    </tr>\n    <tr>\n      <th>1075</th>\n      <td>6482</td>\n      <td>381293121</td>\n      <td>4065.5</td>\n      <td>2992591178695</td>\n      <td>2292</td>\n      <td>1.773778</td>\n      <td>Comedy</td>\n    </tr>\n    <tr>\n      <th>1076</th>\n      <td>2555</td>\n      <td>285063817</td>\n      <td>2896.5</td>\n      <td>1898360097339</td>\n      <td>1679</td>\n      <td>1.725134</td>\n      <td>Comedy</td>\n    </tr>\n    <tr>\n      <th>1077</th>\n      <td>57532</td>\n      <td>194063825</td>\n      <td>1903.0</td>\n      <td>1636766416042</td>\n      <td>1172</td>\n      <td>1.623720</td>\n      <td>Comedy</td>\n    </tr>\n  </tbody>\n</table>\n<p>1078 rows × 7 columns</p>\n</div>"
     },
     "execution_count": 6,
     "metadata": {},
     "output_type": "execute_result"
    }
   ],
   "source": [
    "movies_info"
   ],
   "metadata": {
    "collapsed": false,
    "ExecuteTime": {
     "end_time": "2024-05-01T08:01:03.860197600Z",
     "start_time": "2024-05-01T08:01:03.747545600Z"
    }
   },
   "id": "5c3395178553648d",
   "execution_count": 6
  },
  {
   "cell_type": "code",
   "outputs": [
    {
     "data": {
      "text/plain": "       movieId                                              title  \\\n0            1                                   Toy Story (1995)   \n1            2                                     Jumanji (1995)   \n2            3                            Grumpier Old Men (1995)   \n3            4                           Waiting to Exhale (1995)   \n4            5                 Father of the Bride Part II (1995)   \n...        ...                                                ...   \n86532   288967               State of Siege: Temple Attack (2021)   \n86533   288971                                 Ouija Japan (2021)   \n86534   288975   The Men Who Made the Movies: Howard Hawks (1973)   \n86535   288977                    Skinford: Death Sentence (2023)   \n86536   288983  UNZIPPED: An Autopsy of American Inequality (2...   \n\n                                            genres  \n0      Adventure|Animation|Children|Comedy|Fantasy  \n1                       Adventure|Children|Fantasy  \n2                                   Comedy|Romance  \n3                             Comedy|Drama|Romance  \n4                                           Comedy  \n...                                            ...  \n86532                                 Action|Drama  \n86533                                Action|Horror  \n86534                                  Documentary  \n86535                               Crime|Thriller  \n86536                                  Documentary  \n\n[86537 rows x 3 columns]",
      "text/html": "<div>\n<style scoped>\n    .dataframe tbody tr th:only-of-type {\n        vertical-align: middle;\n    }\n\n    .dataframe tbody tr th {\n        vertical-align: top;\n    }\n\n    .dataframe thead th {\n        text-align: right;\n    }\n</style>\n<table border=\"1\" class=\"dataframe\">\n  <thead>\n    <tr style=\"text-align: right;\">\n      <th></th>\n      <th>movieId</th>\n      <th>title</th>\n      <th>genres</th>\n    </tr>\n  </thead>\n  <tbody>\n    <tr>\n      <th>0</th>\n      <td>1</td>\n      <td>Toy Story (1995)</td>\n      <td>Adventure|Animation|Children|Comedy|Fantasy</td>\n    </tr>\n    <tr>\n      <th>1</th>\n      <td>2</td>\n      <td>Jumanji (1995)</td>\n      <td>Adventure|Children|Fantasy</td>\n    </tr>\n    <tr>\n      <th>2</th>\n      <td>3</td>\n      <td>Grumpier Old Men (1995)</td>\n      <td>Comedy|Romance</td>\n    </tr>\n    <tr>\n      <th>3</th>\n      <td>4</td>\n      <td>Waiting to Exhale (1995)</td>\n      <td>Comedy|Drama|Romance</td>\n    </tr>\n    <tr>\n      <th>4</th>\n      <td>5</td>\n      <td>Father of the Bride Part II (1995)</td>\n      <td>Comedy</td>\n    </tr>\n    <tr>\n      <th>...</th>\n      <td>...</td>\n      <td>...</td>\n      <td>...</td>\n    </tr>\n    <tr>\n      <th>86532</th>\n      <td>288967</td>\n      <td>State of Siege: Temple Attack (2021)</td>\n      <td>Action|Drama</td>\n    </tr>\n    <tr>\n      <th>86533</th>\n      <td>288971</td>\n      <td>Ouija Japan (2021)</td>\n      <td>Action|Horror</td>\n    </tr>\n    <tr>\n      <th>86534</th>\n      <td>288975</td>\n      <td>The Men Who Made the Movies: Howard Hawks (1973)</td>\n      <td>Documentary</td>\n    </tr>\n    <tr>\n      <th>86535</th>\n      <td>288977</td>\n      <td>Skinford: Death Sentence (2023)</td>\n      <td>Crime|Thriller</td>\n    </tr>\n    <tr>\n      <th>86536</th>\n      <td>288983</td>\n      <td>UNZIPPED: An Autopsy of American Inequality (2...</td>\n      <td>Documentary</td>\n    </tr>\n  </tbody>\n</table>\n<p>86537 rows × 3 columns</p>\n</div>"
     },
     "execution_count": 7,
     "metadata": {},
     "output_type": "execute_result"
    }
   ],
   "source": [
    "movies_names = pd.read_csv(\"ml-latest/movies.csv\")\n",
    "movies_names"
   ],
   "metadata": {
    "collapsed": false,
    "ExecuteTime": {
     "end_time": "2024-05-01T08:01:04.013164400Z",
     "start_time": "2024-05-01T08:01:03.753442500Z"
    }
   },
   "id": "467a11370eacbce0",
   "execution_count": 7
  },
  {
   "cell_type": "code",
   "outputs": [
    {
     "data": {
      "text/plain": "       movieId                               title              genres  \\\n4            5  Father of the Bride Part II (1995)              Comedy   \n7            8                 Tom and Huck (1995)  Adventure|Children   \n8            9                 Sudden Death (1995)              Action   \n13          14                        Nixon (1995)               Drama   \n17          18                   Four Rooms (1995)              Comedy   \n...        ...                                 ...                 ...   \n69608   223944           The Social Dilemma (2020)   Documentary|Drama   \n70004   225145                    Nomadland (2020)               Drama   \n70197   225625   Borat Subsequent Moviefilm (2020)              Comedy   \n70313   225984                Another Round (2020)               Drama   \n75856   250010           Bo Burnham: Inside (2021)              Comedy   \n\n           userId   rating       timestamp  no_people_rated  avg_rating  \\\n4      2603834260  48619.0  15955867010862            15801    3.076957   \n7       260860097   4939.0   1572105851435             1584    3.118056   \n8       744359812  13703.5   4344284015054             4563    3.003178   \n13     1125655409  23771.5   6563433835468             6933    3.428747   \n17     1109373960  22874.0   7455723682994             6688    3.420156   \n...           ...      ...             ...              ...         ...   \n69608   174925447   3811.5   1699918539618             1048    3.636927   \n70004   198977021   4321.0   1954385174038             1195    3.615900   \n70197   233011136   4686.5   2314855294368             1425    3.288772   \n70313   232631047   5237.5   2252471175918             1376    3.806323   \n75856   281671682   6745.5   2806608127996             1705    3.956305   \n\n      suitable_genre  \n4             Comedy  \n7          Adventure  \n8             Action  \n13             Drama  \n17            Comedy  \n...              ...  \n69608          Drama  \n70004          Drama  \n70197         Comedy  \n70313          Drama  \n75856         Comedy  \n\n[1078 rows x 9 columns]",
      "text/html": "<div>\n<style scoped>\n    .dataframe tbody tr th:only-of-type {\n        vertical-align: middle;\n    }\n\n    .dataframe tbody tr th {\n        vertical-align: top;\n    }\n\n    .dataframe thead th {\n        text-align: right;\n    }\n</style>\n<table border=\"1\" class=\"dataframe\">\n  <thead>\n    <tr style=\"text-align: right;\">\n      <th></th>\n      <th>movieId</th>\n      <th>title</th>\n      <th>genres</th>\n      <th>userId</th>\n      <th>rating</th>\n      <th>timestamp</th>\n      <th>no_people_rated</th>\n      <th>avg_rating</th>\n      <th>suitable_genre</th>\n    </tr>\n  </thead>\n  <tbody>\n    <tr>\n      <th>4</th>\n      <td>5</td>\n      <td>Father of the Bride Part II (1995)</td>\n      <td>Comedy</td>\n      <td>2603834260</td>\n      <td>48619.0</td>\n      <td>15955867010862</td>\n      <td>15801</td>\n      <td>3.076957</td>\n      <td>Comedy</td>\n    </tr>\n    <tr>\n      <th>7</th>\n      <td>8</td>\n      <td>Tom and Huck (1995)</td>\n      <td>Adventure|Children</td>\n      <td>260860097</td>\n      <td>4939.0</td>\n      <td>1572105851435</td>\n      <td>1584</td>\n      <td>3.118056</td>\n      <td>Adventure</td>\n    </tr>\n    <tr>\n      <th>8</th>\n      <td>9</td>\n      <td>Sudden Death (1995)</td>\n      <td>Action</td>\n      <td>744359812</td>\n      <td>13703.5</td>\n      <td>4344284015054</td>\n      <td>4563</td>\n      <td>3.003178</td>\n      <td>Action</td>\n    </tr>\n    <tr>\n      <th>13</th>\n      <td>14</td>\n      <td>Nixon (1995)</td>\n      <td>Drama</td>\n      <td>1125655409</td>\n      <td>23771.5</td>\n      <td>6563433835468</td>\n      <td>6933</td>\n      <td>3.428747</td>\n      <td>Drama</td>\n    </tr>\n    <tr>\n      <th>17</th>\n      <td>18</td>\n      <td>Four Rooms (1995)</td>\n      <td>Comedy</td>\n      <td>1109373960</td>\n      <td>22874.0</td>\n      <td>7455723682994</td>\n      <td>6688</td>\n      <td>3.420156</td>\n      <td>Comedy</td>\n    </tr>\n    <tr>\n      <th>...</th>\n      <td>...</td>\n      <td>...</td>\n      <td>...</td>\n      <td>...</td>\n      <td>...</td>\n      <td>...</td>\n      <td>...</td>\n      <td>...</td>\n      <td>...</td>\n    </tr>\n    <tr>\n      <th>69608</th>\n      <td>223944</td>\n      <td>The Social Dilemma (2020)</td>\n      <td>Documentary|Drama</td>\n      <td>174925447</td>\n      <td>3811.5</td>\n      <td>1699918539618</td>\n      <td>1048</td>\n      <td>3.636927</td>\n      <td>Drama</td>\n    </tr>\n    <tr>\n      <th>70004</th>\n      <td>225145</td>\n      <td>Nomadland (2020)</td>\n      <td>Drama</td>\n      <td>198977021</td>\n      <td>4321.0</td>\n      <td>1954385174038</td>\n      <td>1195</td>\n      <td>3.615900</td>\n      <td>Drama</td>\n    </tr>\n    <tr>\n      <th>70197</th>\n      <td>225625</td>\n      <td>Borat Subsequent Moviefilm (2020)</td>\n      <td>Comedy</td>\n      <td>233011136</td>\n      <td>4686.5</td>\n      <td>2314855294368</td>\n      <td>1425</td>\n      <td>3.288772</td>\n      <td>Comedy</td>\n    </tr>\n    <tr>\n      <th>70313</th>\n      <td>225984</td>\n      <td>Another Round (2020)</td>\n      <td>Drama</td>\n      <td>232631047</td>\n      <td>5237.5</td>\n      <td>2252471175918</td>\n      <td>1376</td>\n      <td>3.806323</td>\n      <td>Drama</td>\n    </tr>\n    <tr>\n      <th>75856</th>\n      <td>250010</td>\n      <td>Bo Burnham: Inside (2021)</td>\n      <td>Comedy</td>\n      <td>281671682</td>\n      <td>6745.5</td>\n      <td>2806608127996</td>\n      <td>1705</td>\n      <td>3.956305</td>\n      <td>Comedy</td>\n    </tr>\n  </tbody>\n</table>\n<p>1078 rows × 9 columns</p>\n</div>"
     },
     "execution_count": 8,
     "metadata": {},
     "output_type": "execute_result"
    }
   ],
   "source": [
    "movies_info_ = movies_info.copy().set_index(\"movieId\")\n",
    "joined = movies_names.copy().join(movies_info_, how=\"inner\", on=\"movieId\", lsuffix=\"_left\", rsuffix=\"_right\")\n",
    "joined\n"
   ],
   "metadata": {
    "collapsed": false,
    "ExecuteTime": {
     "end_time": "2024-05-01T08:01:04.160713300Z",
     "start_time": "2024-05-01T08:01:03.895566800Z"
    }
   },
   "id": "e8fd1dbdc4ac05bb",
   "execution_count": 8
  },
  {
   "cell_type": "code",
   "outputs": [
    {
     "name": "stdout",
     "output_type": "stream",
     "text": [
      "['Comedy', 'Sci-Fi', 'Drama']\n"
     ]
    }
   ],
   "source": [
    "def user_genres(user_input):\n",
    "    user_genres_ = []\n",
    "    for key, value in user_input.items():\n",
    "        movie_id = movies_names[movies_names['title']==key][\"movieId\"].values[0]\n",
    "        genre = movies_info[movies_info[\"movieId\"]==movie_id]['suitable_genre'].values[0]\n",
    "        if genre not in user_genres_: user_genres_.append(genre)\n",
    "    return user_genres_\n",
    "print(user_genres(user_input_example))"
   ],
   "metadata": {
    "collapsed": false,
    "ExecuteTime": {
     "end_time": "2024-05-01T08:01:04.414078800Z",
     "start_time": "2024-05-01T08:01:03.930249900Z"
    }
   },
   "id": "c729edb38956fcdd",
   "execution_count": 9
  },
  {
   "cell_type": "markdown",
   "source": [
    "This methods finds all the users that have rated at least one of the movies from what the user provided - we don't care whether the rating is low or high - both give us good information - at the end we will insert the new user in the dataframe so to compute the distance metric reliably. This is however done through an external method so to adhere to the DRY principles."
   ],
   "metadata": {
    "collapsed": false
   },
   "id": "e68e70ec32622080"
  },
  {
   "cell_type": "code",
   "outputs": [
    {
     "name": "stdout",
     "output_type": "stream",
     "text": [
      "userId   2       3       4       5       7       9       14      15      \\\n",
      "movieId                                                                   \n",
      "344         3.0     0.0     0.0     0.0     0.0     3.0     1.0     0.0   \n",
      "109487      0.0     5.0     4.5     0.0     0.0     0.0     0.0     0.0   \n",
      "527         5.0     0.0     0.0     4.0     4.0     4.0     0.0     3.0   \n",
      "586         4.0     0.0     0.0     0.0     0.0     3.0     0.5     0.0   \n",
      "\n",
      "userId   16      17      ...  330951  330957  330961  330963  330965  330967  \\\n",
      "movieId                  ...                                                   \n",
      "344         0.0     0.0  ...     1.0     0.0     1.0     4.0     3.0     0.0   \n",
      "109487      4.5     0.0  ...     0.0     0.0     0.0     0.0     0.0     0.0   \n",
      "527         0.0     5.0  ...     5.0     3.0     4.0     0.0     0.0     4.0   \n",
      "586         0.0     0.0  ...     4.0     0.0     4.0     0.0     0.0     0.0   \n",
      "\n",
      "userId   330971  330972  330974  330975  \n",
      "movieId                                  \n",
      "344         0.0     0.0     0.0     0.5  \n",
      "109487      0.0     0.0     0.0     0.0  \n",
      "527         4.5     4.0     4.5     3.5  \n",
      "586         0.0     3.0     0.0     1.0  \n",
      "\n",
      "[4 rows x 136850 columns]\n"
     ]
    }
   ],
   "source": [
    "def movies_only_valid_movies(user_input):\n",
    "    df_lst = []\n",
    "    for key,value in user_input.items():\n",
    "        movie_id = movies_names[movies_names['title']==key][\"movieId\"].values[0]\n",
    "        all_user_ratings_specific_movie = df[df.index==movie_id]\n",
    "        df_lst.append(all_user_ratings_specific_movie)\n",
    "    df_lst = pd.concat(df_lst)\n",
    "    #return df_lst\n",
    "    # can delete the following 2 rows to also have the 0 cols on the specified movies but it saves a lot of similarity computation\n",
    "    df_lst = df_lst.replace(0.0,np.nan).dropna(axis=1,how=\"all\")\n",
    "    df_lst = df_lst.replace(np.nan, 0.0)\n",
    "    return df_lst\n",
    "print(movies_only_valid_movies(user_input_example))"
   ],
   "metadata": {
    "collapsed": false,
    "ExecuteTime": {
     "end_time": "2024-05-01T08:01:04.722834100Z",
     "start_time": "2024-05-01T08:01:03.979369700Z"
    }
   },
   "id": "9b8b78b1e094e787",
   "execution_count": 10
  },
  {
   "cell_type": "markdown",
   "source": [
    "This methods finds all the movies that have overlapping genres with what the user provided - we don't care whether the rating is low or high - both give us good information - at the end we will insert the new user in the dataframe so to compute the distance metric reliably. This is however done through an external method so to adhere to the DRY principles."
   ],
   "metadata": {
    "collapsed": false
   },
   "id": "389f833d50a5d0d3"
  },
  {
   "cell_type": "code",
   "outputs": [
    {
     "name": "stdout",
     "output_type": "stream",
     "text": [
      "              userId    rating        timestamp  no_people_rated  avg_rating  \\\n",
      "movieId                                                                        \n",
      "1203      3738563090   96992.5   29894679700250            22730    4.267158   \n",
      "527      13929219732  357340.5  103671567916204            84232    4.242337   \n",
      "1193      8118516317  207758.5   61568690477830            49316    4.212801   \n",
      "750       5650978895  144160.5   42473159316615            34324    4.199991   \n",
      "26082      213092748    5374.0    1897779020524             1282    4.191888   \n",
      "...              ...       ...              ...              ...         ...   \n",
      "3564       320502095    3680.0    2354590713650             1969    1.868969   \n",
      "1760       552474506    6083.5    3830780656494             3317    1.834037   \n",
      "6482       381293121    4065.5    2992591178695             2292    1.773778   \n",
      "2555       285063817    2896.5    1898360097339             1679    1.725134   \n",
      "57532      194063825    1903.0    1636766416042             1172    1.623720   \n",
      "\n",
      "        suitable_genre  \n",
      "movieId                 \n",
      "1203             Drama  \n",
      "527              Drama  \n",
      "1193             Drama  \n",
      "750             Comedy  \n",
      "26082            Drama  \n",
      "...                ...  \n",
      "3564            Comedy  \n",
      "1760            Comedy  \n",
      "6482            Comedy  \n",
      "2555            Comedy  \n",
      "57532           Comedy  \n",
      "\n",
      "[900 rows x 6 columns]\n"
     ]
    }
   ],
   "source": [
    "def movies_only_valid_genres(user_input):\n",
    "    valid_genres = user_genres(user_input)\n",
    "    movies_with_same_genres_id = movies_info[movies_info['suitable_genre'].isin(valid_genres)]\n",
    "    movies_with_same_genres_id.set_index(\"movieId\", inplace=True)\n",
    "    print(movies_with_same_genres_id)\n",
    "    movies_with_same_genres_title = movies_names.join(movies_with_same_genres_id, on='movieId', how='inner', lsuffix=\"l\", rsuffix=\"r\")[\"title\"].values\n",
    "    arbitrary_ratings = {movie_title:0 for movie_title in movies_with_same_genres_title}\n",
    "    return movies_only_valid_movies(arbitrary_ratings)\n",
    "test = movies_only_valid_genres(user_input_example)\n",
    "#print(test)"
   ],
   "metadata": {
    "collapsed": false,
    "ExecuteTime": {
     "end_time": "2024-05-01T08:01:18.620418200Z",
     "start_time": "2024-05-01T08:01:04.092734500Z"
    }
   },
   "id": "cbaf82fbc050703d",
   "execution_count": 11
  },
  {
   "cell_type": "markdown",
   "source": [
    "Here we just define a helper method to compute the most similar users in the dataframes"
   ],
   "metadata": {
    "collapsed": false
   },
   "id": "b2391233cfa5647b"
  },
  {
   "cell_type": "code",
   "outputs": [
    {
     "name": "stderr",
     "output_type": "stream",
     "text": [
      "C:\\Users\\strak\\AppData\\Local\\Temp\\ipykernel_7300\\3649175840.py:12: FutureWarning: Setting an item of incompatible dtype is deprecated and will raise an error in a future version of pandas. Value '4.3' has dtype incompatible with int64, please explicitly cast to a compatible dtype first.\n",
      "  df.loc[movie_id, \"user_ratings\"] = rating\n"
     ]
    },
    {
     "name": "stdout",
     "output_type": "stream",
     "text": [
      "Ratings of relevant movies found - computing similarity metrics\n",
      "Found the 1000 most similar users in 107.47016835212708 seconds\n",
      "The following movies were the only ones with not all 0 ratings: \n",
      "userId   224578  268189  65580  313810  226716  148974  55685  142798  29723  \\\n",
      "movieId                                                                        \n",
      "5           0.0     0.0    0.0     0.0     0.0     0.0    0.0     0.0    0.0   \n",
      "14          0.0     0.0    0.0     0.0     0.0     0.0    0.0     0.0    0.0   \n",
      "18          0.0     0.0    0.0     0.0     0.0     0.0    0.0     0.0    0.0   \n",
      "19          0.0     0.0    0.0     0.0     0.0     0.0    0.0     0.0    0.0   \n",
      "26          0.0     0.0    0.0     0.0     0.0     0.0    0.0     0.0    0.0   \n",
      "...         ...     ...    ...     ...     ...     ...    ...     ...    ...   \n",
      "212361      0.0     0.0    0.0     0.0     0.0     0.0    0.0     0.0    0.0   \n",
      "217655      0.0     0.0    0.0     0.0     0.0     0.0    0.0     0.0    0.0   \n",
      "223944      0.0     0.0    0.0     0.0     0.0     0.0    0.0     0.0    0.0   \n",
      "225145      0.0     0.0    0.0     0.0     0.0     0.0    0.0     0.0    0.0   \n",
      "225984      0.0     0.0    0.0     0.0     0.0     0.0    0.0     0.0    0.0   \n",
      "\n",
      "userId   10481  ...  274941  2125  206848  313853  236985  249014  69442  \\\n",
      "movieId         ...                                                        \n",
      "5          0.0  ...     0.0   0.0     0.0     0.0     0.0     0.0    0.0   \n",
      "14         0.0  ...     0.0   0.0     0.0     0.0     0.0     0.0    0.0   \n",
      "18         0.0  ...     0.0   0.0     0.0     0.0     0.0     0.0    0.0   \n",
      "19         2.0  ...     0.0   3.0     0.0     3.0     3.0     0.0    3.0   \n",
      "26         0.0  ...     0.0   0.0     0.0     0.0     0.0     0.0    0.0   \n",
      "...        ...  ...     ...   ...     ...     ...     ...     ...    ...   \n",
      "212361     0.0  ...     0.0   0.0     0.0     0.0     0.0     0.0    0.0   \n",
      "217655     0.0  ...     0.0   0.0     0.0     0.0     0.0     0.0    0.0   \n",
      "223944     0.0  ...     0.0   0.0     0.0     0.0     0.0     0.0    0.0   \n",
      "225145     0.0  ...     0.0   0.0     0.0     0.0     0.0     0.0    0.0   \n",
      "225984     0.0  ...     0.0   0.0     0.0     0.0     0.0     0.0    0.0   \n",
      "\n",
      "userId   69829  163596  user_ratings  \n",
      "movieId                               \n",
      "5          0.0     0.0           0.0  \n",
      "14         0.0     0.0           0.0  \n",
      "18         0.0     0.0           0.0  \n",
      "19         0.0     3.0           0.0  \n",
      "26         0.0     0.0           0.0  \n",
      "...        ...     ...           ...  \n",
      "212361     0.0     0.0           0.0  \n",
      "217655     0.0     0.0           0.0  \n",
      "223944     0.0     0.0           0.0  \n",
      "225145     0.0     0.0           0.0  \n",
      "225984     0.0     0.0           0.0  \n",
      "\n",
      "[433 rows x 1001 columns]\n"
     ]
    }
   ],
   "source": [
    "import time\n",
    "def most_similar_users_cos(df, user_ratings):\n",
    "    movie_ids = []\n",
    "    # laplace_constant = .001 - was meant for smoothing - might need it later\n",
    "    user_ratings_sparse = [0 for _ in range(len(df))]\n",
    "    df[\"user_ratings\"] = user_ratings_sparse\n",
    "    for movie_title,rating in user_ratings.items():\n",
    "        movie_id = movies_names[movies_names['title']==movie_title][\"movieId\"].values[0]\n",
    "        movie_ids.append(movie_id)\n",
    "        # if the user has not provided movies that are relevant all the ratings will be 0 (which is not a valid value since the rating scale is 1-5 but that is ok because then it will say that they are most similar with the people that haven't rated the movies (haven't seen them) as well\n",
    "        if movie_id in df.index.values:\n",
    "            df.loc[movie_id, \"user_ratings\"] = rating\n",
    "    # now compute the cosine distance - the problem here arises if the user has not provided any ratings - since dividing by a 0 is not allowed. for now - we will only work on the case where it is allowed\n",
    "    our_user = df[\"user_ratings\"].values\n",
    "    cos_distances = []\n",
    "    if np.any(our_user):\n",
    "        print(\"Ratings of relevant movies found - computing similarity metrics\")\n",
    "        beginning = time.time()\n",
    "        for i in range(df.shape[1] - 1):\n",
    "            other_user = df.iloc[:,i].values\n",
    "            cos_distance = np.dot(our_user, other_user)/(np.sqrt(np.sum([x*x for x in our_user]) * np.sqrt(np.sum([y*y for y in other_user]))))\n",
    "            cos_distances.append(cos_distance)\n",
    "        number_of_users = np.min([1000, len(cos_distances) - 1])\n",
    "        top_indices = np.argsort(-np.array(cos_distances))[:number_of_users]\n",
    "        top_indices = np.append(top_indices, -1)\n",
    "        top_users = df[df.copy().T.index[top_indices]]\n",
    "        print(f\"Found the {number_of_users} most similar users in {time.time()-beginning} seconds\")\n",
    "        print(\"The following movies were the only ones with not all 0 ratings: \")\n",
    "        non_zero_movies = []\n",
    "        for i in range(len(top_users)):\n",
    "            if np.sum(top_users.iloc[i]) > 0 : non_zero_movies.append(i)\n",
    "        top_users = top_users.iloc[non_zero_movies]\n",
    "        return top_users[top_users.index.isin(movie_ids)==False]\n",
    "    else:\n",
    "        print(\"No ratings were provided by the user - not able to compute similarity metrics\")\n",
    "        return None\n",
    "most_similar_users = most_similar_users_cos(test, user_input_example)\n",
    "print(most_similar_users)"
   ],
   "metadata": {
    "collapsed": false,
    "ExecuteTime": {
     "end_time": "2024-05-01T08:03:06.770627600Z",
     "start_time": "2024-05-01T08:01:18.630696600Z"
    }
   },
   "id": "fb66d42f605d6483",
   "execution_count": 12
  },
  {
   "cell_type": "markdown",
   "source": [
    "Now that we have the n most similar users - we can see what movies to recommend from them..."
   ],
   "metadata": {
    "collapsed": false
   },
   "id": "ea6f20613e07fd5e"
  },
  {
   "cell_type": "code",
   "outputs": [
    {
     "name": "stdout",
     "output_type": "stream",
     "text": [
      "Top movies recommended by mean ratings:\n",
      "movieId\n",
      "78836    5.0\n",
      "2860     5.0\n",
      "8827     5.0\n",
      "501      5.0\n",
      "36527    5.0\n",
      "dtype: float64\n"
     ]
    }
   ],
   "source": [
    "def recommend_by_mean(df, N=5):\n",
    "    mean_ratings = df.replace(0, np.nan).mean(axis=1).dropna()\n",
    "    recommendations = mean_ratings.sort_values(ascending=False).head(N)\n",
    "    return recommendations\n",
    "\n",
    "top_movies_by_mean = recommend_by_mean(most_similar_users)\n",
    "print(\"Top movies recommended by mean ratings:\")\n",
    "print(top_movies_by_mean)"
   ],
   "metadata": {
    "collapsed": false,
    "ExecuteTime": {
     "end_time": "2024-05-01T08:03:06.836212Z",
     "start_time": "2024-05-01T08:03:06.775064100Z"
    }
   },
   "id": "562eff21a3ce53e9",
   "execution_count": 13
  },
  {
   "cell_type": "markdown",
   "source": [
    "For some movies we can see that this doesnt work very well since there is only one rating - maybe let's take the average rating into account as well as a tiebreaker"
   ],
   "metadata": {
    "collapsed": false
   },
   "id": "36c087e318e478a9"
  },
  {
   "cell_type": "code",
   "outputs": [
    {
     "name": "stdout",
     "output_type": "stream",
     "text": [
      "Top movies recommended with tiebreaking based on global average rating:\n",
      "         key_0  movieId  weighted_mean  global_avg  num_ratings  \\\n",
      "movieId                                                           \n",
      "3134      3134     3134            5.0    4.116348            1   \n",
      "3089      3089     3089            5.0    4.108164            1   \n",
      "1228      1228     1228            5.0    4.036668            1   \n",
      "214        214      214            5.0    4.030982            1   \n",
      "66371    66371    66371            5.0    3.997815            1   \n",
      "\n",
      "                                                     title  rank  \n",
      "movieId                                                           \n",
      "3134            Grand Illusion (La grande illusion) (1937)     1  \n",
      "3089     Bicycle Thieves (a.k.a. The Bicycle Thief) (a....     2  \n",
      "1228                                    Raging Bull (1980)     3  \n",
      "214                  Before the Rain (Pred dozhdot) (1994)     4  \n",
      "66371                        Departures (Okuribito) (2008)     5  \n"
     ]
    }
   ],
   "source": [
    "def recommend_with_tiebreaking(df, global_avg, movies_info, movies_names, N=5):\n",
    "    # Calculate the mean rating for each movie within the similar users, ignoring zero ratings\n",
    "    mean_ratings = df.replace(0, np.nan).mean(axis=1)\n",
    "    # Count the number of non-zero ratings for each movie\n",
    "    num_ratings = df[df > 0].count(axis=1)\n",
    "    \n",
    "    # Create a DataFrame for the combined data\n",
    "    combined = pd.DataFrame({\n",
    "        'movieId': mean_ratings.index,\n",
    "        'weighted_mean': mean_ratings,\n",
    "        'global_avg': global_avg.reindex(mean_ratings.index),\n",
    "        'num_ratings': num_ratings\n",
    "    }).dropna(subset=['weighted_mean'])\n",
    "    \n",
    "    combined_sorted = combined.sort_values(by=['weighted_mean', 'global_avg', 'num_ratings'], ascending=[False, False, False])\n",
    "\n",
    "    recommendations = combined_sorted.head(N)\n",
    "    recommendations = recommendations.join(movies_names.set_index('movieId'), on=recommendations.index)\n",
    "    recommendations = recommendations.assign(rank=range(1, N + 1))\n",
    "    return recommendations\n",
    "\n",
    "global_avg_ratings = movies_info.set_index('movieId')['avg_rating']\n",
    "movies_titles = movies_names[['movieId', 'title']]\n",
    "\n",
    "top_movies_with_tiebreaking = recommend_with_tiebreaking(most_similar_users, global_avg_ratings, movies_info, movies_titles)\n",
    "print(\"Top movies recommended with tiebreaking based on global average rating:\")\n",
    "print(top_movies_with_tiebreaking)\n"
   ],
   "metadata": {
    "collapsed": false,
    "ExecuteTime": {
     "end_time": "2024-05-01T08:03:06.897947400Z",
     "start_time": "2024-05-01T08:03:06.805061900Z"
    }
   },
   "id": "f8bd31f404d209f7",
   "execution_count": 14
  }
 ],
 "metadata": {
  "kernelspec": {
   "display_name": "Python 3",
   "language": "python",
   "name": "python3"
  },
  "language_info": {
   "codemirror_mode": {
    "name": "ipython",
    "version": 2
   },
   "file_extension": ".py",
   "mimetype": "text/x-python",
   "name": "python",
   "nbconvert_exporter": "python",
   "pygments_lexer": "ipython2",
   "version": "2.7.6"
  }
 },
 "nbformat": 4,
 "nbformat_minor": 5
}
