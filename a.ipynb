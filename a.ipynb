{
 "cells": [
  {
   "cell_type": "code",
   "outputs": [],
   "source": [
    "import pandas as pd\n",
    "import numpy as np\n",
    "from sklearn.metrics import mean_squared_error\n",
    "from annoy import AnnoyIndex\n",
    "from scipy.sparse import csr_matrix, vstack\n",
    "from sklearn.decomposition import TruncatedSVD\n",
    "from sklearn.metrics.pairwise import cosine_similarity\n",
    "import time\n",
    "import matplotlib.pyplot as plt"
   ],
   "metadata": {
    "collapsed": false,
    "ExecuteTime": {
     "end_time": "2024-04-19T07:49:15.386833500Z",
     "start_time": "2024-04-19T07:49:15.372441300Z"
    }
   },
   "id": "fe0bfee60c3cd1c1",
   "execution_count": 70
  },
  {
   "cell_type": "code",
   "outputs": [],
   "source": [
    "class ANN_Recommender:\n",
    "    \n",
    "    def __init__(self, ratings_file, movies_file, n_trees=10):\n",
    "        self.sample_size = 1000\n",
    "        init_time = time.time()\n",
    "        self.movies_df = pd.read_csv(movies_file)\n",
    "        print(\"Movies read in \", time.time() - init_time, \"seconds --- task 1/5\")\n",
    "        \n",
    "        init_time = time.time()\n",
    "        self.ratings_df = pd.read_csv(ratings_file)\n",
    "        print(\"Ratings read in \", time.time() - init_time, \"seconds --- task 2/5\")\n",
    "        \n",
    "        init_time = time.time()\n",
    "        self.sample_movies_and_adjust_ratings()\n",
    "        print(\"Matrix adjusted in \", time.time() - init_time, \"seconds --- task 3/5\")\n",
    "        \n",
    "        init_time = time.time()\n",
    "        self.user_item_matrix, self.user_map, self.item_map = self.create_sparse_matrix(self.ratings_df)\n",
    "        print(\"Sparse matrix created in \", time.time() - init_time, \"seconds --- task 4/5\")\n",
    "        \n",
    "        init_time = time.time()\n",
    "        self.index = self.build_ann_index()  # Initialize Annoy index with the current data\n",
    "        print(\"Index built in \", time.time() - init_time, \"seconds --- task 5/5\")\n",
    "        print(\"Initialization completed\")\n",
    "\n",
    "    def sample_movies_and_adjust_ratings(self, random_seed=42):\n",
    "        np.random.seed(random_seed)\n",
    "        sampled_movies = np.random.choice(self.movies_df['movieId'].unique(), size=self.sample_size, replace=False)\n",
    "        self.movies_df = self.movies_df[self.movies_df['movieId'].isin(sampled_movies)]\n",
    "        self.ratings_df = self.ratings_df[self.ratings_df['movieId'].isin(sampled_movies)]\n",
    "\n",
    "    def create_sparse_matrix(self, df):\n",
    "        users = df['userId'].unique()\n",
    "        items = df['movieId'].unique()\n",
    "        user_map = {user: i for i, user in enumerate(users)}\n",
    "        item_map = {item: i for i, item in enumerate(items)}\n",
    "        mat = csr_matrix((df['rating'], ([user_map[x] for x in df['userId']], [item_map[x] for x in df['movieId']])),\n",
    "                         shape=(len(users), len(items)))\n",
    "        return mat, user_map, item_map\n",
    "\n",
    "    def build_ann_index(self):\n",
    "        n_components = self.user_item_matrix.shape[1]\n",
    "        index = AnnoyIndex(n_components, 'angular')\n",
    "        for i in range(self.user_item_matrix.shape[0]):\n",
    "            v = self.user_item_matrix[i].toarray().ravel()\n",
    "            index.add_item(i, v)\n",
    "        index.build(10)\n",
    "        return index\n",
    "\n",
    "    def add_user_ratings(self, user_ratings):\n",
    "        max_user_id = max(self.ratings_df['userId']) + 1\n",
    "        for title, rating in user_ratings.items():\n",
    "            if title not in self.movies_df['title'].values:\n",
    "                new_id = self.movies_df['movieId'].max() + 1\n",
    "                self.movies_df = pd.concat([self.movies_df, pd.DataFrame({'movieId': [new_id], 'title': [title]})], ignore_index=True)\n",
    "                self.ratings_df = pd.concat([self.ratings_df, pd.DataFrame({'userId': [max_user_id], 'movieId': [new_id], 'rating': [rating]})], ignore_index=True)\n",
    "            else:\n",
    "                movie_id = self.movies_df[self.movies_df['title'] == title]['movieId'].iloc[0]\n",
    "                self.ratings_df = pd.concat([self.ratings_df, pd.DataFrame({'userId': [max_user_id], 'movieId': [movie_id], 'rating': [rating]})], ignore_index=True)\n",
    "        self.user_item_matrix, self.user_map, self.item_map = self.create_sparse_matrix(self.ratings_df)\n",
    "        self.index = self.build_ann_index()  # Rebuild index with new data\n",
    "\n",
    "    def recommend_items(self, user_ratings, n_recommendations=5):\n",
    "        self.add_user_ratings(user_ratings)\n",
    "        user_idx = self.user_map[max(self.user_map.keys())]\n",
    "        try:\n",
    "            indices, _ = self.index.get_nns_by_item(user_idx, n_recommendations, include_distances=True)\n",
    "            valid_indices = [i for i in indices if i < len(self.item_map)]\n",
    "            recommended_movie_ids = [list(self.item_map.keys())[i] for i in valid_indices]\n",
    "            return self.movies_df[self.movies_df['movieId'].isin(recommended_movie_ids)]['title'].values\n",
    "        except IndexError as e:\n",
    "            print(e)\n",
    "            return self.movies_df[self.movies_df['movieId'].isin(self.popular_movies)]['title'].values\n",
    "\n",
    "    def visualize_recommendations(self, user_ratings, n_neighbors=20):\n",
    "        recommended_titles = self.recommend_items(user_ratings, n_neighbors)\n",
    "        fig, ax = plt.subplots(figsize=(10, 8))\n",
    "        x = np.random.rand(len(recommended_titles))\n",
    "        y = np.random.rand(len(recommended_titles))\n",
    "        ax.scatter(x, y, color='red', label='Recommended Movies')\n",
    "        for i, txt in enumerate(recommended_titles):\n",
    "            ax.annotate(txt, (x[i], y[i]), fontsize=9)\n",
    "        plt.title('Visualization of User-Specific Recommended Movies')\n",
    "        plt.legend()\n",
    "        plt.axis('off')\n",
    "        plt.show()"
   ],
   "metadata": {
    "collapsed": false,
    "ExecuteTime": {
     "end_time": "2024-04-19T07:49:15.433474100Z",
     "start_time": "2024-04-19T07:49:15.405775100Z"
    }
   },
   "id": "58376f70be83b7b7",
   "execution_count": 71
  },
  {
   "cell_type": "code",
   "outputs": [
    {
     "name": "stdout",
     "output_type": "stream",
     "text": [
      "Movies read in  0.12075471878051758 seconds --- task 1/5\n",
      "Ratings read in  10.255101680755615 seconds --- task 2/5\n",
      "Matrix adjusted in  0.8532283306121826 seconds --- task 3/5\n",
      "Sparse matrix created in  0.23634934425354004 seconds --- task 4/5\n",
      "Index built in  19.247141361236572 seconds --- task 5/5\n",
      "Initialization completed\n"
     ]
    }
   ],
   "source": [
    "recommender_ANN = ANN_Recommender('ml-latest/ratings.csv', 'ml-latest/movies.csv')"
   ],
   "metadata": {
    "collapsed": false,
    "ExecuteTime": {
     "end_time": "2024-04-19T07:49:46.147239Z",
     "start_time": "2024-04-19T07:49:15.417993900Z"
    }
   },
   "id": "3184c133e97a7afd",
   "execution_count": 72
  },
  {
   "cell_type": "code",
   "outputs": [],
   "source": [
    "def generate_recommendations_ANN(user_ratings):\n",
    "    start_time = time.time()\n",
    "    \n",
    "    recommender_ANN.visualize_recommendations(new_user_ratings)\n",
    "    \n",
    "    time_total = time.time() - start_time\n",
    "\n",
    "    print(\"Time taken in total:\", time_total, \"seconds\")\n"
   ],
   "metadata": {
    "collapsed": false,
    "ExecuteTime": {
     "end_time": "2024-04-19T07:49:46.148310200Z",
     "start_time": "2024-04-19T07:49:46.143157500Z"
    }
   },
   "id": "1828217a084ed33b",
   "execution_count": 73
  },
  {
   "cell_type": "code",
   "outputs": [],
   "source": [
    "new_user_ratings = {\"My Son the Fanatic (1997)\": 5, \n",
    "                    \"Rover, The (2014)\": 5, \n",
    "                    \"Mighty Joe Young (1949)\": 1}"
   ],
   "metadata": {
    "collapsed": false,
    "ExecuteTime": {
     "end_time": "2024-04-19T07:49:46.183459600Z",
     "start_time": "2024-04-19T07:49:46.147239Z"
    }
   },
   "id": "a3ee69b594cfcaa2",
   "execution_count": 74
  },
  {
   "cell_type": "code",
   "outputs": [
    {
     "data": {
      "text/plain": "<Figure size 1000x800 with 1 Axes>",
      "image/png": "[encoded data removed]"
     },
     "metadata": {},
     "output_type": "display_data"
    },
    {
     "name": "stdout",
     "output_type": "stream",
     "text": [
      "Time taken in total: 18.87410879135132 seconds\n"
     ]
    }
   ],
   "source": [
    "generate_recommendations_ANN(new_user_ratings)"
   ],
   "metadata": {
    "collapsed": false,
    "ExecuteTime": {
     "end_time": "2024-04-19T07:50:05.066428100Z",
     "start_time": "2024-04-19T07:49:46.185606900Z"
    }
   },
   "id": "87b034840e1369c7",
   "execution_count": 75
  }
 ],
 "metadata": {
  "kernelspec": {
   "display_name": "Python 3",
   "language": "python",
   "name": "python3"
  },
  "language_info": {
   "codemirror_mode": {
    "name": "ipython",
    "version": 2
   },
   "file_extension": ".py",
   "mimetype": "text/x-python",
   "name": "python",
   "nbconvert_exporter": "python",
   "pygments_lexer": "ipython2",
   "version": "2.7.6"
  }
 },
 "nbformat": 4,
 "nbformat_minor": 5
}
