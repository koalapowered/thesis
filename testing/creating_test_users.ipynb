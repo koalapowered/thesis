{
 "cells": [
  {
   "cell_type": "code",
   "outputs": [],
   "source": [],
   "metadata": {
    "collapsed": false,
    "ExecuteTime": {
     "end_time": "2024-05-01T09:51:28.683103700Z",
     "start_time": "2024-05-01T09:51:28.669944300Z"
    }
   },
   "id": "fec015deaf0d4f27",
   "execution_count": 25
  },
  {
   "cell_type": "code",
   "outputs": [],
   "source": [
    "import pandas as pd\n",
    "import numpy as np\n",
    "import matplotlib.pyplot as plt\n",
    "import scipy"
   ],
   "metadata": {
    "collapsed": false,
    "ExecuteTime": {
     "end_time": "2024-05-01T09:51:28.707872100Z",
     "start_time": "2024-05-01T09:51:28.689620800Z"
    }
   },
   "id": "7cb78f0c550e5816",
   "execution_count": 26
  },
  {
   "cell_type": "code",
   "outputs": [],
   "source": [
    "df = pd.read_pickle('../sparse_ratings.pkl')"
   ],
   "metadata": {
    "collapsed": false,
    "ExecuteTime": {
     "end_time": "2024-05-01T09:51:31.892208500Z",
     "start_time": "2024-05-01T09:51:28.714420Z"
    }
   },
   "id": "741adbfdaecec6f2",
   "execution_count": 27
  },
  {
   "cell_type": "code",
   "outputs": [],
   "source": [
    "movies_info = pd.read_csv(\"../suitable_movies.csv\")"
   ],
   "metadata": {
    "collapsed": false,
    "ExecuteTime": {
     "end_time": "2024-05-01T09:51:31.904625100Z",
     "start_time": "2024-05-01T09:51:31.897721300Z"
    }
   },
   "id": "14680eee7e05f395",
   "execution_count": 28
  },
  {
   "cell_type": "code",
   "outputs": [],
   "source": [
    "movies_info.set_index(\"movieId\", inplace=True)"
   ],
   "metadata": {
    "collapsed": false,
    "ExecuteTime": {
     "end_time": "2024-05-01T09:51:31.917034800Z",
     "start_time": "2024-05-01T09:51:31.906803500Z"
    }
   },
   "id": "c9ff5f6d0fbb6cd6",
   "execution_count": 29
  },
  {
   "cell_type": "code",
   "execution_count": 30,
   "id": "initial_id",
   "metadata": {
    "collapsed": true,
    "ExecuteTime": {
     "end_time": "2024-05-01T09:51:31.928752600Z",
     "start_time": "2024-05-01T09:51:31.919187100Z"
    }
   },
   "outputs": [],
   "source": [
    "def filter_users(df=df, n=1, categories=4):\n",
    "    \"\"\"\n",
    "    Find users who have rated at least n movies from every genre and simulate their ratings by limiting to n per genre.\n",
    "    \n",
    "    Args:\n",
    "    df (DataFrame): User-item matrix with users as columns and movies as rows, and ratings as values.\n",
    "    movies_info (DataFrame): Data about movies including genres and average ratings.\n",
    "    n (int): Number of movies per genre to include in the simulation.\n",
    "    \n",
    "    Returns:\n",
    "    DataFrame: A new DataFrame with simulated user ratings.\n",
    "    \"\"\"\n",
    "    # Create a DataFrame to track the genre of each movie\n",
    "    movie_genres = movies_info['suitable_genre']\n",
    "    df_ = df.copy()\n",
    "    valid_users = []\n",
    "    for user in df_.columns:\n",
    "        genres = {\n",
    "            \"Action\": 0,\n",
    "            \"Adventure\": 0,\n",
    "            \"Animation\": 0,\n",
    "            \"Comedy\": 0,\n",
    "            \"Crime\": 0,\n",
    "            \"Drama\": 0,\n",
    "            \"Fantasy\": 0,\n",
    "            \"Horror\": 0,\n",
    "            \"Mystery\": 0,\n",
    "            \"Romance\": 0,\n",
    "            \"Sci-Fi\": 0,\n",
    "            \"Thriller\": 0\n",
    "        }\n",
    "        user_data = df_[df_[user] != 0.0][user]\n",
    "        movie_genres = movies_info[movies_info.index.isin(user_data.index)]['suitable_genre']\n",
    "        for movie_genre in movie_genres:\n",
    "            genres[movie_genre] += 1\n",
    "        #print(genres)\n",
    "        one_more_than_n = False\n",
    "        valid_user_counter = 0\n",
    "        for genre, count in genres.items():\n",
    "            if count >= n:\n",
    "                valid_user_counter += 1\n",
    "            if count > n: one_more_than_n = True\n",
    "        # if the user has at least n movies in each category and they have at least one movie to be predicted - we say they are valid for our purposes and we store their id (column name of the df_)\n",
    "        if valid_user_counter >= categories and one_more_than_n:\n",
    "            valid_users.append(user)\n",
    "            #print(\"valid user - >\", user)\n",
    "    return valid_users"
   ]
  },
  {
   "cell_type": "code",
   "outputs": [],
   "source": [
    "from sklearn.utils import shuffle\n",
    "\n",
    "\n",
    "def filter_ratings(valid_users, df=df, n=2, categories=4):\n",
    "    filtered = []\n",
    "    for user_id in valid_users:\n",
    "        genres = {\n",
    "            \"Action\": 0,\n",
    "            \"Adventure\": 0,\n",
    "            \"Animation\": 0,\n",
    "            \"Comedy\": 0,\n",
    "            \"Crime\": 0,\n",
    "            \"Drama\": 0,\n",
    "            \"Fantasy\": 0,\n",
    "            \"Horror\": 0,\n",
    "            \"Mystery\": 0,\n",
    "            \"Romance\": 0,\n",
    "            \"Sci-Fi\": 0,\n",
    "            \"Thriller\": 0\n",
    "        }\n",
    "        user_ratings = df[user_id][df[user_id] != 0.0]\n",
    "        user_genres = movies_info[movies_info.index.isin(user_ratings.index)]['suitable_genre']\n",
    "        #looks like double work but here we are ensuring only the genres that were rated at least n times are used\n",
    "        for movie_genre in user_genres:\n",
    "            genres[movie_genre] += 1\n",
    "        unique_user_genres = [key for key, value in genres.items() if value >= n]\n",
    "        # then making sure that we are picking the genres randomly (we will cut it later)\n",
    "        user_genres = shuffle(user_genres)\n",
    "        # for every unique genre the user has rated - pick n random movies\n",
    "        lst_filtered_movies = []\n",
    "        lst_filtered_out_movies = []\n",
    "        # making sure every genre is represented the same amount\n",
    "        for genre in unique_user_genres[:categories]:\n",
    "            #print(genre)\n",
    "            movies_of_genre = user_genres[user_genres == genre].index.values\n",
    "            df_movies_of_genre = shuffle(pd.DataFrame(data=movies_of_genre))\n",
    "            #print(df_movies_of_genre[:n])\n",
    "            #revise this - this can't be right - need to make it more general\n",
    "            lst_filtered_movies.append(df_movies_of_genre[:n])\n",
    "        lst_filtered_movies = pd.concat(lst_filtered_movies).values\n",
    "        for movie_id in user_ratings.index.values:\n",
    "            if movie_id not in lst_filtered_movies:\n",
    "                lst_filtered_out_movies.append(movie_id)\n",
    "        filtered.append([user_id, [x[0] for x in lst_filtered_movies], lst_filtered_out_movies])\n",
    "    return_df = pd.DataFrame(data=filtered, columns=['userId', 'testMovies', 'evalMovies'])\n",
    "\n",
    "    return return_df.set_index('userId')"
   ],
   "metadata": {
    "collapsed": false,
    "ExecuteTime": {
     "end_time": "2024-05-01T09:51:31.940215600Z",
     "start_time": "2024-05-01T09:51:31.930928300Z"
    }
   },
   "id": "15e35989fa36ea30",
   "execution_count": 31
  },
  {
   "cell_type": "code",
   "outputs": [
    {
     "name": "stdout",
     "output_type": "stream",
     "text": [
      "1714557091.9434223\n"
     ]
    }
   ],
   "source": [
    "import time\n",
    "\n",
    "all_ns = [i for i in range(2, 5)]\n",
    "all_cats = [i for i in range(5, 12)]\n",
    "for n in all_ns:\n",
    "    beginning = time.time()\n",
    "    print(beginning)\n",
    "    for cat in all_cats:\n",
    "        eval_df = filter_ratings(filter_users(df=df, n=n, categories=cat), df=df, n=n, categories=cat)\n",
    "        eval_df.to_pickle(f'n{n}_c{cat}')\n",
    "        print(f'n{n}_c{cat}: {eval_df}')\n",
    "        print(f'time: {time.time() - beginning}')"
   ],
   "metadata": {
    "collapsed": false,
    "is_executing": true,
    "ExecuteTime": {
     "start_time": "2024-05-01T09:51:31.940215600Z"
    }
   },
   "id": "1b5e83dff9c25cb3",
   "execution_count": null
  }
 ],
 "metadata": {
  "kernelspec": {
   "display_name": "Python 3",
   "language": "python",
   "name": "python3"
  },
  "language_info": {
   "codemirror_mode": {
    "name": "ipython",
    "version": 2
   },
   "file_extension": ".py",
   "mimetype": "text/x-python",
   "name": "python",
   "nbconvert_exporter": "python",
   "pygments_lexer": "ipython2",
   "version": "2.7.6"
  }
 },
 "nbformat": 4,
 "nbformat_minor": 5
}
