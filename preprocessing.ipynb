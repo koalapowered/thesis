{
 "cells": [
  {
   "cell_type": "markdown",
   "source": [
    "### A notebook used to filter the data from the original Grouplens Dataset for simplicity"
   ],
   "metadata": {
    "collapsed": false
   },
   "id": "ea873d871d6816f2"
  },
  {
   "cell_type": "code",
   "execution_count": 2,
   "id": "initial_id",
   "metadata": {
    "collapsed": true,
    "ExecuteTime": {
     "end_time": "2024-06-16T09:43:53.786444900Z",
     "start_time": "2024-06-16T09:43:53.393673900Z"
    }
   },
   "outputs": [],
   "source": [
    "import pandas as pd"
   ]
  },
  {
   "cell_type": "code",
   "outputs": [],
   "source": [
    "min_votes = 1000"
   ],
   "metadata": {
    "collapsed": false,
    "ExecuteTime": {
     "end_time": "2024-06-16T09:43:53.881230900Z",
     "start_time": "2024-06-16T09:43:53.760994800Z"
    }
   },
   "id": "9384b2514c64778",
   "execution_count": 3
  },
  {
   "cell_type": "code",
   "outputs": [],
   "source": [
    "df_movies = pd.read_csv('ml-latest/movies.csv')"
   ],
   "metadata": {
    "collapsed": false,
    "ExecuteTime": {
     "end_time": "2024-06-16T09:46:55.052820700Z",
     "start_time": "2024-06-16T09:46:54.945921200Z"
    }
   },
   "id": "5738e050986fc633",
   "execution_count": 22
  },
  {
   "cell_type": "code",
   "outputs": [],
   "source": [
    "df_ratings = pd.read_csv('ml-latest/ratings.csv')\n",
    "df_ratings.set_index('movieId', inplace=True)"
   ],
   "metadata": {
    "collapsed": false,
    "ExecuteTime": {
     "end_time": "2024-06-16T09:47:08.670701100Z",
     "start_time": "2024-06-16T09:46:56.037022400Z"
    }
   },
   "id": "72fb27fcaa41242d",
   "execution_count": 23
  },
  {
   "cell_type": "code",
   "outputs": [
    {
     "data": {
      "text/plain": "         userId  rating   timestamp\nmovieId                            \n1             1     4.0  1225734739\n110           1     4.0  1225865086\n158           1     4.0  1225733503\n260           1     4.5  1225735204\n356           1     5.0  1225735119\n...         ...     ...         ...\n8340     330975     2.0  1091583256\n8493     330975     2.5  1091585709\n8622     330975     4.0  1091581777\n8665     330975     3.0  1091581765\n8783     330975     2.5  1091581799\n\n[33832162 rows x 3 columns]",
      "text/html": "<div>\n<style scoped>\n    .dataframe tbody tr th:only-of-type {\n        vertical-align: middle;\n    }\n\n    .dataframe tbody tr th {\n        vertical-align: top;\n    }\n\n    .dataframe thead th {\n        text-align: right;\n    }\n</style>\n<table border=\"1\" class=\"dataframe\">\n  <thead>\n    <tr style=\"text-align: right;\">\n      <th></th>\n      <th>userId</th>\n      <th>rating</th>\n      <th>timestamp</th>\n    </tr>\n    <tr>\n      <th>movieId</th>\n      <th></th>\n      <th></th>\n      <th></th>\n    </tr>\n  </thead>\n  <tbody>\n    <tr>\n      <th>1</th>\n      <td>1</td>\n      <td>4.0</td>\n      <td>1225734739</td>\n    </tr>\n    <tr>\n      <th>110</th>\n      <td>1</td>\n      <td>4.0</td>\n      <td>1225865086</td>\n    </tr>\n    <tr>\n      <th>158</th>\n      <td>1</td>\n      <td>4.0</td>\n      <td>1225733503</td>\n    </tr>\n    <tr>\n      <th>260</th>\n      <td>1</td>\n      <td>4.5</td>\n      <td>1225735204</td>\n    </tr>\n    <tr>\n      <th>356</th>\n      <td>1</td>\n      <td>5.0</td>\n      <td>1225735119</td>\n    </tr>\n    <tr>\n      <th>...</th>\n      <td>...</td>\n      <td>...</td>\n      <td>...</td>\n    </tr>\n    <tr>\n      <th>8340</th>\n      <td>330975</td>\n      <td>2.0</td>\n      <td>1091583256</td>\n    </tr>\n    <tr>\n      <th>8493</th>\n      <td>330975</td>\n      <td>2.5</td>\n      <td>1091585709</td>\n    </tr>\n    <tr>\n      <th>8622</th>\n      <td>330975</td>\n      <td>4.0</td>\n      <td>1091581777</td>\n    </tr>\n    <tr>\n      <th>8665</th>\n      <td>330975</td>\n      <td>3.0</td>\n      <td>1091581765</td>\n    </tr>\n    <tr>\n      <th>8783</th>\n      <td>330975</td>\n      <td>2.5</td>\n      <td>1091581799</td>\n    </tr>\n  </tbody>\n</table>\n<p>33832162 rows × 3 columns</p>\n</div>"
     },
     "execution_count": 24,
     "metadata": {},
     "output_type": "execute_result"
    }
   ],
   "source": [
    "df_ratings"
   ],
   "metadata": {
    "collapsed": false,
    "ExecuteTime": {
     "end_time": "2024-06-16T09:47:08.699465400Z",
     "start_time": "2024-06-16T09:47:08.675486100Z"
    }
   },
   "id": "df2c8aec1ab1695e",
   "execution_count": 24
  },
  {
   "cell_type": "code",
   "outputs": [],
   "source": [
    "df_ratings[\"no_people_rated\"] = [1 for _ in range(len(df_ratings))]"
   ],
   "metadata": {
    "collapsed": false,
    "ExecuteTime": {
     "end_time": "2024-06-16T09:44:15.863938800Z",
     "start_time": "2024-06-16T09:44:06.752108100Z"
    }
   },
   "id": "e516e401647b7385",
   "execution_count": 6
  },
  {
   "cell_type": "code",
   "outputs": [],
   "source": [
    "grouped_ratings = df_ratings.groupby('movieId')\n",
    "\n",
    "grouped_ratings = grouped_ratings.sum()\n"
   ],
   "metadata": {
    "collapsed": false,
    "ExecuteTime": {
     "end_time": "2024-06-16T09:44:17.857292400Z",
     "start_time": "2024-06-16T09:44:15.866065100Z"
    }
   },
   "id": "17173f6a756b2924",
   "execution_count": 7
  },
  {
   "cell_type": "code",
   "outputs": [
    {
     "data": {
      "text/plain": "              userId    rating       timestamp  no_people_rated\nmovieId                                                        \n1        12696689201  299072.0  90676232180619            76813\n2         4969411174   99030.5  34965684106628            30209\n3         2608079724   50169.5  15487105413879            15820\n4          502841790    8685.5   2874569542209             3028\n5         2603834260   48619.0  15955867010862            15801\n...              ...       ...             ...              ...\n288967         47791       3.5      1689748357                1\n288971         98408       0.5      1689798322                1\n288975        154483       4.0      1689812351                1\n288977        291389       3.0      1689815902                1\n288983        254114       3.0      1689834886                1\n\n[83239 rows x 4 columns]",
      "text/html": "<div>\n<style scoped>\n    .dataframe tbody tr th:only-of-type {\n        vertical-align: middle;\n    }\n\n    .dataframe tbody tr th {\n        vertical-align: top;\n    }\n\n    .dataframe thead th {\n        text-align: right;\n    }\n</style>\n<table border=\"1\" class=\"dataframe\">\n  <thead>\n    <tr style=\"text-align: right;\">\n      <th></th>\n      <th>userId</th>\n      <th>rating</th>\n      <th>timestamp</th>\n      <th>no_people_rated</th>\n    </tr>\n    <tr>\n      <th>movieId</th>\n      <th></th>\n      <th></th>\n      <th></th>\n      <th></th>\n    </tr>\n  </thead>\n  <tbody>\n    <tr>\n      <th>1</th>\n      <td>12696689201</td>\n      <td>299072.0</td>\n      <td>90676232180619</td>\n      <td>76813</td>\n    </tr>\n    <tr>\n      <th>2</th>\n      <td>4969411174</td>\n      <td>99030.5</td>\n      <td>34965684106628</td>\n      <td>30209</td>\n    </tr>\n    <tr>\n      <th>3</th>\n      <td>2608079724</td>\n      <td>50169.5</td>\n      <td>15487105413879</td>\n      <td>15820</td>\n    </tr>\n    <tr>\n      <th>4</th>\n      <td>502841790</td>\n      <td>8685.5</td>\n      <td>2874569542209</td>\n      <td>3028</td>\n    </tr>\n    <tr>\n      <th>5</th>\n      <td>2603834260</td>\n      <td>48619.0</td>\n      <td>15955867010862</td>\n      <td>15801</td>\n    </tr>\n    <tr>\n      <th>...</th>\n      <td>...</td>\n      <td>...</td>\n      <td>...</td>\n      <td>...</td>\n    </tr>\n    <tr>\n      <th>288967</th>\n      <td>47791</td>\n      <td>3.5</td>\n      <td>1689748357</td>\n      <td>1</td>\n    </tr>\n    <tr>\n      <th>288971</th>\n      <td>98408</td>\n      <td>0.5</td>\n      <td>1689798322</td>\n      <td>1</td>\n    </tr>\n    <tr>\n      <th>288975</th>\n      <td>154483</td>\n      <td>4.0</td>\n      <td>1689812351</td>\n      <td>1</td>\n    </tr>\n    <tr>\n      <th>288977</th>\n      <td>291389</td>\n      <td>3.0</td>\n      <td>1689815902</td>\n      <td>1</td>\n    </tr>\n    <tr>\n      <th>288983</th>\n      <td>254114</td>\n      <td>3.0</td>\n      <td>1689834886</td>\n      <td>1</td>\n    </tr>\n  </tbody>\n</table>\n<p>83239 rows × 4 columns</p>\n</div>"
     },
     "execution_count": 8,
     "metadata": {},
     "output_type": "execute_result"
    }
   ],
   "source": [
    "grouped_ratings"
   ],
   "metadata": {
    "collapsed": false,
    "ExecuteTime": {
     "end_time": "2024-06-16T09:44:17.928074400Z",
     "start_time": "2024-06-16T09:44:17.861207100Z"
    }
   },
   "id": "eae384f6053b69ed",
   "execution_count": 8
  },
  {
   "cell_type": "code",
   "outputs": [],
   "source": [
    "grouped_ratings[\"avg_rating\"] = grouped_ratings[\"rating\"]/grouped_ratings[\"no_people_rated\"]"
   ],
   "metadata": {
    "collapsed": false,
    "ExecuteTime": {
     "end_time": "2024-06-16T09:44:17.933498900Z",
     "start_time": "2024-06-16T09:44:17.921694400Z"
    }
   },
   "id": "7b982d5a1a84bf39",
   "execution_count": 9
  },
  {
   "cell_type": "code",
   "outputs": [
    {
     "data": {
      "text/plain": "              userId    rating        timestamp  no_people_rated  avg_rating\nmovieId                                                                     \n171011     343910470    9086.0    3186768141626             2041    4.451739\n159817     503560410   13411.0    4681464629694             3015    4.448093\n170705     470416403   12542.0    4464049315381             2835    4.423986\n318      20213155335  540156.0  156345852293172           122296    4.416792\n202439    2071618320   53687.0   20015714719947            12399    4.329946\n...              ...       ...              ...              ...         ...\n2555       285063817    2896.5    1898360097339             1679    1.725134\n57532      194063825    1903.0    1636766416042             1172    1.623720\n43919      183721607    1828.0    1496965366895             1130    1.617699\n3593       879774150    8615.0    6537777504093             5414    1.591245\n50798      258672692    2239.0    2098618862576             1532    1.461488\n\n[4461 rows x 5 columns]",
      "text/html": "<div>\n<style scoped>\n    .dataframe tbody tr th:only-of-type {\n        vertical-align: middle;\n    }\n\n    .dataframe tbody tr th {\n        vertical-align: top;\n    }\n\n    .dataframe thead th {\n        text-align: right;\n    }\n</style>\n<table border=\"1\" class=\"dataframe\">\n  <thead>\n    <tr style=\"text-align: right;\">\n      <th></th>\n      <th>userId</th>\n      <th>rating</th>\n      <th>timestamp</th>\n      <th>no_people_rated</th>\n      <th>avg_rating</th>\n    </tr>\n    <tr>\n      <th>movieId</th>\n      <th></th>\n      <th></th>\n      <th></th>\n      <th></th>\n      <th></th>\n    </tr>\n  </thead>\n  <tbody>\n    <tr>\n      <th>171011</th>\n      <td>343910470</td>\n      <td>9086.0</td>\n      <td>3186768141626</td>\n      <td>2041</td>\n      <td>4.451739</td>\n    </tr>\n    <tr>\n      <th>159817</th>\n      <td>503560410</td>\n      <td>13411.0</td>\n      <td>4681464629694</td>\n      <td>3015</td>\n      <td>4.448093</td>\n    </tr>\n    <tr>\n      <th>170705</th>\n      <td>470416403</td>\n      <td>12542.0</td>\n      <td>4464049315381</td>\n      <td>2835</td>\n      <td>4.423986</td>\n    </tr>\n    <tr>\n      <th>318</th>\n      <td>20213155335</td>\n      <td>540156.0</td>\n      <td>156345852293172</td>\n      <td>122296</td>\n      <td>4.416792</td>\n    </tr>\n    <tr>\n      <th>202439</th>\n      <td>2071618320</td>\n      <td>53687.0</td>\n      <td>20015714719947</td>\n      <td>12399</td>\n      <td>4.329946</td>\n    </tr>\n    <tr>\n      <th>...</th>\n      <td>...</td>\n      <td>...</td>\n      <td>...</td>\n      <td>...</td>\n      <td>...</td>\n    </tr>\n    <tr>\n      <th>2555</th>\n      <td>285063817</td>\n      <td>2896.5</td>\n      <td>1898360097339</td>\n      <td>1679</td>\n      <td>1.725134</td>\n    </tr>\n    <tr>\n      <th>57532</th>\n      <td>194063825</td>\n      <td>1903.0</td>\n      <td>1636766416042</td>\n      <td>1172</td>\n      <td>1.623720</td>\n    </tr>\n    <tr>\n      <th>43919</th>\n      <td>183721607</td>\n      <td>1828.0</td>\n      <td>1496965366895</td>\n      <td>1130</td>\n      <td>1.617699</td>\n    </tr>\n    <tr>\n      <th>3593</th>\n      <td>879774150</td>\n      <td>8615.0</td>\n      <td>6537777504093</td>\n      <td>5414</td>\n      <td>1.591245</td>\n    </tr>\n    <tr>\n      <th>50798</th>\n      <td>258672692</td>\n      <td>2239.0</td>\n      <td>2098618862576</td>\n      <td>1532</td>\n      <td>1.461488</td>\n    </tr>\n  </tbody>\n</table>\n<p>4461 rows × 5 columns</p>\n</div>"
     },
     "execution_count": 10,
     "metadata": {},
     "output_type": "execute_result"
    }
   ],
   "source": [
    "grouped_ratings.sort_values('avg_rating', ascending=False, inplace=True)\n",
    "grouped_ratings = grouped_ratings[grouped_ratings[\"no_people_rated\"]>min_votes]\n",
    "grouped_ratings"
   ],
   "metadata": {
    "collapsed": false,
    "ExecuteTime": {
     "end_time": "2024-06-16T09:44:17.990496500Z",
     "start_time": "2024-06-16T09:44:17.931289900Z"
    }
   },
   "id": "b43742b166d3abec",
   "execution_count": 10
  },
  {
   "cell_type": "code",
   "outputs": [
    {
     "data": {
      "text/plain": "        suitable_genre\nmovieId               \n5               Comedy\n8            Adventure\n9               Action\n14               Drama\n18              Comedy\n...                ...\n288953          Comedy\n288955           Drama\n288957          Horror\n288959           Drama\n288965         Romance\n\n[32210 rows x 1 columns]",
      "text/html": "<div>\n<style scoped>\n    .dataframe tbody tr th:only-of-type {\n        vertical-align: middle;\n    }\n\n    .dataframe tbody tr th {\n        vertical-align: top;\n    }\n\n    .dataframe thead th {\n        text-align: right;\n    }\n</style>\n<table border=\"1\" class=\"dataframe\">\n  <thead>\n    <tr style=\"text-align: right;\">\n      <th></th>\n      <th>suitable_genre</th>\n    </tr>\n    <tr>\n      <th>movieId</th>\n      <th></th>\n    </tr>\n  </thead>\n  <tbody>\n    <tr>\n      <th>5</th>\n      <td>Comedy</td>\n    </tr>\n    <tr>\n      <th>8</th>\n      <td>Adventure</td>\n    </tr>\n    <tr>\n      <th>9</th>\n      <td>Action</td>\n    </tr>\n    <tr>\n      <th>14</th>\n      <td>Drama</td>\n    </tr>\n    <tr>\n      <th>18</th>\n      <td>Comedy</td>\n    </tr>\n    <tr>\n      <th>...</th>\n      <td>...</td>\n    </tr>\n    <tr>\n      <th>288953</th>\n      <td>Comedy</td>\n    </tr>\n    <tr>\n      <th>288955</th>\n      <td>Drama</td>\n    </tr>\n    <tr>\n      <th>288957</th>\n      <td>Horror</td>\n    </tr>\n    <tr>\n      <th>288959</th>\n      <td>Drama</td>\n    </tr>\n    <tr>\n      <th>288965</th>\n      <td>Romance</td>\n    </tr>\n  </tbody>\n</table>\n<p>32210 rows × 1 columns</p>\n</div>"
     },
     "execution_count": 11,
     "metadata": {},
     "output_type": "execute_result"
    }
   ],
   "source": [
    "df_movies = pd.read_csv('ml-latest/movies.csv')\n",
    "pop_genres = [\"Action\", \"Adventure\", \"Animation\", \"Comedy\", \"Crime\", \"Drama\", \n",
    "              \"Fantasy\", \"Horror\", \"Mystery\", \"Romance\", \"Sci-Fi\", \"Thriller\"]\n",
    "hm_suitability = {}\n",
    "genre_suitable_lst = []\n",
    "for i in range(len(df_movies)):\n",
    "    genre_temp_storage = \"\"\n",
    "    movie = df_movies.iloc[i]\n",
    "    all_genres = movie[\"genres\"]\n",
    "    is_suitable = 0\n",
    "    for genre in pop_genres: \n",
    "        if genre in all_genres:\n",
    "            is_suitable += 1\n",
    "            genre_temp_storage = genre\n",
    "    if is_suitable == 1:\n",
    "        hm_suitability[movie[\"movieId\"]] = genre_temp_storage\n",
    "    else:\n",
    "        hm_suitability[movie[\"movieId\"]] = \"Not suitable\"\n",
    "df_suitability = pd.DataFrame()\n",
    "df_suitability[\"movieId\"] = hm_suitability.keys()\n",
    "df_suitability[\"suitable_genre\"] = hm_suitability.values()\n",
    "df_suitability.set_index(\"movieId\", inplace=True)\n",
    "df_suitability = df_suitability[df_suitability[\"suitable_genre\"] != \"Not suitable\"]\n",
    "df_suitability"
   ],
   "metadata": {
    "collapsed": false,
    "ExecuteTime": {
     "end_time": "2024-06-16T09:44:23.747875Z",
     "start_time": "2024-06-16T09:44:17.962321300Z"
    }
   },
   "id": "fc3fe45c462d1874",
   "execution_count": 11
  },
  {
   "cell_type": "markdown",
   "source": [
    "join using the movie id"
   ],
   "metadata": {
    "collapsed": false
   },
   "id": "bfb05d6f082df686"
  },
  {
   "cell_type": "code",
   "outputs": [],
   "source": [
    "grouped_ratings = grouped_ratings.join(df_suitability, how=\"inner\")\n",
    "grouped_ratings.to_csv(\"suitable_movies.csv\")"
   ],
   "metadata": {
    "collapsed": false,
    "ExecuteTime": {
     "end_time": "2024-06-16T09:44:23.808739900Z",
     "start_time": "2024-06-16T09:44:23.716090700Z"
    }
   },
   "id": "9a79087d72674a4d",
   "execution_count": 12
  },
  {
   "cell_type": "markdown",
   "source": [
    "How many movies in each category?"
   ],
   "metadata": {
    "collapsed": false
   },
   "id": "9a3c19ab8e2ec8af"
  },
  {
   "cell_type": "code",
   "outputs": [
    {
     "name": "stdout",
     "output_type": "stream",
     "text": [
      "Action occurences:  22\n",
      "Adventure occurences:  16\n",
      "Animation occurences:  16\n",
      "Comedy occurences:  418\n",
      "Crime occurences:  4\n",
      "Drama occurences:  474\n",
      "Fantasy occurences:  5\n",
      "Horror occurences:  67\n",
      "Mystery occurences:  2\n",
      "Romance occurences:  6\n",
      "Sci-Fi occurences:  8\n",
      "Thriller occurences:  40\n"
     ]
    }
   ],
   "source": [
    "import numpy as np\n",
    "for genre in pop_genres:\n",
    "    print(genre, \"occurences: \", len(grouped_ratings[grouped_ratings[\"suitable_genre\"]==genre]))\n",
    "# 1078"
   ],
   "metadata": {
    "collapsed": false,
    "ExecuteTime": {
     "end_time": "2024-06-16T09:44:23.879065400Z",
     "start_time": "2024-06-16T09:44:23.782506300Z"
    }
   },
   "id": "37a8448cbe1a9df2",
   "execution_count": 13
  },
  {
   "cell_type": "code",
   "outputs": [
    {
     "data": {
      "text/plain": "              userId    rating        timestamp  no_people_rated  avg_rating  \\\nmovieId                                                                        \n1203      3738563090   96992.5   29894679700250            22730    4.267158   \n527      13929219732  357340.5  103671567916204            84232    4.242337   \n1193      8118516317  207758.5   61568690477830            49316    4.212801   \n750       5650978895  144160.5   42473159316615            34324    4.199991   \n26082      213092748    5374.0    1897779020524             1282    4.191888   \n...              ...       ...              ...              ...         ...   \n1981       243854131    2772.0    1714465547406             1495    1.854181   \n1760       552474506    6083.5    3830780656494             3317    1.834037   \n6482       381293121    4065.5    2992591178695             2292    1.773778   \n2555       285063817    2896.5    1898360097339             1679    1.725134   \n57532      194063825    1903.0    1636766416042             1172    1.623720   \n\n        suitable_genre                                              title  \\\nmovieId                                                                     \n1203             Drama                                12 Angry Men (1957)   \n527              Drama                            Schindler's List (1993)   \n1193             Drama             One Flew Over the Cuckoo's Nest (1975)   \n750             Comedy  Dr. Strangelove or: How I Learned to Stop Worr...   \n26082            Drama                          Harakiri (Seppuku) (1962)   \n...                ...                                                ...   \n1981            Horror  Friday the 13th Part VIII: Jason Takes Manhatt...   \n1760            Comedy                                 Spice World (1997)   \n6482            Comedy     Dumb and Dumberer: When Harry Met Lloyd (2003)   \n2555            Comedy                               Baby Geniuses (1999)   \n57532           Comedy                           Meet the Spartans (2008)   \n\n             genres  \nmovieId              \n1203          Drama  \n527       Drama|War  \n1193          Drama  \n750      Comedy|War  \n26082         Drama  \n...             ...  \n1981         Horror  \n1760         Comedy  \n6482         Comedy  \n2555         Comedy  \n57532        Comedy  \n\n[1078 rows x 8 columns]",
      "text/html": "<div>\n<style scoped>\n    .dataframe tbody tr th:only-of-type {\n        vertical-align: middle;\n    }\n\n    .dataframe tbody tr th {\n        vertical-align: top;\n    }\n\n    .dataframe thead th {\n        text-align: right;\n    }\n</style>\n<table border=\"1\" class=\"dataframe\">\n  <thead>\n    <tr style=\"text-align: right;\">\n      <th></th>\n      <th>userId</th>\n      <th>rating</th>\n      <th>timestamp</th>\n      <th>no_people_rated</th>\n      <th>avg_rating</th>\n      <th>suitable_genre</th>\n      <th>title</th>\n      <th>genres</th>\n    </tr>\n    <tr>\n      <th>movieId</th>\n      <th></th>\n      <th></th>\n      <th></th>\n      <th></th>\n      <th></th>\n      <th></th>\n      <th></th>\n      <th></th>\n    </tr>\n  </thead>\n  <tbody>\n    <tr>\n      <th>1203</th>\n      <td>3738563090</td>\n      <td>96992.5</td>\n      <td>29894679700250</td>\n      <td>22730</td>\n      <td>4.267158</td>\n      <td>Drama</td>\n      <td>12 Angry Men (1957)</td>\n      <td>Drama</td>\n    </tr>\n    <tr>\n      <th>527</th>\n      <td>13929219732</td>\n      <td>357340.5</td>\n      <td>103671567916204</td>\n      <td>84232</td>\n      <td>4.242337</td>\n      <td>Drama</td>\n      <td>Schindler's List (1993)</td>\n      <td>Drama|War</td>\n    </tr>\n    <tr>\n      <th>1193</th>\n      <td>8118516317</td>\n      <td>207758.5</td>\n      <td>61568690477830</td>\n      <td>49316</td>\n      <td>4.212801</td>\n      <td>Drama</td>\n      <td>One Flew Over the Cuckoo's Nest (1975)</td>\n      <td>Drama</td>\n    </tr>\n    <tr>\n      <th>750</th>\n      <td>5650978895</td>\n      <td>144160.5</td>\n      <td>42473159316615</td>\n      <td>34324</td>\n      <td>4.199991</td>\n      <td>Comedy</td>\n      <td>Dr. Strangelove or: How I Learned to Stop Worr...</td>\n      <td>Comedy|War</td>\n    </tr>\n    <tr>\n      <th>26082</th>\n      <td>213092748</td>\n      <td>5374.0</td>\n      <td>1897779020524</td>\n      <td>1282</td>\n      <td>4.191888</td>\n      <td>Drama</td>\n      <td>Harakiri (Seppuku) (1962)</td>\n      <td>Drama</td>\n    </tr>\n    <tr>\n      <th>...</th>\n      <td>...</td>\n      <td>...</td>\n      <td>...</td>\n      <td>...</td>\n      <td>...</td>\n      <td>...</td>\n      <td>...</td>\n      <td>...</td>\n    </tr>\n    <tr>\n      <th>1981</th>\n      <td>243854131</td>\n      <td>2772.0</td>\n      <td>1714465547406</td>\n      <td>1495</td>\n      <td>1.854181</td>\n      <td>Horror</td>\n      <td>Friday the 13th Part VIII: Jason Takes Manhatt...</td>\n      <td>Horror</td>\n    </tr>\n    <tr>\n      <th>1760</th>\n      <td>552474506</td>\n      <td>6083.5</td>\n      <td>3830780656494</td>\n      <td>3317</td>\n      <td>1.834037</td>\n      <td>Comedy</td>\n      <td>Spice World (1997)</td>\n      <td>Comedy</td>\n    </tr>\n    <tr>\n      <th>6482</th>\n      <td>381293121</td>\n      <td>4065.5</td>\n      <td>2992591178695</td>\n      <td>2292</td>\n      <td>1.773778</td>\n      <td>Comedy</td>\n      <td>Dumb and Dumberer: When Harry Met Lloyd (2003)</td>\n      <td>Comedy</td>\n    </tr>\n    <tr>\n      <th>2555</th>\n      <td>285063817</td>\n      <td>2896.5</td>\n      <td>1898360097339</td>\n      <td>1679</td>\n      <td>1.725134</td>\n      <td>Comedy</td>\n      <td>Baby Geniuses (1999)</td>\n      <td>Comedy</td>\n    </tr>\n    <tr>\n      <th>57532</th>\n      <td>194063825</td>\n      <td>1903.0</td>\n      <td>1636766416042</td>\n      <td>1172</td>\n      <td>1.623720</td>\n      <td>Comedy</td>\n      <td>Meet the Spartans (2008)</td>\n      <td>Comedy</td>\n    </tr>\n  </tbody>\n</table>\n<p>1078 rows × 8 columns</p>\n</div>"
     },
     "execution_count": 14,
     "metadata": {},
     "output_type": "execute_result"
    }
   ],
   "source": [
    "df_movies.set_index(\"movieId\", inplace=True)\n",
    "grouped_ratings = grouped_ratings.join(df_movies, how=\"inner\")\n",
    "grouped_ratings"
   ],
   "metadata": {
    "collapsed": false,
    "ExecuteTime": {
     "end_time": "2024-06-16T09:44:24.005717Z",
     "start_time": "2024-06-16T09:44:23.802361400Z"
    }
   },
   "id": "418a99474eadb6b2",
   "execution_count": 14
  },
  {
   "cell_type": "markdown",
   "source": [
    "Now we also see the names of the movies - this will be our new base of movies we will do our CF on - sort of our sampling window"
   ],
   "metadata": {
    "collapsed": false
   },
   "id": "ee4ea72e73fc6f4a"
  },
  {
   "cell_type": "markdown",
   "source": [
    "For CF though all we really care about are the movies that we use - not the rest of the data - we need the data to be represented as individual people rating a movie i.e. a sparse matrix - so we have to do the whole thing again and this will for now only serve us as a filter..."
   ],
   "metadata": {
    "collapsed": false
   },
   "id": "8d669975274da0f8"
  },
  {
   "cell_type": "markdown",
   "source": [
    "Load the ratings again"
   ],
   "metadata": {
    "collapsed": false
   },
   "id": "973b85e74ee87ee3"
  },
  {
   "cell_type": "code",
   "outputs": [],
   "source": [
    "df_sparse_ratings_data = pd.read_csv(\"ml-latest/ratings.csv\")"
   ],
   "metadata": {
    "collapsed": false,
    "ExecuteTime": {
     "end_time": "2024-06-16T09:44:35.237672Z",
     "start_time": "2024-06-16T09:44:23.826301500Z"
    }
   },
   "id": "1443582cedb3f4a1",
   "execution_count": 15
  },
  {
   "cell_type": "markdown",
   "source": [
    "Drop the ratings that do not correspond to the movies we selected as fit for our purpose"
   ],
   "metadata": {
    "collapsed": false
   },
   "id": "93428c728382a66c"
  },
  {
   "cell_type": "code",
   "outputs": [],
   "source": [
    "df_sparse_ratings_data = df_sparse_ratings_data[df_sparse_ratings_data[\"movieId\"].isin(grouped_ratings.index.values)]"
   ],
   "metadata": {
    "collapsed": false,
    "ExecuteTime": {
     "end_time": "2024-06-16T09:44:36.444360100Z",
     "start_time": "2024-06-16T09:44:35.238745Z"
    }
   },
   "id": "cb8dfbc6b4fb068d",
   "execution_count": 16
  },
  {
   "cell_type": "markdown",
   "source": [
    "Initialize a dataframe"
   ],
   "metadata": {
    "collapsed": false
   },
   "id": "e42973843fe9d4b9"
  },
  {
   "cell_type": "code",
   "outputs": [
    {
     "name": "stdout",
     "output_type": "stream",
     "text": [
      "[1203, 527, 1193, 750, 26082, 1178, 6818, 926, 160718, 112552, 109487, 1217, 1207, 1172, 913, 6669, 3134, 1280, 3089, 1949, 2351, 96829, 7327, 326, 668, 5147, 2357, 1237, 2360, 142488, 1939, 1276, 3196, 3022, 148626, 3819, 1225, 6643, 3468, 1132, 1256, 5995, 3469, 3090, 306, 164179, 167832, 26131, 1299, 208703, 1222, 3224, 1041, 3415, 1228, 3091, 1258, 26150, 56782, 4427, 188773, 214, 2937, 2132, 1304, 7256, 219994, 4432, 6985, 1283, 213, 8228, 2726, 3811, 1288, 168250, 104944, 31410, 66371, 166643, 1272, 8014, 7234, 3949, 3634, 2925, 1266, 205156, 1080, 3083, 2788, 954, 457, 89759, 3152, 3095, 1719, 1358, 6777, 30749, 4422, 1263, 307, 8128, 1293, 2804, 86345, 176371, 1952, 8542, 86347, 250010, 26326, 140174, 1238, 27815, 4334, 95654, 3467, 2932, 1104, 3814, 7091, 599, 2951, 1246, 4967, 86377, 6791, 8154, 2575, 158966, 6235, 1242, 165551, 927, 971, 3365, 6104, 156387, 7706, 89774, 1231, 2612, 1449, 127098, 27803, 1961, 2918, 106100, 81845, 89492, 1090, 475, 170697, 4327, 163645, 2313, 77455, 4857, 8337, 1096, 4117, 2303, 218537, 105844, 3201, 1942, 3507, 1150, 177651, 55814, 88810, 949, 549, 3498, 3364, 1956, 3160, 1185, 4970, 4424, 5772, 3545, 8827, 1394, 6461, 6807, 165549, 1348, 183837, 3424, 3671, 2511, 1095, 127202, 2501, 47099, 2611, 3910, 55069, 162414, 41, 176, 3341, 212361, 223, 501, 2202, 2300, 2336, 1202, 3451, 1938, 3135, 197883, 6385, 3742, 5747, 2618, 529, 2696, 67997, 1960, 30707, 81932, 1365, 3897, 3093, 428, 203322, 141890, 180095, 334, 52952, 43396, 944, 62644, 3911, 217655, 1035, 2069, 728, 225984, 508, 2333, 177615, 64034, 112290, 6591, 3733, 3061, 2791, 50068, 55444, 154, 73, 64839, 1161, 160980, 4047, 193065, 3246, 73290, 2745, 1966, 3296, 2071, 3098, 3252, 179817, 80463, 3916, 2359, 3342, 180045, 8958, 190555, 921, 3967, 900, 1103, 2908, 64197, 3421, 72720, 78836, 7934, 373, 140267, 79553, 535, 54503, 4178, 117881, 89118, 2852, 1635, 166946, 4211, 1050, 64620, 178061, 262, 77307, 138210, 2691, 3260, 56607, 3871, 2599, 2795, 3111, 337, 4322, 25771, 1023, 106766, 7263, 5004, 62, 1954, 3039, 1285, 111384, 1955, 125, 106441, 152077, 206419, 2739, 47999, 179119, 5489, 4007, 3178, 4616, 2312, 1298, 299, 1827, 2231, 4223, 86142, 63876, 2946, 4225, 101895, 140715, 192803, 4021, 1673, 5379, 64716, 161922, 4880, 4465, 4703, 49910, 8581, 1078, 1171, 49961, 441, 4437, 1694, 4499, 1957, 53956, 1124, 538, 111443, 118700, 7158, 5292, 4022, 3581, 31225, 72641, 140110, 52579, 47629, 4359, 3011, 90057, 3100, 1295, 348, 4903, 3148, 8970, 4102, 3271, 87304, 7265, 760, 1962, 4349, 4835, 4809, 161131, 4019, 200306, 1187, 2644, 50912, 2390, 7027, 3552, 103048, 1633, 300, 848, 4292, 6296, 2442, 3831, 47423, 1730, 471, 2563, 3980, 96728, 1297, 146656, 121231, 90531, 1951, 110882, 98154, 223944, 2118, 1663, 2022, 3028, 3181, 1082, 192379, 5269, 1061, 97923, 190, 2423, 135143, 44709, 225145, 1672, 917, 168122, 103980, 2301, 901, 5955, 30812, 3186, 2109, 144976, 147, 2083, 2866, 7451, 30820, 5500, 26, 3397, 4002, 53894, 261, 7618, 2302, 5391, 2310, 5421, 34, 2114, 6188, 3203, 3125, 2178, 67087, 3408, 62203, 8910, 3727, 117887, 118702, 200332, 72733, 51931, 108727, 2870, 6565, 55872, 1982, 991, 118900, 5650, 3873, 1051, 42725, 5014, 47644, 141749, 941, 3538, 4017, 180985, 452, 207405, 2439, 1660, 112623, 3723, 3844, 412, 2096, 69, 162598, 174909, 89804, 448, 477, 2348, 173369, 8966, 1012, 1343, 59126, 2941, 2779, 63131, 161634, 175, 6890, 233, 141, 3213, 160438, 1401, 3950, 3812, 1186, 4220, 72395, 735, 96588, 192283, 2137, 165603, 524, 179085, 1017, 86833, 115170, 159858, 175303, 1747, 531, 3179, 8641, 851, 4508, 3159, 986, 60756, 136562, 4623, 102407, 5668, 45728, 5267, 7155, 2915, 342, 115231, 2077, 4678, 54256, 2272, 113862, 3189, 114662, 3852, 48783, 39427, 6887, 43, 650, 144, 4787, 766, 3253, 1083, 934, 156726, 4557, 2394, 187, 2707, 2736, 514, 36527, 2236, 3398, 4345, 2474, 3786, 4008, 7285, 7045, 3250, 4649, 86898, 14, 7060, 781, 162350, 346, 4090, 3809, 27, 18, 1194, 48385, 4866, 1399, 2240, 110591, 5139, 6863, 55274, 1414, 1366, 104, 491, 3969, 2311, 3948, 242, 2463, 194016, 282, 277, 1892, 162600, 616, 7348, 37384, 3760, 8376, 56805, 3483, 64969, 6944, 2891, 3550, 2337, 3917, 333, 116161, 91094, 27772, 4020, 1093, 663, 2340, 111617, 1840, 8880, 51091, 8781, 2420, 4679, 1875, 5016, 490, 6832, 1031, 2459, 2106, 91126, 3185, 173941, 188797, 3450, 5810, 2433, 2432, 126548, 2518, 271, 3015, 3005, 101739, 167018, 57, 8528, 369, 2261, 4815, 4509, 3145, 2541, 1753, 3594, 4321, 2361, 2476, 225625, 999, 785, 128838, 1020, 4387, 3865, 26555, 2759, 4936, 183421, 74946, 47518, 162602, 34338, 143859, 2539, 1390, 3478, 216, 662, 3869, 1006, 1485, 358, 5266, 2836, 3016, 133419, 700, 49824, 4816, 31, 4733, 3712, 3444, 422, 111113, 91890, 2111, 161580, 93270, 2151, 71520, 1425, 63479, 149352, 3173, 4452, 2718, 1113, 42002, 835, 5282, 2976, 55830, 5009, 4214, 94677, 586, 5283, 81537, 3040, 2772, 78209, 1024, 203, 365, 3998, 1614, 2639, 99117, 537, 3861, 354, 458, 5107, 1416, 1487, 2072, 99912, 7318, 828, 48322, 3791, 4728, 2478, 88, 1016, 2249, 4814, 102481, 3617, 8, 2694, 2860, 5572, 2517, 88785, 4010, 1919, 47640, 1128, 204542, 1363, 2792, 1135, 830, 313, 2247, 3534, 93831, 5025, 2195, 2702, 2709, 6619, 250, 520, 1010, 5, 3053, 3525, 2416, 96110, 3649, 2325, 2520, 80590, 2770, 2513, 2060, 59258, 3882, 52694, 27478, 4745, 135861, 30825, 575, 7376, 801, 2567, 111743, 609, 278, 3918, 2771, 248, 2598, 9, 2546, 2135, 135, 344, 86911, 2787, 1379, 54785, 2356, 107348, 4167, 5481, 1007, 3254, 2017, 6290, 719, 156609, 6287, 3120, 1513, 102686, 2335, 2796, 204, 58156, 5401, 3287, 2082, 2497, 2789, 3968, 433, 1713, 46974, 267, 2375, 6586, 2372, 177, 158, 2091, 4718, 1983, 445, 5308, 656, 4558, 79428, 3177, 1665, 4531, 5363, 8814, 1021, 87485, 637, 4267, 61250, 87483, 4770, 7161, 2034, 1330, 54, 81417, 274, 413, 881, 1091, 1461, 2188, 2882, 2328, 48520, 157, 725, 2829, 6880, 132, 3484, 4744, 79134, 4040, 489, 45666, 85022, 743, 6212, 2500, 710, 2953, 3688, 2169, 69784, 612, 275, 540, 5092, 1999, 82852, 42723, 833, 3388, 2042, 45726, 3324, 2296, 518, 305, 6338, 1588, 7150, 3354, 3835, 234, 19, 4974, 711, 1911, 5784, 325, 3248, 2574, 1503, 4732, 3146, 2862, 3243, 818, 585, 1359, 312, 2815, 437, 116977, 4030, 59900, 54732, 667, 1623, 4248, 4386, 1975, 1474, 2907, 1005, 5480, 5942, 3955, 505, 2306, 1969, 419, 5504, 3979, 1985, 2460, 374, 174, 4388, 102, 6535, 87, 2473, 6166, 65, 2119, 3991, 2036, 429, 4368, 3646, 3238, 1977, 1105, 747, 71, 1592, 1973, 1445, 473, 56176, 1972, 255, 1979, 4215, 1863, 193, 1976, 1986, 3392, 4104, 3821, 4340, 4255, 3908, 34530, 2798, 77427, 3799, 1984, 1980, 1978, 6794, 3689, 2828, 181, 6951, 1998, 1707, 2799, 3564, 2816, 1981, 1760, 6482, 2555, 57532]\n"
     ]
    }
   ],
   "source": [
    "movies_sparse_ratings = grouped_ratings.index.tolist()\n",
    "users_sparse_ratings = df_sparse_ratings_data[\"userId\"].unique().tolist()\n",
    "#print(movies_sparse_ratings)\n",
    "tmp = [0 for _ in range(len(users_sparse_ratings))]"
   ],
   "metadata": {
    "collapsed": false,
    "ExecuteTime": {
     "end_time": "2024-06-16T09:44:36.567330300Z",
     "start_time": "2024-06-16T09:44:36.444360100Z"
    }
   },
   "id": "c57cd0c4b3b2dd7e",
   "execution_count": 17
  },
  {
   "cell_type": "code",
   "outputs": [
    {
     "name": "stdout",
     "output_type": "stream",
     "text": [
      "{1203: 0, 527: 1, 1193: 2, 750: 3, 26082: 4, 1178: 5, 6818: 6, 926: 7, 160718: 8, 112552: 9, 109487: 10, 1217: 11, 1207: 12, 1172: 13, 913: 14, 6669: 15, 3134: 16, 1280: 17, 3089: 18, 1949: 19, 2351: 20, 96829: 21, 7327: 22, 326: 23, 668: 24, 5147: 25, 2357: 26, 1237: 27, 2360: 28, 142488: 29, 1939: 30, 1276: 31, 3196: 32, 3022: 33, 148626: 34, 3819: 35, 1225: 36, 6643: 37, 3468: 38, 1132: 39, 1256: 40, 5995: 41, 3469: 42, 3090: 43, 306: 44, 164179: 45, 167832: 46, 26131: 47, 1299: 48, 208703: 49, 1222: 50, 3224: 51, 1041: 52, 3415: 53, 1228: 54, 3091: 55, 1258: 56, 26150: 57, 56782: 58, 4427: 59, 188773: 60, 214: 61, 2937: 62, 2132: 63, 1304: 64, 7256: 65, 219994: 66, 4432: 67, 6985: 68, 1283: 69, 213: 70, 8228: 71, 2726: 72, 3811: 73, 1288: 74, 168250: 75, 104944: 76, 31410: 77, 66371: 78, 166643: 79, 1272: 80, 8014: 81, 7234: 82, 3949: 83, 3634: 84, 2925: 85, 1266: 86, 205156: 87, 1080: 88, 3083: 89, 2788: 90, 954: 91, 457: 92, 89759: 93, 3152: 94, 3095: 95, 1719: 96, 1358: 97, 6777: 98, 30749: 99, 4422: 100, 1263: 101, 307: 102, 8128: 103, 1293: 104, 2804: 105, 86345: 106, 176371: 107, 1952: 108, 8542: 109, 86347: 110, 250010: 111, 26326: 112, 140174: 113, 1238: 114, 27815: 115, 4334: 116, 95654: 117, 3467: 118, 2932: 119, 1104: 120, 3814: 121, 7091: 122, 599: 123, 2951: 124, 1246: 125, 4967: 126, 86377: 127, 6791: 128, 8154: 129, 2575: 130, 158966: 131, 6235: 132, 1242: 133, 165551: 134, 927: 135, 971: 136, 3365: 137, 6104: 138, 156387: 139, 7706: 140, 89774: 141, 1231: 142, 2612: 143, 1449: 144, 127098: 145, 27803: 146, 1961: 147, 2918: 148, 106100: 149, 81845: 150, 89492: 151, 1090: 152, 475: 153, 170697: 154, 4327: 155, 163645: 156, 2313: 157, 77455: 158, 4857: 159, 8337: 160, 1096: 161, 4117: 162, 2303: 163, 218537: 164, 105844: 165, 3201: 166, 1942: 167, 3507: 168, 1150: 169, 177651: 170, 55814: 171, 88810: 172, 949: 173, 549: 174, 3498: 175, 3364: 176, 1956: 177, 3160: 178, 1185: 179, 4970: 180, 4424: 181, 5772: 182, 3545: 183, 8827: 184, 1394: 185, 6461: 186, 6807: 187, 165549: 188, 1348: 189, 183837: 190, 3424: 191, 3671: 192, 2511: 193, 1095: 194, 127202: 195, 2501: 196, 47099: 197, 2611: 198, 3910: 199, 55069: 200, 162414: 201, 41: 202, 176: 203, 3341: 204, 212361: 205, 223: 206, 501: 207, 2202: 208, 2300: 209, 2336: 210, 1202: 211, 3451: 212, 1938: 213, 3135: 214, 197883: 215, 6385: 216, 3742: 217, 5747: 218, 2618: 219, 529: 220, 2696: 221, 67997: 222, 1960: 223, 30707: 224, 81932: 225, 1365: 226, 3897: 227, 3093: 228, 428: 229, 203322: 230, 141890: 231, 180095: 232, 334: 233, 52952: 234, 43396: 235, 944: 236, 62644: 237, 3911: 238, 217655: 239, 1035: 240, 2069: 241, 728: 242, 225984: 243, 508: 244, 2333: 245, 177615: 246, 64034: 247, 112290: 248, 6591: 249, 3733: 250, 3061: 251, 2791: 252, 50068: 253, 55444: 254, 154: 255, 73: 256, 64839: 257, 1161: 258, 160980: 259, 4047: 260, 193065: 261, 3246: 262, 73290: 263, 2745: 264, 1966: 265, 3296: 266, 2071: 267, 3098: 268, 3252: 269, 179817: 270, 80463: 271, 3916: 272, 2359: 273, 3342: 274, 180045: 275, 8958: 276, 190555: 277, 921: 278, 3967: 279, 900: 280, 1103: 281, 2908: 282, 64197: 283, 3421: 284, 72720: 285, 78836: 286, 7934: 287, 373: 288, 140267: 289, 79553: 290, 535: 291, 54503: 292, 4178: 293, 117881: 294, 89118: 295, 2852: 296, 1635: 297, 166946: 298, 4211: 299, 1050: 300, 64620: 301, 178061: 302, 262: 303, 77307: 304, 138210: 305, 2691: 306, 3260: 307, 56607: 308, 3871: 309, 2599: 310, 2795: 311, 3111: 312, 337: 313, 4322: 314, 25771: 315, 1023: 316, 106766: 317, 7263: 318, 5004: 319, 62: 320, 1954: 321, 3039: 322, 1285: 323, 111384: 324, 1955: 325, 125: 326, 106441: 327, 152077: 328, 206419: 329, 2739: 330, 47999: 331, 179119: 332, 5489: 333, 4007: 334, 3178: 335, 4616: 336, 2312: 337, 1298: 338, 299: 339, 1827: 340, 2231: 341, 4223: 342, 86142: 343, 63876: 344, 2946: 345, 4225: 346, 101895: 347, 140715: 348, 192803: 349, 4021: 350, 1673: 351, 5379: 352, 64716: 353, 161922: 354, 4880: 355, 4465: 356, 4703: 357, 49910: 358, 8581: 359, 1078: 360, 1171: 361, 49961: 362, 441: 363, 4437: 364, 1694: 365, 4499: 366, 1957: 367, 53956: 368, 1124: 369, 538: 370, 111443: 371, 118700: 372, 7158: 373, 5292: 374, 4022: 375, 3581: 376, 31225: 377, 72641: 378, 140110: 379, 52579: 380, 47629: 381, 4359: 382, 3011: 383, 90057: 384, 3100: 385, 1295: 386, 348: 387, 4903: 388, 3148: 389, 8970: 390, 4102: 391, 3271: 392, 87304: 393, 7265: 394, 760: 395, 1962: 396, 4349: 397, 4835: 398, 4809: 399, 161131: 400, 4019: 401, 200306: 402, 1187: 403, 2644: 404, 50912: 405, 2390: 406, 7027: 407, 3552: 408, 103048: 409, 1633: 410, 300: 411, 848: 412, 4292: 413, 6296: 414, 2442: 415, 3831: 416, 47423: 417, 1730: 418, 471: 419, 2563: 420, 3980: 421, 96728: 422, 1297: 423, 146656: 424, 121231: 425, 90531: 426, 1951: 427, 110882: 428, 98154: 429, 223944: 430, 2118: 431, 1663: 432, 2022: 433, 3028: 434, 3181: 435, 1082: 436, 192379: 437, 5269: 438, 1061: 439, 97923: 440, 190: 441, 2423: 442, 135143: 443, 44709: 444, 225145: 445, 1672: 446, 917: 447, 168122: 448, 103980: 449, 2301: 450, 901: 451, 5955: 452, 30812: 453, 3186: 454, 2109: 455, 144976: 456, 147: 457, 2083: 458, 2866: 459, 7451: 460, 30820: 461, 5500: 462, 26: 463, 3397: 464, 4002: 465, 53894: 466, 261: 467, 7618: 468, 2302: 469, 5391: 470, 2310: 471, 5421: 472, 34: 473, 2114: 474, 6188: 475, 3203: 476, 3125: 477, 2178: 478, 67087: 479, 3408: 480, 62203: 481, 8910: 482, 3727: 483, 117887: 484, 118702: 485, 200332: 486, 72733: 487, 51931: 488, 108727: 489, 2870: 490, 6565: 491, 55872: 492, 1982: 493, 991: 494, 118900: 495, 5650: 496, 3873: 497, 1051: 498, 42725: 499, 5014: 500, 47644: 501, 141749: 502, 941: 503, 3538: 504, 4017: 505, 180985: 506, 452: 507, 207405: 508, 2439: 509, 1660: 510, 112623: 511, 3723: 512, 3844: 513, 412: 514, 2096: 515, 69: 516, 162598: 517, 174909: 518, 89804: 519, 448: 520, 477: 521, 2348: 522, 173369: 523, 8966: 524, 1012: 525, 1343: 526, 59126: 527, 2941: 528, 2779: 529, 63131: 530, 161634: 531, 175: 532, 6890: 533, 233: 534, 141: 535, 3213: 536, 160438: 537, 1401: 538, 3950: 539, 3812: 540, 1186: 541, 4220: 542, 72395: 543, 735: 544, 96588: 545, 192283: 546, 2137: 547, 165603: 548, 524: 549, 179085: 550, 1017: 551, 86833: 552, 115170: 553, 159858: 554, 175303: 555, 1747: 556, 531: 557, 3179: 558, 8641: 559, 851: 560, 4508: 561, 3159: 562, 986: 563, 60756: 564, 136562: 565, 4623: 566, 102407: 567, 5668: 568, 45728: 569, 5267: 570, 7155: 571, 2915: 572, 342: 573, 115231: 574, 2077: 575, 4678: 576, 54256: 577, 2272: 578, 113862: 579, 3189: 580, 114662: 581, 3852: 582, 48783: 583, 39427: 584, 6887: 585, 43: 586, 650: 587, 144: 588, 4787: 589, 766: 590, 3253: 591, 1083: 592, 934: 593, 156726: 594, 4557: 595, 2394: 596, 187: 597, 2707: 598, 2736: 599, 514: 600, 36527: 601, 2236: 602, 3398: 603, 4345: 604, 2474: 605, 3786: 606, 4008: 607, 7285: 608, 7045: 609, 3250: 610, 4649: 611, 86898: 612, 14: 613, 7060: 614, 781: 615, 162350: 616, 346: 617, 4090: 618, 3809: 619, 27: 620, 18: 621, 1194: 622, 48385: 623, 4866: 624, 1399: 625, 2240: 626, 110591: 627, 5139: 628, 6863: 629, 55274: 630, 1414: 631, 1366: 632, 104: 633, 491: 634, 3969: 635, 2311: 636, 3948: 637, 242: 638, 2463: 639, 194016: 640, 282: 641, 277: 642, 1892: 643, 162600: 644, 616: 645, 7348: 646, 37384: 647, 3760: 648, 8376: 649, 56805: 650, 3483: 651, 64969: 652, 6944: 653, 2891: 654, 3550: 655, 2337: 656, 3917: 657, 333: 658, 116161: 659, 91094: 660, 27772: 661, 4020: 662, 1093: 663, 663: 664, 2340: 665, 111617: 666, 1840: 667, 8880: 668, 51091: 669, 8781: 670, 2420: 671, 4679: 672, 1875: 673, 5016: 674, 490: 675, 6832: 676, 1031: 677, 2459: 678, 2106: 679, 91126: 680, 3185: 681, 173941: 682, 188797: 683, 3450: 684, 5810: 685, 2433: 686, 2432: 687, 126548: 688, 2518: 689, 271: 690, 3015: 691, 3005: 692, 101739: 693, 167018: 694, 57: 695, 8528: 696, 369: 697, 2261: 698, 4815: 699, 4509: 700, 3145: 701, 2541: 702, 1753: 703, 3594: 704, 4321: 705, 2361: 706, 2476: 707, 225625: 708, 999: 709, 785: 710, 128838: 711, 1020: 712, 4387: 713, 3865: 714, 26555: 715, 2759: 716, 4936: 717, 183421: 718, 74946: 719, 47518: 720, 162602: 721, 34338: 722, 143859: 723, 2539: 724, 1390: 725, 3478: 726, 216: 727, 662: 728, 3869: 729, 1006: 730, 1485: 731, 358: 732, 5266: 733, 2836: 734, 3016: 735, 133419: 736, 700: 737, 49824: 738, 4816: 739, 31: 740, 4733: 741, 3712: 742, 3444: 743, 422: 744, 111113: 745, 91890: 746, 2111: 747, 161580: 748, 93270: 749, 2151: 750, 71520: 751, 1425: 752, 63479: 753, 149352: 754, 3173: 755, 4452: 756, 2718: 757, 1113: 758, 42002: 759, 835: 760, 5282: 761, 2976: 762, 55830: 763, 5009: 764, 4214: 765, 94677: 766, 586: 767, 5283: 768, 81537: 769, 3040: 770, 2772: 771, 78209: 772, 1024: 773, 203: 774, 365: 775, 3998: 776, 1614: 777, 2639: 778, 99117: 779, 537: 780, 3861: 781, 354: 782, 458: 783, 5107: 784, 1416: 785, 1487: 786, 2072: 787, 99912: 788, 7318: 789, 828: 790, 48322: 791, 3791: 792, 4728: 793, 2478: 794, 88: 795, 1016: 796, 2249: 797, 4814: 798, 102481: 799, 3617: 800, 8: 801, 2694: 802, 2860: 803, 5572: 804, 2517: 805, 88785: 806, 4010: 807, 1919: 808, 47640: 809, 1128: 810, 204542: 811, 1363: 812, 2792: 813, 1135: 814, 830: 815, 313: 816, 2247: 817, 3534: 818, 93831: 819, 5025: 820, 2195: 821, 2702: 822, 2709: 823, 6619: 824, 250: 825, 520: 826, 1010: 827, 5: 828, 3053: 829, 3525: 830, 2416: 831, 96110: 832, 3649: 833, 2325: 834, 2520: 835, 80590: 836, 2770: 837, 2513: 838, 2060: 839, 59258: 840, 3882: 841, 52694: 842, 27478: 843, 4745: 844, 135861: 845, 30825: 846, 575: 847, 7376: 848, 801: 849, 2567: 850, 111743: 851, 609: 852, 278: 853, 3918: 854, 2771: 855, 248: 856, 2598: 857, 9: 858, 2546: 859, 2135: 860, 135: 861, 344: 862, 86911: 863, 2787: 864, 1379: 865, 54785: 866, 2356: 867, 107348: 868, 4167: 869, 5481: 870, 1007: 871, 3254: 872, 2017: 873, 6290: 874, 719: 875, 156609: 876, 6287: 877, 3120: 878, 1513: 879, 102686: 880, 2335: 881, 2796: 882, 204: 883, 58156: 884, 5401: 885, 3287: 886, 2082: 887, 2497: 888, 2789: 889, 3968: 890, 433: 891, 1713: 892, 46974: 893, 267: 894, 2375: 895, 6586: 896, 2372: 897, 177: 898, 158: 899, 2091: 900, 4718: 901, 1983: 902, 445: 903, 5308: 904, 656: 905, 4558: 906, 79428: 907, 3177: 908, 1665: 909, 4531: 910, 5363: 911, 8814: 912, 1021: 913, 87485: 914, 637: 915, 4267: 916, 61250: 917, 87483: 918, 4770: 919, 7161: 920, 2034: 921, 1330: 922, 54: 923, 81417: 924, 274: 925, 413: 926, 881: 927, 1091: 928, 1461: 929, 2188: 930, 2882: 931, 2328: 932, 48520: 933, 157: 934, 725: 935, 2829: 936, 6880: 937, 132: 938, 3484: 939, 4744: 940, 79134: 941, 4040: 942, 489: 943, 45666: 944, 85022: 945, 743: 946, 6212: 947, 2500: 948, 710: 949, 2953: 950, 3688: 951, 2169: 952, 69784: 953, 612: 954, 275: 955, 540: 956, 5092: 957, 1999: 958, 82852: 959, 42723: 960, 833: 961, 3388: 962, 2042: 963, 45726: 964, 3324: 965, 2296: 966, 518: 967, 305: 968, 6338: 969, 1588: 970, 7150: 971, 3354: 972, 3835: 973, 234: 974, 19: 975, 4974: 976, 711: 977, 1911: 978, 5784: 979, 325: 980, 3248: 981, 2574: 982, 1503: 983, 4732: 984, 3146: 985, 2862: 986, 3243: 987, 818: 988, 585: 989, 1359: 990, 312: 991, 2815: 992, 437: 993, 116977: 994, 4030: 995, 59900: 996, 54732: 997, 667: 998, 1623: 999, 4248: 1000, 4386: 1001, 1975: 1002, 1474: 1003, 2907: 1004, 1005: 1005, 5480: 1006, 5942: 1007, 3955: 1008, 505: 1009, 2306: 1010, 1969: 1011, 419: 1012, 5504: 1013, 3979: 1014, 1985: 1015, 2460: 1016, 374: 1017, 174: 1018, 4388: 1019, 102: 1020, 6535: 1021, 87: 1022, 2473: 1023, 6166: 1024, 65: 1025, 2119: 1026, 3991: 1027, 2036: 1028, 429: 1029, 4368: 1030, 3646: 1031, 3238: 1032, 1977: 1033, 1105: 1034, 747: 1035, 71: 1036, 1592: 1037, 1973: 1038, 1445: 1039, 473: 1040, 56176: 1041, 1972: 1042, 255: 1043, 1979: 1044, 4215: 1045, 1863: 1046, 193: 1047, 1976: 1048, 1986: 1049, 3392: 1050, 4104: 1051, 3821: 1052, 4340: 1053, 4255: 1054, 3908: 1055, 34530: 1056, 2798: 1057, 77427: 1058, 3799: 1059, 1984: 1060, 1980: 1061, 1978: 1062, 6794: 1063, 3689: 1064, 2828: 1065, 181: 1066, 6951: 1067, 1998: 1068, 1707: 1069, 2799: 1070, 3564: 1071, 2816: 1072, 1981: 1073, 1760: 1074, 6482: 1075, 2555: 1076, 57532: 1077}\n"
     ]
    }
   ],
   "source": [
    "hm_movie_idx = {movies_sparse_ratings[i]:i for i in range(len(movies_sparse_ratings))}\n",
    "hm_user_idx = {users_sparse_ratings[i]:i for i in range(len(users_sparse_ratings))}\n",
    "#print(hm_movie_idx)"
   ],
   "metadata": {
    "collapsed": false,
    "ExecuteTime": {
     "end_time": "2024-06-16T09:44:36.678210700Z",
     "start_time": "2024-06-16T09:44:36.569462Z"
    }
   },
   "id": "7399eb4a5e8f7abb",
   "execution_count": 18
  },
  {
   "cell_type": "markdown",
   "source": [
    "We will create a list of arrays, one for each movie. Then, we will fill in ratings for only those users who have rated each movie."
   ],
   "metadata": {
    "collapsed": false
   },
   "id": "9c47d386529c0b23"
  },
  {
   "cell_type": "code",
   "outputs": [
    {
     "name": "stdout",
     "output_type": "stream",
     "text": [
      "0.0009276437847866419  percent done\n",
      "0.0018552875695732839  percent done\n",
      "0.0027829313543599257  percent done\n",
      "0.0037105751391465678  percent done\n",
      "0.00463821892393321  percent done\n",
      "0.0055658627087198514  percent done\n",
      "0.006493506493506494  percent done\n",
      "0.0074211502782931356  percent done\n",
      "0.008348794063079777  percent done\n",
      "0.00927643784786642  percent done\n",
      "0.01020408163265306  percent done\n",
      "0.011131725417439703  percent done\n",
      "0.012059369202226345  percent done\n",
      "0.012987012987012988  percent done\n",
      "0.013914656771799629  percent done\n",
      "0.014842300556586271  percent done\n",
      "0.015769944341372914  percent done\n",
      "0.016697588126159554  percent done\n",
      "0.017625231910946195  percent done\n",
      "0.01855287569573284  percent done\n",
      "0.01948051948051948  percent done\n",
      "0.02040816326530612  percent done\n",
      "0.021335807050092765  percent done\n",
      "0.022263450834879406  percent done\n",
      "0.023191094619666047  percent done\n",
      "0.02411873840445269  percent done\n",
      "0.02504638218923933  percent done\n",
      "0.025974025974025976  percent done\n",
      "0.026901669758812616  percent done\n",
      "0.027829313543599257  percent done\n",
      "0.0287569573283859  percent done\n",
      "0.029684601113172542  percent done\n",
      "0.030612244897959183  percent done\n",
      "0.03153988868274583  percent done\n",
      "0.032467532467532464  percent done\n",
      "0.03339517625231911  percent done\n",
      "0.03432282003710575  percent done\n",
      "0.03525046382189239  percent done\n",
      "0.036178107606679034  percent done\n",
      "0.03710575139146568  percent done\n",
      "0.038033395176252316  percent done\n",
      "0.03896103896103896  percent done\n",
      "0.039888682745825604  percent done\n",
      "0.04081632653061224  percent done\n",
      "0.041743970315398886  percent done\n",
      "0.04267161410018553  percent done\n",
      "0.04359925788497217  percent done\n",
      "0.04452690166975881  percent done\n",
      "0.045454545454545456  percent done\n",
      "0.04638218923933209  percent done\n",
      "0.04730983302411874  percent done\n",
      "0.04823747680890538  percent done\n",
      "0.04916512059369202  percent done\n",
      "0.05009276437847866  percent done\n",
      "0.05102040816326531  percent done\n",
      "0.05194805194805195  percent done\n",
      "0.05287569573283859  percent done\n",
      "0.05380333951762523  percent done\n",
      "0.05473098330241188  percent done\n",
      "0.055658627087198514  percent done\n",
      "0.05658627087198516  percent done\n",
      "0.0575139146567718  percent done\n",
      "0.05844155844155844  percent done\n",
      "0.059369202226345084  percent done\n",
      "0.06029684601113173  percent done\n",
      "0.061224489795918366  percent done\n",
      "0.06215213358070501  percent done\n",
      "0.06307977736549165  percent done\n",
      "0.0640074211502783  percent done\n",
      "0.06493506493506493  percent done\n",
      "0.06586270871985157  percent done\n",
      "0.06679035250463822  percent done\n",
      "0.06771799628942486  percent done\n",
      "0.0686456400742115  percent done\n",
      "0.06957328385899815  percent done\n",
      "0.07050092764378478  percent done\n",
      "0.07142857142857142  percent done\n",
      "0.07235621521335807  percent done\n",
      "0.07328385899814471  percent done\n",
      "0.07421150278293136  percent done\n",
      "0.075139146567718  percent done\n",
      "0.07606679035250463  percent done\n",
      "0.07699443413729128  percent done\n"
     ]
    },
    {
     "ename": "KeyboardInterrupt",
     "evalue": "",
     "output_type": "error",
     "traceback": [
      "\u001B[1;31m---------------------------------------------------------------------------\u001B[0m",
      "\u001B[1;31mKeyboardInterrupt\u001B[0m                         Traceback (most recent call last)",
      "Cell \u001B[1;32mIn[20], line 11\u001B[0m\n\u001B[0;32m      9\u001B[0m \u001B[38;5;28;01mfor\u001B[39;00m i \u001B[38;5;129;01min\u001B[39;00m \u001B[38;5;28mrange\u001B[39m(\u001B[38;5;28mlen\u001B[39m(users_who_rated_movie)):\n\u001B[0;32m     10\u001B[0m     user \u001B[38;5;241m=\u001B[39m users_who_rated_movie\u001B[38;5;241m.\u001B[39miloc[i]\n\u001B[1;32m---> 11\u001B[0m     all_ratings_for_a_movie[hm_user_idx[user[\u001B[38;5;124m\"\u001B[39m\u001B[38;5;124muserId\u001B[39m\u001B[38;5;124m\"\u001B[39m]]] \u001B[38;5;241m=\u001B[39m \u001B[43muser\u001B[49m\u001B[43m[\u001B[49m\u001B[38;5;124;43m\"\u001B[39;49m\u001B[38;5;124;43mrating\u001B[39;49m\u001B[38;5;124;43m\"\u001B[39;49m\u001B[43m]\u001B[49m\n\u001B[0;32m     13\u001B[0m all_movie_ratings_lst\u001B[38;5;241m.\u001B[39mappend(all_ratings_for_a_movie)\n\u001B[0;32m     14\u001B[0m ij \u001B[38;5;241m+\u001B[39m\u001B[38;5;241m=\u001B[39m \u001B[38;5;241m1\u001B[39m\n",
      "File \u001B[1;32m~\\PycharmProjects\\Thesis\\.venv\\Lib\\site-packages\\pandas\\core\\series.py:1096\u001B[0m, in \u001B[0;36mSeries.__getitem__\u001B[1;34m(self, key)\u001B[0m\n\u001B[0;32m   1095\u001B[0m \u001B[38;5;28;01mdef\u001B[39;00m \u001B[38;5;21m__getitem__\u001B[39m(\u001B[38;5;28mself\u001B[39m, key):\n\u001B[1;32m-> 1096\u001B[0m     \u001B[43mcheck_dict_or_set_indexers\u001B[49m\u001B[43m(\u001B[49m\u001B[43mkey\u001B[49m\u001B[43m)\u001B[49m\n\u001B[0;32m   1097\u001B[0m     key \u001B[38;5;241m=\u001B[39m com\u001B[38;5;241m.\u001B[39mapply_if_callable(key, \u001B[38;5;28mself\u001B[39m)\n\u001B[0;32m   1099\u001B[0m     \u001B[38;5;28;01mif\u001B[39;00m key \u001B[38;5;129;01mis\u001B[39;00m \u001B[38;5;28mEllipsis\u001B[39m:\n",
      "File \u001B[1;32m~\\PycharmProjects\\Thesis\\.venv\\Lib\\site-packages\\pandas\\core\\indexing.py:2765\u001B[0m, in \u001B[0;36mcheck_dict_or_set_indexers\u001B[1;34m(key)\u001B[0m\n\u001B[0;32m   2753\u001B[0m \u001B[38;5;250m    \u001B[39m\u001B[38;5;124;03m\"\"\"\u001B[39;00m\n\u001B[0;32m   2754\u001B[0m \u001B[38;5;124;03m    Returns\u001B[39;00m\n\u001B[0;32m   2755\u001B[0m \u001B[38;5;124;03m    -------\u001B[39;00m\n\u001B[0;32m   2756\u001B[0m \u001B[38;5;124;03m    bool\u001B[39;00m\n\u001B[0;32m   2757\u001B[0m \u001B[38;5;124;03m    \"\"\"\u001B[39;00m\n\u001B[0;32m   2758\u001B[0m     \u001B[38;5;28;01mreturn\u001B[39;00m (\n\u001B[0;32m   2759\u001B[0m         obj\u001B[38;5;241m.\u001B[39mstart \u001B[38;5;129;01mis\u001B[39;00m \u001B[38;5;129;01mnot\u001B[39;00m \u001B[38;5;28;01mNone\u001B[39;00m\n\u001B[0;32m   2760\u001B[0m         \u001B[38;5;129;01mor\u001B[39;00m obj\u001B[38;5;241m.\u001B[39mstop \u001B[38;5;129;01mis\u001B[39;00m \u001B[38;5;129;01mnot\u001B[39;00m \u001B[38;5;28;01mNone\u001B[39;00m\n\u001B[0;32m   2761\u001B[0m         \u001B[38;5;129;01mor\u001B[39;00m (obj\u001B[38;5;241m.\u001B[39mstep \u001B[38;5;129;01mis\u001B[39;00m \u001B[38;5;129;01mnot\u001B[39;00m \u001B[38;5;28;01mNone\u001B[39;00m \u001B[38;5;129;01mand\u001B[39;00m obj\u001B[38;5;241m.\u001B[39mstep \u001B[38;5;241m!=\u001B[39m \u001B[38;5;241m1\u001B[39m)\n\u001B[0;32m   2762\u001B[0m     )\n\u001B[1;32m-> 2765\u001B[0m \u001B[38;5;28;01mdef\u001B[39;00m \u001B[38;5;21mcheck_dict_or_set_indexers\u001B[39m(key) \u001B[38;5;241m-\u001B[39m\u001B[38;5;241m>\u001B[39m \u001B[38;5;28;01mNone\u001B[39;00m:\n\u001B[0;32m   2766\u001B[0m \u001B[38;5;250m    \u001B[39m\u001B[38;5;124;03m\"\"\"\u001B[39;00m\n\u001B[0;32m   2767\u001B[0m \u001B[38;5;124;03m    Check if the indexer is or contains a dict or set, which is no longer allowed.\u001B[39;00m\n\u001B[0;32m   2768\u001B[0m \u001B[38;5;124;03m    \"\"\"\u001B[39;00m\n\u001B[0;32m   2769\u001B[0m     \u001B[38;5;28;01mif\u001B[39;00m (\n\u001B[0;32m   2770\u001B[0m         \u001B[38;5;28misinstance\u001B[39m(key, \u001B[38;5;28mset\u001B[39m)\n\u001B[0;32m   2771\u001B[0m         \u001B[38;5;129;01mor\u001B[39;00m \u001B[38;5;28misinstance\u001B[39m(key, \u001B[38;5;28mtuple\u001B[39m)\n\u001B[0;32m   2772\u001B[0m         \u001B[38;5;129;01mand\u001B[39;00m \u001B[38;5;28many\u001B[39m(\u001B[38;5;28misinstance\u001B[39m(x, \u001B[38;5;28mset\u001B[39m) \u001B[38;5;28;01mfor\u001B[39;00m x \u001B[38;5;129;01min\u001B[39;00m key)\n\u001B[0;32m   2773\u001B[0m     ):\n",
      "\u001B[1;31mKeyboardInterrupt\u001B[0m: "
     ]
    }
   ],
   "source": [
    "all_movie_ratings_lst = []\n",
    "ij = 0\n",
    "for movie in movies_sparse_ratings:\n",
    "    all_ratings_for_a_movie = np.zeros([len(users_sparse_ratings)])\n",
    "    users_who_rated_movie = df_sparse_ratings_data[df_sparse_ratings_data[\"movieId\"] == movie]\n",
    "\n",
    "    for i in range(len(users_who_rated_movie)):\n",
    "        user = users_who_rated_movie.iloc[i]\n",
    "        all_ratings_for_a_movie[hm_user_idx[user[\"userId\"]]] = user[\"rating\"]\n",
    "    \n",
    "    all_movie_ratings_lst.append(all_ratings_for_a_movie)\n",
    "    ij += 1\n",
    "    # for tracking purposes - better uncomment it - it takes a long time\n",
    "    #print(ij/len(movies_sparse_ratings), \" percent done\")\n",
    "print(all_movie_ratings_lst)"
   ],
   "metadata": {
    "collapsed": false,
    "ExecuteTime": {
     "end_time": "2024-06-16T09:45:21.808849700Z",
     "start_time": "2024-06-16T09:44:36.671829900Z"
    }
   },
   "id": "2b98b62d780fab90",
   "execution_count": 20
  },
  {
   "cell_type": "code",
   "outputs": [],
   "source": [
    "df_sparse_ratings_from_lst = pd.DataFrame({movies_sparse_ratings[i]: all_movie_ratings_lst[i] for i in range(len(all_movie_ratings_lst))})\n",
    "df_sparse_ratings_from_lst.index = users_sparse_ratings\n",
    "df_sparse_ratings_from_lst.index.name = \"userId\"\n",
    "df_sparse_ratings_from_lst = df_sparse_ratings_from_lst.T  # Transpose to get users as columns and movies as rows\n",
    "df_sparse_ratings_from_lst.index.name = \"movieId\""
   ],
   "metadata": {
    "collapsed": false,
    "ExecuteTime": {
     "end_time": "2024-06-16T09:45:21.817264800Z",
     "start_time": "2024-06-16T09:45:21.813076700Z"
    }
   },
   "id": "ca7ab867e5b57c3e",
   "execution_count": null
  },
  {
   "cell_type": "markdown",
   "source": [
    "So our convention will be - rows correspond with movies, and cols correspond with users. We assume that users will have rated only a few movies relative to the size of the dataset so it makes sense to use a sparse column scipy matrix - we will get to that later"
   ],
   "metadata": {
    "collapsed": false
   },
   "id": "5bbc2ed85193d83f"
  },
  {
   "cell_type": "code",
   "outputs": [],
   "source": [
    "df_sparse_ratings_from_lst"
   ],
   "metadata": {
    "collapsed": false,
    "ExecuteTime": {
     "start_time": "2024-06-16T09:45:21.815196600Z"
    }
   },
   "id": "a00763ec2f9c9de2",
   "execution_count": null
  },
  {
   "cell_type": "code",
   "outputs": [],
   "source": [
    "df_sparse_ratings_from_lst.to_pickle(\"sparse_ratings.pkl\")"
   ],
   "metadata": {
    "collapsed": false,
    "ExecuteTime": {
     "end_time": "2024-06-16T09:45:21.832360300Z",
     "start_time": "2024-06-16T09:45:21.818301400Z"
    }
   },
   "id": "1d94de14c2191410",
   "execution_count": null
  }
 ],
 "metadata": {
  "kernelspec": {
   "display_name": "Python 3",
   "language": "python",
   "name": "python3"
  },
  "language_info": {
   "codemirror_mode": {
    "name": "ipython",
    "version": 2
   },
   "file_extension": ".py",
   "mimetype": "text/x-python",
   "name": "python",
   "nbconvert_exporter": "python",
   "pygments_lexer": "ipython2",
   "version": "2.7.6"
  }
 },
 "nbformat": 4,
 "nbformat_minor": 5
}
