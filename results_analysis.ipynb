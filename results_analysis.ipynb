{
 "cells": [
  {
   "cell_type": "code",
   "execution_count": 16,
   "id": "initial_id",
   "metadata": {
    "collapsed": true,
    "ExecuteTime": {
     "end_time": "2024-05-06T10:04:41.105401200Z",
     "start_time": "2024-05-06T10:04:41.086275100Z"
    }
   },
   "outputs": [],
   "source": [
    "import pandas as pd\n",
    "import matplotlib.pyplot as plt\n"
   ]
  },
  {
   "cell_type": "code",
   "outputs": [
    {
     "data": {
      "text/plain": "                                    Combination  Average RMSE  RMSE StDev  \\\n1                                      [160438]      1.652778    0.382380   \n3                                [109487, 1304]      1.308035    0.579718   \n4                              [109487, 160438]      0.898076    0.582152   \n7                              [164179, 160438]      1.276092    0.698027   \n9                                  [1258, 1304]      1.394699    0.543790   \n..                                          ...           ...         ...   \n3     [1961, 586, 142488, 168250, 109487, 1304]      1.425613    0.230521   \n4   [1961, 586, 142488, 168250, 109487, 160438]      1.470458    0.376753   \n5           [1961, 586, 142488, 168250, 164179]      1.302748    0.315857   \n6     [1961, 586, 142488, 168250, 164179, 1304]      1.243613    0.280232   \n7   [1961, 586, 142488, 168250, 164179, 160438]      1.419660    0.454946   \n\n    Average MAE  Median Absolute Error  \n1      1.326546               1.000000  \n3      1.237503               1.166667  \n4      0.817355               0.500000  \n7      1.176451               1.000000  \n9      1.184168               1.000000  \n..          ...                    ...  \n3      1.149732               1.000000  \n4      1.159666               1.000000  \n5      0.982839               0.750000  \n6      0.942556               0.702431  \n7      1.092145               0.750000  \n\n[717 rows x 5 columns]",
      "text/html": "<div>\n<style scoped>\n    .dataframe tbody tr th:only-of-type {\n        vertical-align: middle;\n    }\n\n    .dataframe tbody tr th {\n        vertical-align: top;\n    }\n\n    .dataframe thead th {\n        text-align: right;\n    }\n</style>\n<table border=\"1\" class=\"dataframe\">\n  <thead>\n    <tr style=\"text-align: right;\">\n      <th></th>\n      <th>Combination</th>\n      <th>Average RMSE</th>\n      <th>RMSE StDev</th>\n      <th>Average MAE</th>\n      <th>Median Absolute Error</th>\n    </tr>\n  </thead>\n  <tbody>\n    <tr>\n      <th>1</th>\n      <td>[160438]</td>\n      <td>1.652778</td>\n      <td>0.382380</td>\n      <td>1.326546</td>\n      <td>1.000000</td>\n    </tr>\n    <tr>\n      <th>3</th>\n      <td>[109487, 1304]</td>\n      <td>1.308035</td>\n      <td>0.579718</td>\n      <td>1.237503</td>\n      <td>1.166667</td>\n    </tr>\n    <tr>\n      <th>4</th>\n      <td>[109487, 160438]</td>\n      <td>0.898076</td>\n      <td>0.582152</td>\n      <td>0.817355</td>\n      <td>0.500000</td>\n    </tr>\n    <tr>\n      <th>7</th>\n      <td>[164179, 160438]</td>\n      <td>1.276092</td>\n      <td>0.698027</td>\n      <td>1.176451</td>\n      <td>1.000000</td>\n    </tr>\n    <tr>\n      <th>9</th>\n      <td>[1258, 1304]</td>\n      <td>1.394699</td>\n      <td>0.543790</td>\n      <td>1.184168</td>\n      <td>1.000000</td>\n    </tr>\n    <tr>\n      <th>...</th>\n      <td>...</td>\n      <td>...</td>\n      <td>...</td>\n      <td>...</td>\n      <td>...</td>\n    </tr>\n    <tr>\n      <th>3</th>\n      <td>[1961, 586, 142488, 168250, 109487, 1304]</td>\n      <td>1.425613</td>\n      <td>0.230521</td>\n      <td>1.149732</td>\n      <td>1.000000</td>\n    </tr>\n    <tr>\n      <th>4</th>\n      <td>[1961, 586, 142488, 168250, 109487, 160438]</td>\n      <td>1.470458</td>\n      <td>0.376753</td>\n      <td>1.159666</td>\n      <td>1.000000</td>\n    </tr>\n    <tr>\n      <th>5</th>\n      <td>[1961, 586, 142488, 168250, 164179]</td>\n      <td>1.302748</td>\n      <td>0.315857</td>\n      <td>0.982839</td>\n      <td>0.750000</td>\n    </tr>\n    <tr>\n      <th>6</th>\n      <td>[1961, 586, 142488, 168250, 164179, 1304]</td>\n      <td>1.243613</td>\n      <td>0.280232</td>\n      <td>0.942556</td>\n      <td>0.702431</td>\n    </tr>\n    <tr>\n      <th>7</th>\n      <td>[1961, 586, 142488, 168250, 164179, 160438]</td>\n      <td>1.419660</td>\n      <td>0.454946</td>\n      <td>1.092145</td>\n      <td>0.750000</td>\n    </tr>\n  </tbody>\n</table>\n<p>717 rows × 5 columns</p>\n</div>"
     },
     "execution_count": 17,
     "metadata": {},
     "output_type": "execute_result"
    }
   ],
   "source": [
    "results = []\n",
    "for i in range(10,721,10):\n",
    "    results.append(pd.read_pickle(f'results{i}'))\n",
    "results.append(pd.read_pickle('results729'))\n",
    "df = pd.concat(results).dropna().drop(columns='Processing Time')\n",
    "df"
   ],
   "metadata": {
    "collapsed": false,
    "ExecuteTime": {
     "end_time": "2024-05-06T10:04:41.170904600Z",
     "start_time": "2024-05-06T10:04:41.110780100Z"
    }
   },
   "id": "24316ff88fcae842",
   "execution_count": 17
  },
  {
   "cell_type": "code",
   "outputs": [
    {
     "name": "stdout",
     "output_type": "stream",
     "text": [
      "Descriptive Statistics:\n",
      "       Average RMSE  RMSE StDev  Average MAE  Median Absolute Error\n",
      "count    717.000000  717.000000   717.000000             717.000000\n",
      "mean       1.333481    0.487892     1.109486               0.936462\n",
      "std        0.311478    0.171895     0.291769               0.310157\n",
      "min        0.100000    0.000000     0.100000               0.000000\n",
      "25%        1.161504    0.368310     0.949777               0.750000\n",
      "50%        1.285660    0.450622     1.054118               1.000000\n",
      "75%        1.461471    0.567723     1.191419               1.000000\n",
      "max        3.630335    1.263142     3.450000               3.375000\n"
     ]
    },
    {
     "data": {
      "text/plain": "(array([ 1.,  0.,  0.,  0.,  1.,  0.,  0.,  0.,  1.,  0.,  0.,  0.,  0.,\n         1.,  0.,  1.,  0.,  3.,  1.,  4.,  3.,  5., 11., 10., 11., 16.,\n        13., 20., 40., 35., 50., 49., 53., 51., 36., 47., 30., 29., 35.,\n        20., 16., 13., 13., 11., 10., 12., 10.,  8.,  5.,  8.,  5.,  1.,\n         4.,  3.,  0.,  3.,  5.,  1.,  0.,  0.,  0.,  2.,  0.,  1.,  1.,\n         0.,  0.,  1.,  1.,  0.,  0.,  1.,  2.,  1.,  0.,  0.,  0.,  0.,\n         1.,  0.,  0.,  0.,  0.,  0.,  0.,  0.,  0.,  0.,  0.,  0.,  0.,\n         0.,  0.,  0.,  0.,  0.,  0.,  0.,  0.,  1.]),\n array([0.1       , 0.13530335, 0.1706067 , 0.20591005, 0.2412134 ,\n        0.27651675, 0.3118201 , 0.34712345, 0.3824268 , 0.41773015,\n        0.4530335 , 0.48833685, 0.5236402 , 0.55894355, 0.59424689,\n        0.62955024, 0.66485359, 0.70015694, 0.73546029, 0.77076364,\n        0.80606699, 0.84137034, 0.87667369, 0.91197704, 0.94728039,\n        0.98258374, 1.01788709, 1.05319044, 1.08849379, 1.12379714,\n        1.15910049, 1.19440384, 1.22970719, 1.26501054, 1.30031389,\n        1.33561724, 1.37092059, 1.40622394, 1.44152729, 1.47683064,\n        1.51213398, 1.54743733, 1.58274068, 1.61804403, 1.65334738,\n        1.68865073, 1.72395408, 1.75925743, 1.79456078, 1.82986413,\n        1.86516748, 1.90047083, 1.93577418, 1.97107753, 2.00638088,\n        2.04168423, 2.07698758, 2.11229093, 2.14759428, 2.18289763,\n        2.21820098, 2.25350433, 2.28880768, 2.32411103, 2.35941438,\n        2.39471773, 2.43002107, 2.46532442, 2.50062777, 2.53593112,\n        2.57123447, 2.60653782, 2.64184117, 2.67714452, 2.71244787,\n        2.74775122, 2.78305457, 2.81835792, 2.85366127, 2.88896462,\n        2.92426797, 2.95957132, 2.99487467, 3.03017802, 3.06548137,\n        3.10078472, 3.13608807, 3.17139142, 3.20669477, 3.24199812,\n        3.27730147, 3.31260482, 3.34790816, 3.38321151, 3.41851486,\n        3.45381821, 3.48912156, 3.52442491, 3.55972826, 3.59503161,\n        3.63033496]),\n <BarContainer object of 100 artists>)"
     },
     "execution_count": 21,
     "metadata": {},
     "output_type": "execute_result"
    },
    {
     "data": {
      "text/plain": "<Figure size 640x480 with 1 Axes>",
      "image/png": "[encoded data removed]"
     },
     "metadata": {},
     "output_type": "display_data"
    }
   ],
   "source": [
    "# Calculate descriptive statistics for each combination\n",
    "desc_stats = df.describe()\n",
    "\n",
    "# Trade-off analysis: Considering both RMSE and MAE, and their variabilities\n",
    "print(\"Descriptive Statistics:\")\n",
    "print(desc_stats)\n",
    "\n",
    "plt.hist(df[\"Average RMSE\"], bins=100)\n",
    "#plt.hist(df[\"Average MAE\"])\n",
    "\n"
   ],
   "metadata": {
    "collapsed": false,
    "ExecuteTime": {
     "end_time": "2024-05-06T10:09:07.120130500Z",
     "start_time": "2024-05-06T10:09:06.805867700Z"
    }
   },
   "id": "8f815f4bb73fb3dc",
   "execution_count": 21
  },
  {
   "cell_type": "code",
   "outputs": [
    {
     "data": {
      "text/plain": "                          Combination  Average RMSE  RMSE StDev  Average MAE  \\\n0               [457, 168250, 164179]      0.723267    0.664508     0.674681   \n6                    [142488, 109487]      0.788935    0.509870     0.707754   \n7                          [344, 457]      0.399187    0.716250     0.393799   \n6            [344, 457, 168250, 1304]      0.250000    0.433013     0.250000   \n3  [344, 457, 168250, 164179, 160438]      0.100000    0.200000     0.100000   \n3                       [586, 160438]      0.570246    0.157542     0.500000   \n7                       [586, 164179]      0.719345    0.673877     0.683455   \n7               [586, 142488, 160438]      0.789360    0.632044     0.760417   \n5                  [527, 344, 160438]      0.798902    0.563206     0.736548   \n2  [527, 344, 142488, 109487, 160438]      0.663306    0.515124     0.569424   \n6                         [1961, 344]      0.743753    0.521337     0.692038   \n0      [1961, 344, 457, 164179, 1304]      0.724112    0.406817     0.622350   \n\n   Median Absolute Error  \n0                    0.5  \n6                    0.5  \n7                    0.0  \n6                    0.0  \n3                    0.0  \n3                    0.5  \n7                    0.5  \n7                    0.5  \n5                    0.5  \n2                    0.5  \n6                    0.5  \n0                    0.5  ",
      "text/html": "<div>\n<style scoped>\n    .dataframe tbody tr th:only-of-type {\n        vertical-align: middle;\n    }\n\n    .dataframe tbody tr th {\n        vertical-align: top;\n    }\n\n    .dataframe thead th {\n        text-align: right;\n    }\n</style>\n<table border=\"1\" class=\"dataframe\">\n  <thead>\n    <tr style=\"text-align: right;\">\n      <th></th>\n      <th>Combination</th>\n      <th>Average RMSE</th>\n      <th>RMSE StDev</th>\n      <th>Average MAE</th>\n      <th>Median Absolute Error</th>\n    </tr>\n  </thead>\n  <tbody>\n    <tr>\n      <th>0</th>\n      <td>[457, 168250, 164179]</td>\n      <td>0.723267</td>\n      <td>0.664508</td>\n      <td>0.674681</td>\n      <td>0.5</td>\n    </tr>\n    <tr>\n      <th>6</th>\n      <td>[142488, 109487]</td>\n      <td>0.788935</td>\n      <td>0.509870</td>\n      <td>0.707754</td>\n      <td>0.5</td>\n    </tr>\n    <tr>\n      <th>7</th>\n      <td>[344, 457]</td>\n      <td>0.399187</td>\n      <td>0.716250</td>\n      <td>0.393799</td>\n      <td>0.0</td>\n    </tr>\n    <tr>\n      <th>6</th>\n      <td>[344, 457, 168250, 1304]</td>\n      <td>0.250000</td>\n      <td>0.433013</td>\n      <td>0.250000</td>\n      <td>0.0</td>\n    </tr>\n    <tr>\n      <th>3</th>\n      <td>[344, 457, 168250, 164179, 160438]</td>\n      <td>0.100000</td>\n      <td>0.200000</td>\n      <td>0.100000</td>\n      <td>0.0</td>\n    </tr>\n    <tr>\n      <th>3</th>\n      <td>[586, 160438]</td>\n      <td>0.570246</td>\n      <td>0.157542</td>\n      <td>0.500000</td>\n      <td>0.5</td>\n    </tr>\n    <tr>\n      <th>7</th>\n      <td>[586, 164179]</td>\n      <td>0.719345</td>\n      <td>0.673877</td>\n      <td>0.683455</td>\n      <td>0.5</td>\n    </tr>\n    <tr>\n      <th>7</th>\n      <td>[586, 142488, 160438]</td>\n      <td>0.789360</td>\n      <td>0.632044</td>\n      <td>0.760417</td>\n      <td>0.5</td>\n    </tr>\n    <tr>\n      <th>5</th>\n      <td>[527, 344, 160438]</td>\n      <td>0.798902</td>\n      <td>0.563206</td>\n      <td>0.736548</td>\n      <td>0.5</td>\n    </tr>\n    <tr>\n      <th>2</th>\n      <td>[527, 344, 142488, 109487, 160438]</td>\n      <td>0.663306</td>\n      <td>0.515124</td>\n      <td>0.569424</td>\n      <td>0.5</td>\n    </tr>\n    <tr>\n      <th>6</th>\n      <td>[1961, 344]</td>\n      <td>0.743753</td>\n      <td>0.521337</td>\n      <td>0.692038</td>\n      <td>0.5</td>\n    </tr>\n    <tr>\n      <th>0</th>\n      <td>[1961, 344, 457, 164179, 1304]</td>\n      <td>0.724112</td>\n      <td>0.406817</td>\n      <td>0.622350</td>\n      <td>0.5</td>\n    </tr>\n  </tbody>\n</table>\n</div>"
     },
     "execution_count": 28,
     "metadata": {},
     "output_type": "execute_result"
    }
   ],
   "source": [
    "df[df[\"Average RMSE\"]<.8]"
   ],
   "metadata": {
    "collapsed": false,
    "ExecuteTime": {
     "end_time": "2024-05-06T10:14:20.787053500Z",
     "start_time": "2024-05-06T10:14:20.748203900Z"
    }
   },
   "id": "282d52e8d45efb79",
   "execution_count": 28
  },
  {
   "cell_type": "code",
   "outputs": [
    {
     "data": {
      "text/plain": "(array([ 2.,  0.,  0.,  0.,  0.,  0.,  1.,  0.,  0.,  0.,  0.,  0.,  1.,\n         0.,  0.,  1.,  2.,  2.,  5.,  6., 11.,  7., 11., 15., 15., 24.,\n        20., 32., 21., 30., 26., 20., 27., 25., 28., 31., 13., 13., 33.,\n        24., 19., 16., 19., 18., 20., 18., 10.,  9., 10., 14.,  8.,  7.,\n         9., 10.,  5.,  3.,  8.,  3.,  4.,  6.,  1.,  3.,  7.,  3.,  1.,\n         2.,  4.,  3.,  5.,  0.,  1.,  2.,  3.,  1.,  2.,  0.,  6.,  1.,\n         2.,  0.,  2.,  0.,  2.,  0.,  1.,  0.,  0.,  0.,  0.,  1.,  0.,\n         0.,  0.,  0.,  1.,  0.,  0.,  0.,  0.,  1.]),\n array([0.        , 0.01263142, 0.02526283, 0.03789425, 0.05052567,\n        0.06315709, 0.0757885 , 0.08841992, 0.10105134, 0.11368275,\n        0.12631417, 0.13894559, 0.15157701, 0.16420842, 0.17683984,\n        0.18947126, 0.20210267, 0.21473409, 0.22736551, 0.23999693,\n        0.25262834, 0.26525976, 0.27789118, 0.29052259, 0.30315401,\n        0.31578543, 0.32841684, 0.34104826, 0.35367968, 0.3663111 ,\n        0.37894251, 0.39157393, 0.40420535, 0.41683676, 0.42946818,\n        0.4420996 , 0.45473102, 0.46736243, 0.47999385, 0.49262527,\n        0.50525668, 0.5178881 , 0.53051952, 0.54315094, 0.55578235,\n        0.56841377, 0.58104519, 0.5936766 , 0.60630802, 0.61893944,\n        0.63157086, 0.64420227, 0.65683369, 0.66946511, 0.68209652,\n        0.69472794, 0.70735936, 0.71999078, 0.73262219, 0.74525361,\n        0.75788503, 0.77051644, 0.78314786, 0.79577928, 0.80841069,\n        0.82104211, 0.83367353, 0.84630495, 0.85893636, 0.87156778,\n        0.8841992 , 0.89683061, 0.90946203, 0.92209345, 0.93472487,\n        0.94735628, 0.9599877 , 0.97261912, 0.98525053, 0.99788195,\n        1.01051337, 1.02314479, 1.0357762 , 1.04840762, 1.06103904,\n        1.07367045, 1.08630187, 1.09893329, 1.11156471, 1.12419612,\n        1.13682754, 1.14945896, 1.16209037, 1.17472179, 1.18735321,\n        1.19998463, 1.21261604, 1.22524746, 1.23787888, 1.25051029,\n        1.26314171]),\n <BarContainer object of 100 artists>)"
     },
     "execution_count": 23,
     "metadata": {},
     "output_type": "execute_result"
    },
    {
     "data": {
      "text/plain": "<Figure size 640x480 with 1 Axes>",
      "image/png": "[encoded data removed]"
     },
     "metadata": {},
     "output_type": "display_data"
    }
   ],
   "source": [
    "plt.hist(df[\"RMSE StDev\"], bins=100)"
   ],
   "metadata": {
    "collapsed": false,
    "ExecuteTime": {
     "end_time": "2024-05-06T10:10:13.805323500Z",
     "start_time": "2024-05-06T10:10:13.524297200Z"
    }
   },
   "id": "82a022c79fa207bf",
   "execution_count": 23
  }
 ],
 "metadata": {
  "kernelspec": {
   "display_name": "Python 3",
   "language": "python",
   "name": "python3"
  },
  "language_info": {
   "codemirror_mode": {
    "name": "ipython",
    "version": 2
   },
   "file_extension": ".py",
   "mimetype": "text/x-python",
   "name": "python",
   "nbconvert_exporter": "python",
   "pygments_lexer": "ipython2",
   "version": "2.7.6"
  }
 },
 "nbformat": 4,
 "nbformat_minor": 5
}
