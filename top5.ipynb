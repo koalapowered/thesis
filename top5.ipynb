{
 "cells": [
  {
   "cell_type": "code",
   "execution_count": 56,
   "id": "initial_id",
   "metadata": {
    "collapsed": true,
    "ExecuteTime": {
     "end_time": "2024-04-23T16:13:06.841448100Z",
     "start_time": "2024-04-23T16:13:06.813714500Z"
    }
   },
   "outputs": [],
   "source": [
    "import pandas as pd"
   ]
  },
  {
   "cell_type": "code",
   "outputs": [],
   "source": [
    "df_movies = pd.read_csv('ml-latest/movies.csv')"
   ],
   "metadata": {
    "collapsed": false,
    "ExecuteTime": {
     "end_time": "2024-04-23T16:13:06.995379Z",
     "start_time": "2024-04-23T16:13:06.845771500Z"
    }
   },
   "id": "5738e050986fc633",
   "execution_count": 57
  },
  {
   "cell_type": "code",
   "outputs": [],
   "source": [
    "df_ratings = pd.read_csv('ml-latest/ratings.csv')\n",
    "df_ratings.set_index('movieId', inplace=True)"
   ],
   "metadata": {
    "collapsed": false,
    "ExecuteTime": {
     "end_time": "2024-04-23T16:13:17.714557400Z",
     "start_time": "2024-04-23T16:13:06.980219500Z"
    }
   },
   "id": "72fb27fcaa41242d",
   "execution_count": 58
  },
  {
   "cell_type": "code",
   "outputs": [],
   "source": [
    "df_ratings[\"no_people_rated\"] = [1 for _ in range(len(df_ratings))]"
   ],
   "metadata": {
    "collapsed": false,
    "ExecuteTime": {
     "end_time": "2024-04-23T16:13:26.139094100Z",
     "start_time": "2024-04-23T16:13:17.716719400Z"
    }
   },
   "id": "e516e401647b7385",
   "execution_count": 59
  },
  {
   "cell_type": "code",
   "outputs": [],
   "source": [
    "grouped_ratings = df_ratings.groupby('movieId')\n",
    "\n",
    "grouped_ratings = grouped_ratings.sum()\n"
   ],
   "metadata": {
    "collapsed": false,
    "ExecuteTime": {
     "end_time": "2024-04-23T16:13:27.986313100Z",
     "start_time": "2024-04-23T16:13:26.143423500Z"
    }
   },
   "id": "17173f6a756b2924",
   "execution_count": 60
  },
  {
   "cell_type": "code",
   "outputs": [
    {
     "data": {
      "text/plain": "              userId    rating       timestamp  no_people_rated\nmovieId                                                        \n1        12696689201  299072.0  90676232180619            76813\n2         4969411174   99030.5  34965684106628            30209\n3         2608079724   50169.5  15487105413879            15820\n4          502841790    8685.5   2874569542209             3028\n5         2603834260   48619.0  15955867010862            15801\n...              ...       ...             ...              ...\n288967         47791       3.5      1689748357                1\n288971         98408       0.5      1689798322                1\n288975        154483       4.0      1689812351                1\n288977        291389       3.0      1689815902                1\n288983        254114       3.0      1689834886                1\n\n[83239 rows x 4 columns]",
      "text/html": "<div>\n<style scoped>\n    .dataframe tbody tr th:only-of-type {\n        vertical-align: middle;\n    }\n\n    .dataframe tbody tr th {\n        vertical-align: top;\n    }\n\n    .dataframe thead th {\n        text-align: right;\n    }\n</style>\n<table border=\"1\" class=\"dataframe\">\n  <thead>\n    <tr style=\"text-align: right;\">\n      <th></th>\n      <th>userId</th>\n      <th>rating</th>\n      <th>timestamp</th>\n      <th>no_people_rated</th>\n    </tr>\n    <tr>\n      <th>movieId</th>\n      <th></th>\n      <th></th>\n      <th></th>\n      <th></th>\n    </tr>\n  </thead>\n  <tbody>\n    <tr>\n      <th>1</th>\n      <td>12696689201</td>\n      <td>299072.0</td>\n      <td>90676232180619</td>\n      <td>76813</td>\n    </tr>\n    <tr>\n      <th>2</th>\n      <td>4969411174</td>\n      <td>99030.5</td>\n      <td>34965684106628</td>\n      <td>30209</td>\n    </tr>\n    <tr>\n      <th>3</th>\n      <td>2608079724</td>\n      <td>50169.5</td>\n      <td>15487105413879</td>\n      <td>15820</td>\n    </tr>\n    <tr>\n      <th>4</th>\n      <td>502841790</td>\n      <td>8685.5</td>\n      <td>2874569542209</td>\n      <td>3028</td>\n    </tr>\n    <tr>\n      <th>5</th>\n      <td>2603834260</td>\n      <td>48619.0</td>\n      <td>15955867010862</td>\n      <td>15801</td>\n    </tr>\n    <tr>\n      <th>...</th>\n      <td>...</td>\n      <td>...</td>\n      <td>...</td>\n      <td>...</td>\n    </tr>\n    <tr>\n      <th>288967</th>\n      <td>47791</td>\n      <td>3.5</td>\n      <td>1689748357</td>\n      <td>1</td>\n    </tr>\n    <tr>\n      <th>288971</th>\n      <td>98408</td>\n      <td>0.5</td>\n      <td>1689798322</td>\n      <td>1</td>\n    </tr>\n    <tr>\n      <th>288975</th>\n      <td>154483</td>\n      <td>4.0</td>\n      <td>1689812351</td>\n      <td>1</td>\n    </tr>\n    <tr>\n      <th>288977</th>\n      <td>291389</td>\n      <td>3.0</td>\n      <td>1689815902</td>\n      <td>1</td>\n    </tr>\n    <tr>\n      <th>288983</th>\n      <td>254114</td>\n      <td>3.0</td>\n      <td>1689834886</td>\n      <td>1</td>\n    </tr>\n  </tbody>\n</table>\n<p>83239 rows × 4 columns</p>\n</div>"
     },
     "execution_count": 61,
     "metadata": {},
     "output_type": "execute_result"
    }
   ],
   "source": [
    "grouped_ratings"
   ],
   "metadata": {
    "collapsed": false,
    "ExecuteTime": {
     "end_time": "2024-04-23T16:13:28.004695800Z",
     "start_time": "2024-04-23T16:13:27.988470300Z"
    }
   },
   "id": "eae384f6053b69ed",
   "execution_count": 61
  },
  {
   "cell_type": "code",
   "outputs": [],
   "source": [
    "grouped_ratings[\"avg_rating\"] = grouped_ratings[\"rating\"]/grouped_ratings[\"no_people_rated\"]"
   ],
   "metadata": {
    "collapsed": false,
    "ExecuteTime": {
     "end_time": "2024-04-23T16:13:28.089972600Z",
     "start_time": "2024-04-23T16:13:28.007918800Z"
    }
   },
   "id": "7b982d5a1a84bf39",
   "execution_count": 62
  },
  {
   "cell_type": "code",
   "outputs": [
    {
     "data": {
      "text/plain": "              userId    rating        timestamp  no_people_rated  avg_rating\nmovieId                                                                     \n171011     343910470    9086.0    3186768141626             2041    4.451739\n159817     503560410   13411.0    4681464629694             3015    4.448093\n170705     470416403   12542.0    4464049315381             2835    4.423986\n318      20213155335  540156.0  156345852293172           122296    4.416792\n202439    2071618320   53687.0   20015714719947            12399    4.329946\n...              ...       ...              ...              ...         ...\n2555       285063817    2896.5    1898360097339             1679    1.725134\n57532      194063825    1903.0    1636766416042             1172    1.623720\n43919      183721607    1828.0    1496965366895             1130    1.617699\n3593       879774150    8615.0    6537777504093             5414    1.591245\n50798      258672692    2239.0    2098618862576             1532    1.461488\n\n[4461 rows x 5 columns]",
      "text/html": "<div>\n<style scoped>\n    .dataframe tbody tr th:only-of-type {\n        vertical-align: middle;\n    }\n\n    .dataframe tbody tr th {\n        vertical-align: top;\n    }\n\n    .dataframe thead th {\n        text-align: right;\n    }\n</style>\n<table border=\"1\" class=\"dataframe\">\n  <thead>\n    <tr style=\"text-align: right;\">\n      <th></th>\n      <th>userId</th>\n      <th>rating</th>\n      <th>timestamp</th>\n      <th>no_people_rated</th>\n      <th>avg_rating</th>\n    </tr>\n    <tr>\n      <th>movieId</th>\n      <th></th>\n      <th></th>\n      <th></th>\n      <th></th>\n      <th></th>\n    </tr>\n  </thead>\n  <tbody>\n    <tr>\n      <th>171011</th>\n      <td>343910470</td>\n      <td>9086.0</td>\n      <td>3186768141626</td>\n      <td>2041</td>\n      <td>4.451739</td>\n    </tr>\n    <tr>\n      <th>159817</th>\n      <td>503560410</td>\n      <td>13411.0</td>\n      <td>4681464629694</td>\n      <td>3015</td>\n      <td>4.448093</td>\n    </tr>\n    <tr>\n      <th>170705</th>\n      <td>470416403</td>\n      <td>12542.0</td>\n      <td>4464049315381</td>\n      <td>2835</td>\n      <td>4.423986</td>\n    </tr>\n    <tr>\n      <th>318</th>\n      <td>20213155335</td>\n      <td>540156.0</td>\n      <td>156345852293172</td>\n      <td>122296</td>\n      <td>4.416792</td>\n    </tr>\n    <tr>\n      <th>202439</th>\n      <td>2071618320</td>\n      <td>53687.0</td>\n      <td>20015714719947</td>\n      <td>12399</td>\n      <td>4.329946</td>\n    </tr>\n    <tr>\n      <th>...</th>\n      <td>...</td>\n      <td>...</td>\n      <td>...</td>\n      <td>...</td>\n      <td>...</td>\n    </tr>\n    <tr>\n      <th>2555</th>\n      <td>285063817</td>\n      <td>2896.5</td>\n      <td>1898360097339</td>\n      <td>1679</td>\n      <td>1.725134</td>\n    </tr>\n    <tr>\n      <th>57532</th>\n      <td>194063825</td>\n      <td>1903.0</td>\n      <td>1636766416042</td>\n      <td>1172</td>\n      <td>1.623720</td>\n    </tr>\n    <tr>\n      <th>43919</th>\n      <td>183721607</td>\n      <td>1828.0</td>\n      <td>1496965366895</td>\n      <td>1130</td>\n      <td>1.617699</td>\n    </tr>\n    <tr>\n      <th>3593</th>\n      <td>879774150</td>\n      <td>8615.0</td>\n      <td>6537777504093</td>\n      <td>5414</td>\n      <td>1.591245</td>\n    </tr>\n    <tr>\n      <th>50798</th>\n      <td>258672692</td>\n      <td>2239.0</td>\n      <td>2098618862576</td>\n      <td>1532</td>\n      <td>1.461488</td>\n    </tr>\n  </tbody>\n</table>\n<p>4461 rows × 5 columns</p>\n</div>"
     },
     "execution_count": 63,
     "metadata": {},
     "output_type": "execute_result"
    }
   ],
   "source": [
    "grouped_ratings.sort_values('avg_rating', ascending=False, inplace=True)\n",
    "grouped_ratings = grouped_ratings[grouped_ratings[\"no_people_rated\"]>1000]\n",
    "grouped_ratings"
   ],
   "metadata": {
    "collapsed": false,
    "ExecuteTime": {
     "end_time": "2024-04-23T16:13:28.154022700Z",
     "start_time": "2024-04-23T16:13:28.052010700Z"
    }
   },
   "id": "b43742b166d3abec",
   "execution_count": 63
  },
  {
   "cell_type": "code",
   "outputs": [
    {
     "data": {
      "text/plain": "        suitable_genre\nmovieId               \n5               Comedy\n8            Adventure\n9               Action\n14               Drama\n18              Comedy\n...                ...\n288953          Comedy\n288955           Drama\n288957          Horror\n288959           Drama\n288965         Romance\n\n[32210 rows x 1 columns]",
      "text/html": "<div>\n<style scoped>\n    .dataframe tbody tr th:only-of-type {\n        vertical-align: middle;\n    }\n\n    .dataframe tbody tr th {\n        vertical-align: top;\n    }\n\n    .dataframe thead th {\n        text-align: right;\n    }\n</style>\n<table border=\"1\" class=\"dataframe\">\n  <thead>\n    <tr style=\"text-align: right;\">\n      <th></th>\n      <th>suitable_genre</th>\n    </tr>\n    <tr>\n      <th>movieId</th>\n      <th></th>\n    </tr>\n  </thead>\n  <tbody>\n    <tr>\n      <th>5</th>\n      <td>Comedy</td>\n    </tr>\n    <tr>\n      <th>8</th>\n      <td>Adventure</td>\n    </tr>\n    <tr>\n      <th>9</th>\n      <td>Action</td>\n    </tr>\n    <tr>\n      <th>14</th>\n      <td>Drama</td>\n    </tr>\n    <tr>\n      <th>18</th>\n      <td>Comedy</td>\n    </tr>\n    <tr>\n      <th>...</th>\n      <td>...</td>\n    </tr>\n    <tr>\n      <th>288953</th>\n      <td>Comedy</td>\n    </tr>\n    <tr>\n      <th>288955</th>\n      <td>Drama</td>\n    </tr>\n    <tr>\n      <th>288957</th>\n      <td>Horror</td>\n    </tr>\n    <tr>\n      <th>288959</th>\n      <td>Drama</td>\n    </tr>\n    <tr>\n      <th>288965</th>\n      <td>Romance</td>\n    </tr>\n  </tbody>\n</table>\n<p>32210 rows × 1 columns</p>\n</div>"
     },
     "execution_count": 64,
     "metadata": {},
     "output_type": "execute_result"
    }
   ],
   "source": [
    "df_movies = pd.read_csv('ml-latest/movies.csv')\n",
    "pop_genres = [\"Action\", \"Adventure\", \"Animation\", \"Comedy\", \"Crime\", \"Drama\", \n",
    "              \"Fantasy\", \"Horror\", \"Mystery\", \"Romance\", \"Sci-Fi\", \"Thriller\"]\n",
    "hm_suitability = {}\n",
    "genre_suitable_lst = []\n",
    "for i in range(len(df_movies)):\n",
    "    genre_temp_storage = \"\"\n",
    "    movie = df_movies.iloc[i]\n",
    "    all_genres = movie[\"genres\"]\n",
    "    is_suitable = 0\n",
    "    for genre in pop_genres: \n",
    "        if genre in all_genres:\n",
    "            is_suitable += 1\n",
    "            genre_temp_storage = genre\n",
    "    if is_suitable == 1:\n",
    "        hm_suitability[movie[\"movieId\"]] = genre_temp_storage\n",
    "    else:\n",
    "        hm_suitability[movie[\"movieId\"]] = \"Not suitable\"\n",
    "df_suitability = pd.DataFrame()\n",
    "df_suitability[\"movieId\"] = hm_suitability.keys()\n",
    "df_suitability[\"suitable_genre\"] = hm_suitability.values()\n",
    "df_suitability.set_index(\"movieId\", inplace=True)\n",
    "df_suitability = df_suitability[df_suitability[\"suitable_genre\"] != \"Not suitable\"]\n",
    "df_suitability"
   ],
   "metadata": {
    "collapsed": false,
    "ExecuteTime": {
     "end_time": "2024-04-23T16:13:32.884875700Z",
     "start_time": "2024-04-23T16:13:28.093209600Z"
    }
   },
   "id": "fc3fe45c462d1874",
   "execution_count": 64
  },
  {
   "cell_type": "markdown",
   "source": [
    "join using the movie id"
   ],
   "metadata": {
    "collapsed": false
   },
   "id": "bfb05d6f082df686"
  },
  {
   "cell_type": "code",
   "outputs": [
    {
     "data": {
      "text/plain": "              userId    rating        timestamp  no_people_rated  avg_rating  \\\nmovieId                                                                        \n1203      3738563090   96992.5   29894679700250            22730    4.267158   \n527      13929219732  357340.5  103671567916204            84232    4.242337   \n1193      8118516317  207758.5   61568690477830            49316    4.212801   \n750       5650978895  144160.5   42473159316615            34324    4.199991   \n26082      213092748    5374.0    1897779020524             1282    4.191888   \n...              ...       ...              ...              ...         ...   \n1981       243854131    2772.0    1714465547406             1495    1.854181   \n1760       552474506    6083.5    3830780656494             3317    1.834037   \n6482       381293121    4065.5    2992591178695             2292    1.773778   \n2555       285063817    2896.5    1898360097339             1679    1.725134   \n57532      194063825    1903.0    1636766416042             1172    1.623720   \n\n        suitable_genre  \nmovieId                 \n1203             Drama  \n527              Drama  \n1193             Drama  \n750             Comedy  \n26082            Drama  \n...                ...  \n1981            Horror  \n1760            Comedy  \n6482            Comedy  \n2555            Comedy  \n57532           Comedy  \n\n[1078 rows x 6 columns]",
      "text/html": "<div>\n<style scoped>\n    .dataframe tbody tr th:only-of-type {\n        vertical-align: middle;\n    }\n\n    .dataframe tbody tr th {\n        vertical-align: top;\n    }\n\n    .dataframe thead th {\n        text-align: right;\n    }\n</style>\n<table border=\"1\" class=\"dataframe\">\n  <thead>\n    <tr style=\"text-align: right;\">\n      <th></th>\n      <th>userId</th>\n      <th>rating</th>\n      <th>timestamp</th>\n      <th>no_people_rated</th>\n      <th>avg_rating</th>\n      <th>suitable_genre</th>\n    </tr>\n    <tr>\n      <th>movieId</th>\n      <th></th>\n      <th></th>\n      <th></th>\n      <th></th>\n      <th></th>\n      <th></th>\n    </tr>\n  </thead>\n  <tbody>\n    <tr>\n      <th>1203</th>\n      <td>3738563090</td>\n      <td>96992.5</td>\n      <td>29894679700250</td>\n      <td>22730</td>\n      <td>4.267158</td>\n      <td>Drama</td>\n    </tr>\n    <tr>\n      <th>527</th>\n      <td>13929219732</td>\n      <td>357340.5</td>\n      <td>103671567916204</td>\n      <td>84232</td>\n      <td>4.242337</td>\n      <td>Drama</td>\n    </tr>\n    <tr>\n      <th>1193</th>\n      <td>8118516317</td>\n      <td>207758.5</td>\n      <td>61568690477830</td>\n      <td>49316</td>\n      <td>4.212801</td>\n      <td>Drama</td>\n    </tr>\n    <tr>\n      <th>750</th>\n      <td>5650978895</td>\n      <td>144160.5</td>\n      <td>42473159316615</td>\n      <td>34324</td>\n      <td>4.199991</td>\n      <td>Comedy</td>\n    </tr>\n    <tr>\n      <th>26082</th>\n      <td>213092748</td>\n      <td>5374.0</td>\n      <td>1897779020524</td>\n      <td>1282</td>\n      <td>4.191888</td>\n      <td>Drama</td>\n    </tr>\n    <tr>\n      <th>...</th>\n      <td>...</td>\n      <td>...</td>\n      <td>...</td>\n      <td>...</td>\n      <td>...</td>\n      <td>...</td>\n    </tr>\n    <tr>\n      <th>1981</th>\n      <td>243854131</td>\n      <td>2772.0</td>\n      <td>1714465547406</td>\n      <td>1495</td>\n      <td>1.854181</td>\n      <td>Horror</td>\n    </tr>\n    <tr>\n      <th>1760</th>\n      <td>552474506</td>\n      <td>6083.5</td>\n      <td>3830780656494</td>\n      <td>3317</td>\n      <td>1.834037</td>\n      <td>Comedy</td>\n    </tr>\n    <tr>\n      <th>6482</th>\n      <td>381293121</td>\n      <td>4065.5</td>\n      <td>2992591178695</td>\n      <td>2292</td>\n      <td>1.773778</td>\n      <td>Comedy</td>\n    </tr>\n    <tr>\n      <th>2555</th>\n      <td>285063817</td>\n      <td>2896.5</td>\n      <td>1898360097339</td>\n      <td>1679</td>\n      <td>1.725134</td>\n      <td>Comedy</td>\n    </tr>\n    <tr>\n      <th>57532</th>\n      <td>194063825</td>\n      <td>1903.0</td>\n      <td>1636766416042</td>\n      <td>1172</td>\n      <td>1.623720</td>\n      <td>Comedy</td>\n    </tr>\n  </tbody>\n</table>\n<p>1078 rows × 6 columns</p>\n</div>"
     },
     "execution_count": 65,
     "metadata": {},
     "output_type": "execute_result"
    }
   ],
   "source": [
    "grouped_ratings = grouped_ratings.join(df_suitability, how=\"inner\")\n",
    "grouped_ratings"
   ],
   "metadata": {
    "collapsed": false,
    "ExecuteTime": {
     "end_time": "2024-04-23T16:13:32.898966600Z",
     "start_time": "2024-04-23T16:13:32.882644100Z"
    }
   },
   "id": "9a79087d72674a4d",
   "execution_count": 65
  },
  {
   "cell_type": "code",
   "outputs": [],
   "source": [],
   "metadata": {
    "collapsed": false
   },
   "id": "37a8448cbe1a9df2"
  }
 ],
 "metadata": {
  "kernelspec": {
   "display_name": "Python 3",
   "language": "python",
   "name": "python3"
  },
  "language_info": {
   "codemirror_mode": {
    "name": "ipython",
    "version": 2
   },
   "file_extension": ".py",
   "mimetype": "text/x-python",
   "name": "python",
   "nbconvert_exporter": "python",
   "pygments_lexer": "ipython2",
   "version": "2.7.6"
  }
 },
 "nbformat": 4,
 "nbformat_minor": 5
}
